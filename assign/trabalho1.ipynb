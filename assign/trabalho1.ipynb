{
 "cells": [
  {
   "cell_type": "markdown",
   "metadata": {},
   "source": [
    "# Trabalho 01 - Laboratório de Otimização"
   ]
  },
  {
   "cell_type": "markdown",
   "metadata": {},
   "source": [
    "Considere as instâncias do capacity lot-size problem with return (CLSPR) do repositório: \n",
    "https://github.com/jesusossian/opt_lab_2024_1/tree/main/notebooks/instances/csifa\n",
    "\n",
    "### Distribuição intância-aluno\n",
    "- CARLOS DANIEL BARBOSA ALVES: instâncias 1 a 12.\n",
    "- DANIEL BRUNO JUVENAL DA SILVA: intâncias 13 a 24.\n",
    "- DAVI PEREIRA DE OLIVEIRA: instâncias 25 a 36.\n",
    "- FABRICIO ARAUJO BARBOSA: instâncias 37 a 48.\n",
    "- GABRIEL DIMITRI DA SILVA: instâncias 49 a 60.\n",
    "- ICARO DE SOUSA RODRIGUES: instâncias 61 a 72.\n",
    "- LUCELENA DOS SANTOS DE SOUSA: instâncias 73 a 84."
   ]
  },
  {
   "cell_type": "markdown",
   "metadata": {},
   "source": [
    "## Questão 1\n",
    "\n",
    "1. Implemente as formulações padrão, short path e multicommodity do capacity lot-size problem with return (CLSPR). \n",
    "\n",
    "2. Execute experimentos e resolva a relaxação linear de cada instância. Exporte as seguintes informações: melhor solução e tempo de execução.\n",
    "\n",
    "4. Crie tabelas(dataframe) com os resultados encontrados nos items 2."
   ]
  },
  {
   "cell_type": "markdown",
   "metadata": {},
   "source": [
    "## Questão 2\n",
    "\n",
    "1. Implemente as formulações padrão, short path e multicommodity do CLSPR. \n",
    "\n",
    "Configurações dos parametros:\n",
    "- Algoritmo do nó raiz(method): dual simplex \n",
    "- Algoritmo do Branch-and-Bound(NodeMethod): dual simplex\n",
    "- Tempo limite(TimeLimit): 600s\n",
    "- Número de threads(Threads): 1\n",
    "- MIPGap: 1.e-6\n",
    "\n",
    "2.  Execute experimentos e resolva o MIP de cada instâncias. Exporte as seguintes informações: melhor bound, melhor solução, gap, tempo de execução, número de nós.\n",
    "\n",
    "3. Crie tabelas(dataframe's) com os resultados encontrados nos items 2.\n"
   ]
  },
  {
   "cell_type": "markdown",
   "metadata": {},
   "source": [
    "## Questão 3\n",
    "\n",
    "1. Implemente os algoritmos relax-and-fix e fix-and-optimize utilizando a formulação que resolveu o maior número de instâncias na **Questão 2**.\n",
    "\n",
    "2. Execute experimentos usando cada instância e exporte as seguintes informações: solução do relax-and-fix, tempo de execução do relax-and-fix, solução do fix-and-optimize, tempo do fix-and-optimize.\n",
    "\n",
    "3. Crie tabelas(dataframe's) com os resultados encontrados no item 2."
   ]
  },
  {
   "cell_type": "markdown",
   "metadata": {},
   "source": [
    "## Questão 4\n",
    "\n",
    "1. Considere a formulação que resolveu por otimalidade o maior número de instâncias na **Questão 2**. Resolva o MIP usando essa formulação para cada instância e defina como solução inicial o valor encontrado na **Questão 3**.\n",
    "\n",
    "2. Crie uma tabela(dataframe) com os resultados encontrados no item 2.\n",
    "\n",
    "3. Compare os resultados encontrados com os resultados da **Questão 2**."
   ]
  },
  {
   "cell_type": "markdown",
   "metadata": {},
   "source": [
    "## Questão 5\n",
    "\n",
    "Faça um relatório sobre os resultados encontrados nos experimentos das questões 1 a 4 e suas observações."
   ]
  },
  {
   "cell_type": "markdown",
   "metadata": {},
   "source": []
  }
 ],
 "metadata": {
  "language_info": {
   "name": "python"
  }
 },
 "nbformat": 4,
 "nbformat_minor": 2
}
