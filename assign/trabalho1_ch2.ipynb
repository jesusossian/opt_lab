{
 "cells": [
  {
   "cell_type": "markdown",
   "metadata": {},
   "source": [
    "# Trabalho 01- Chamada 2 - Laboratório de Otimização"
   ]
  },
  {
   "cell_type": "markdown",
   "metadata": {},
   "source": [
    "Considere as instâncias do capacity lot-size problem with return (CLSPR) do repositório: \n",
    "https://github.com/jesusossian/opt_lab_2024_1/tree/main/notebooks/instances/csifa\n",
    "\n",
    "### Distribuição intância-aluno\n",
    "* CARLOS DANIEL BARBOSA ALVES: instâncias 85,86 e 87.\n",
    "* DANIEL BRUNO JUVENAL DA SILVA: intâncias 88, 89 e 90.\n",
    "* DAVI PEREIRA DE OLIVEIRA: instâncias 91, 92 e 93 .\n",
    "* FABRICIO ARAUJO BARBOSA: instâncias 94, 95 e 96.\n",
    "* GABRIEL DIMITRI DA SILVA: instâncias 97, 98 e 99.\n",
    "* ICARO DE SOUSA RODRIGUES: instâncias 100, 101 e 102.\n",
    "* LUCELENA DOS SANTOS DE SOUSA: instâncias 103, 104 e 105.\n",
    "\n",
    "### Observação\n",
    "* Crie uma pasta e salve os notebooks nesta pasta.\n",
    "* Crie uma subpasta **resultados** e salve as saidas com resultados na subpasta."
   ]
  },
  {
   "cell_type": "markdown",
   "metadata": {},
   "source": [
    "## Questão 1 (3.0pts)\n",
    "\n",
    "1. Implemente o MIP das formulações short path e multicommodity do CLSPR. \n",
    "\n",
    "Configurações dos parametros:\n",
    "* Algoritmo do nó raiz(method): dual simplex \n",
    "* Algoritmo do Branch-and-Bound(NodeMethod): dual simplex\n",
    "* Tempo limite(TimeLimit): 300s\n",
    "* Número de threads(Threads): 1\n",
    "* MIPGap: 1.e-6\n",
    "\n",
    "2.  Execute experimentos e resolva o MIP de cada instâncias. \n",
    "Exporte as seguintes informações: objbound, objval, gap, runtime, nodescount.\n",
    "Salve os resultados(.csv, .txt) na subpasta **resultados**.\n",
    "\n",
    "3. Crie uma tabela(dataframe) com os resultados encontrados nos items 2.\n"
   ]
  },
  {
   "cell_type": "markdown",
   "metadata": {},
   "source": [
    "## Questão 2 (3.0pts)\n",
    "\n",
    "1. Implemente os algoritmos relax-and-fix e fix-and-optimize utilizando a formulação que teve o melhor desempenho na **Questão 2**.\n",
    "\n",
    "2. Execute experimentos usando cada instância e exporte as seguintes informações: solução do relax-and-fix, tempo de execução do relax-and-fix, solução do fix-and-optimize, tempo do fix-and-optimize. \n",
    "Salve os resultados(.csv, .txt) na subpasta **resultados**.\n",
    "\n",
    "3. Crie uma tabela(dataframe) com os resultados encontrados no item 2."
   ]
  },
  {
   "cell_type": "markdown",
   "metadata": {},
   "source": [
    "## Questão 3 (3.0pts)\n",
    "\n",
    "1. Elabore uma tabela(dataframe) contendo os dataframes das questões 1 e 2.\n",
    "\n",
    "2. Faça um relatório com base nos resultados dos experimentos das questões 1 e 2 e suas observações no dataframe do item 1.\n",
    "\n",
    "3. Descreva o ambiente(configuração do computador, linguagem e bibliotecas) computacional utilizado nos experimentos."
   ]
  },
  {
   "cell_type": "markdown",
   "metadata": {},
   "source": []
  }
 ],
 "metadata": {
  "language_info": {
   "name": "python"
  }
 },
 "nbformat": 4,
 "nbformat_minor": 2
}
