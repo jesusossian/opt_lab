{
 "cells": [
  {
   "cell_type": "markdown",
   "metadata": {},
   "source": [
    "# Trabalho 02 - Laboratório de Otimização"
   ]
  },
  {
   "cell_type": "markdown",
   "metadata": {},
   "source": [
    "Considere as instâncias do capacity lot-size problem with return (CLSPR) do repositório: \n",
    "https://github.com/jesusossian/opt_lab_2024_1/tree/main/notebooks/instances/trabalho2\n",
    "\n",
    "### Distribuição intância-aluno\n",
    "- CARLOS DANIEL BARBOSA ALVES: \n",
    "- DANIEL BRUNO JUVENAL DA SILVA: pasta qkp30_50\n",
    "- DAVI PEREIRA DE OLIVEIRA: pasta qkp30_60\n",
    "- FABRICIO ARAUJO BARBOSA: pasta qkp30_70\n",
    "- GABRIEL DIMITRI DA SILVA: pasta qkp30_80\n",
    "- ICARO DE SOUSA RODRIGUES: pasta qkp30_90\n",
    "- LUCELENA DOS SANTOS DE SOUSA: pasta qkp30_100"
   ]
  },
  {
   "cell_type": "markdown",
   "metadata": {},
   "source": [
    "## Questão 1\n",
    "\n",
    "Considere o problema da mochila quadrática 0-1 (QKP 0-1).\n",
    "\n",
    "-  $N = \\{1, \\ldots, n\\}$ um conjunto de itens\n",
    "\n",
    "-  $P = \\{p_{ij} \\in \\mathbb{R}_{+} : \\ i \\leq j, \\ i, j \\in N \\}$ o conjunto dos benefícios aos itens de $N$ e a relação entre eles.\n",
    "\n",
    "-  $W = \\{ w_i \\in \\mathbb{N} : i \\in N \\}$ o conjunto dos pesos dos itens de $N$.\n",
    "\n",
    "-  $c \\in \\mathbb{N}$ capacidade da mochila, onde $\\displaystyle\\max_{i \\in N} w_i \\leq c < \\sum_{i  \\in N} w_i$.\n",
    "\n",
    "Formulação MIP do QKP 0-1\n",
    "\n",
    "\\begin{align}\n",
    "max \\; & \\sum_{i=1}^{n} p_{i,i} x_i + \\sum_{i=1}^{n} \\sum_{j=i+1}^{n} p_{ij} y_{i,j} \\tag{0} \\\\ \n",
    "& \\sum_{i=1}^{n} w_{i} x_{i} \\leq c \\tag{1} \\\\\n",
    "&  y_{i,j} \\leq x_{i}, \\; i=1,\\ldots,n, \\; j=i+1,\\ldots,n \\tag{2} \\\\\n",
    "&  y_{i,j} \\leq x_{j}, \\; i=1,\\ldots,n, \\; j=i+1,\\ldots,n \\tag{3} \\\\\n",
    "&  x_{i} + x_{j} \\leq y_{i,j} + 1, \\; i=1,\\ldots,n, \\; j=i+1,\\ldots,n \\tag{4} \\\\\n",
    "& x_{i} \\in \\left\\{0, 1 \\right\\}, \\; i=1,\\ldots,n, \\tag{5} \\\\\n",
    "& y_{i,j} \\in \\left\\{0,1 \\right\\}, \\; i=1,\\ldots,n, \\; j=i+1,\\ldots,n \\tag{6}\n",
    "\\end{align}\n",
    "\n",
    "1. Implemente um algoritmo **branch-and-cut** para resolver o QKP 0-1 onde as desigualdades $x_{i} + x_{j} \\leq y_{i,j} + 1$ são inseridas como corte ao longo da arvoré de **branch-and-bound**. \n",
    "\n",
    "Veja o código:\n",
    "https://github.com/jesusossian/opt_lab_2024_1/blob/main/notebooks/qkp01_bc.ipynb.\n",
    "\n",
    "Configurações dos parametros:\n",
    "- Algoritmo do nó raiz(method): dual simplex \n",
    "- Algoritmo do Branch-and-Bound(NodeMethod): dual simplex\n",
    "- Tempo limite(TimeLimit): 600s\n",
    "- Número de threads(Threads): 1\n",
    "- MIPGap: 1.e-6\n",
    "\n",
    "2.  Execute experimentos com o seu respectivo grupo de instâncias. \n",
    "Exporte as seguintes informações: melhor bound, melhor solução, gap, tempo de execução, número de nós e status(se a instância foi resolvida(1) ou não(0)).\n",
    "\n",
    "3. Crie tabela(dataframe) com os resultados encontrados no item 2."
   ]
  },
  {
   "cell_type": "markdown",
   "metadata": {},
   "source": [
    "## Questão 2\n",
    "\n",
    "Considere o QKP 0-1.\n",
    "\n",
    "1. Implemente um algoritmo estilo **lazy constraint** onde a restrição (1)\n",
    "$$ \\sum_{i=1}^{n} w_{i} x_{i} \\leq c$$\n",
    "é inserida como **lazy constraint**\n",
    "\n",
    "Veja o código:\n",
    "https://github.com/jesusossian/opt_lab_2024_1/blob/main/notebooks/tsp_lazy.ipynb\n",
    "\n",
    "Configurações dos parametros:\n",
    "- Algoritmo do nó raiz(method): dual simplex \n",
    "- Algoritmo do Branch-and-Bound(NodeMethod): dual simplex\n",
    "- Tempo limite(TimeLimit): 600s\n",
    "- Número de threads(Threads): 1\n",
    "- MIPGap: 1.e-6\n",
    "\n",
    "2.  Execute experimentos com seu respectivo grupo de instâncias instância. Exporte as seguintes informações: melhor bound, melhor solução, gap, tempo de execução, número de nós e status(se a instância foi resolvida(1) ou não(0)).\n",
    "\n",
    "3. Crie uma tabela(dataframe) com os resultados encontrados nos items 2.\n"
   ]
  },
  {
   "cell_type": "markdown",
   "metadata": {},
   "source": [
    "## Questão 3\n",
    "\n",
    "Faça um relatório comparando os resultados encontrados nos experimentos das questões 1 e 2.\n",
    "\n",
    "Descreva o ambiente(configuração do computador, linguagem e bibliotecas) computacional utilizado nos experimentos."
   ]
  }
 ],
 "metadata": {
  "language_info": {
   "name": "python"
  }
 },
 "nbformat": 4,
 "nbformat_minor": 2
}
