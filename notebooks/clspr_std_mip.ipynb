{
 "cells": [
  {
   "cell_type": "code",
   "execution_count": null,
   "metadata": {},
   "outputs": [],
   "source": [
    "import numpy as np\n",
    "import pandas as pd\n",
    "import gurobipy as gp\n",
    "from gurobipy import GRB\n",
    "\n",
    "from pathlib import Path\n",
    "import os\n",
    "import sys\n",
    "from datetime import datetime, date\n"
   ]
  },
  {
   "cell_type": "code",
   "execution_count": null,
   "metadata": {},
   "outputs": [],
   "source": [
    "result = Path('result/')\n",
    "report = Path('report/')\n",
    "instances = Path('instances/csifa')"
   ]
  },
  {
   "cell_type": "code",
   "execution_count": null,
   "metadata": {},
   "outputs": [],
   "source": [
    "file_name = sys.argv[1]"
   ]
  },
  {
   "cell_type": "code",
   "execution_count": null,
   "metadata": {},
   "outputs": [],
   "source": [
    "def read_instance(file_name):\n",
    "\t\n",
    "\tarq = open(file_name)\n",
    "\t\n",
    "\tN = int(arq.readline())\n",
    "\t\n",
    "\tPR  = [0]*N\n",
    "\tPP  = [0]*N\n",
    "\n",
    "\tFR = [float(arq.readline())]*N\n",
    "\tFP = [float(arq.readline())]*N\n",
    "\n",
    "\tHR = [float(arq.readline())]*N\n",
    "\tHP = [float(arq.readline())]*N\n",
    "\n",
    "\tD = [int(i) for i in arq.readline().split()]\n",
    "\t\n",
    "\tR = [int(i) for i in arq.readline().split()]\n",
    "\n",
    "\tC = float(arq.readline().rstrip('\\n'))\n",
    "\t\n",
    "\treturn N, PP, PR, FP, FR, HR, HP, D, R, C"
   ]
  },
  {
   "cell_type": "code",
   "execution_count": null,
   "metadata": {},
   "outputs": [],
   "source": [
    "MAX_CPU_TIME = 3600.0\n",
    "EPSILON = 1e-6\n",
    "\n",
    "def clsr_std_mip(N, PP, PR, FP, FR, HR, HP, D, R, SD, SR, C):\n",
    "\ttry:\n",
    "\n",
    "\t\t# Create a new model\n",
    "\t\tmodel = gp.Model(\"clsr_std_mip\")\n",
    "\n",
    "\t\t# Create variables\n",
    "\t\txp = model.addVars(list(range(N)), vtype=GRB.CONTINUOUS, name=\"xp\")\n",
    "\t\typ = model.addVars(list(range(N)), vtype=GRB.BINARY, name=\"yp\")\n",
    "\t\tsp = model.addVars(list(range(N)), vtype=GRB.CONTINUOUS, name=\"sp\")\n",
    "\t\txr = model.addVars(list(range(N)), vtype=GRB.CONTINUOUS, name=\"xr\")\n",
    "\t\tyr = model.addVars(list(range(N)), vtype=GRB.BINARY, name=\"yr\")\n",
    "\t\tsr = model.addVars(list(range(N)), vtype=GRB.CONTINUOUS, name=\"sr\")\n",
    "\t\t\n",
    "\t\tmodel.update()\n",
    "\n",
    "\t\t## Set objective\n",
    "\t\tmodel.setObjective(gp.quicksum(\n",
    "\t\t\tPP[i]*xp[i] + sp[i]*HP[i] + \n",
    "\t\t\txr[i]*PR[i] + sr[i]*HR[i] + \n",
    "\t\t\typ[i]*FP[i] + yr[i]*FR[i] for i in range(N)), sense = GRB.MINIMIZE)\n",
    "\n",
    "\t\t## Add constraints\n",
    "\t\tmodel.addConstr(xp[0] + xr[0] - sp[0] == D[0])\n",
    "\n",
    "\t\tmodel.addConstrs(sp[i-1] + xp[i] + xr[i] - sp[i] == D[i] for i in range(N) if i > 0 )\n",
    "\t\t\n",
    "\t\tmodel.addConstr(R[0] - xr[0] - sr[0] == 0)\n",
    "\t\t\n",
    "\t\tmodel.addConstrs(sr[i-1] + R[i] - xr[i] - sr[i] == 0 for i in range(N) if i > 0)\n",
    "\t\t\n",
    "\t\tmodel.addConstrs(xp[i] - yp[i]*min(SD[i][N-1],C) <= 0 for i in range(N))\n",
    "\t\t\n",
    "\t\tmodel.addConstrs(xr[i] - yr[i]*min(SR[0][i],SD[i][N-1],C) <= 0 for i in range(N))\n",
    "\t\t\n",
    "\t\tmodel.addConstrs(xp[i] + xr[i] <= C for i in range(N))\n",
    "\t    \n",
    "\t\t# export .lp\n",
    "\t\t#model.write(file_name+\"_model.lp\")\n",
    "\n",
    "\t\t# Parameters \n",
    "\t\tmodel.setParam(GRB.Param.TimeLimit, MAX_CPU_TIME)\n",
    "\t\tmodel.setParam(GRB.Param.MIPGap, EPSILON)\n",
    "\t\tmodel.setParam(GRB.Param.Threads, 1)\n",
    "\t\t#model.setParam(GRB.Param.Cuts, -1)\n",
    "\t\t#model.setParam(GRB.Param.Presolve, -1)\n",
    "\n",
    "\t\t# Optimize model\n",
    "\t\tmodel.optimize()\n",
    "\t\t\n",
    "\t\ttmp = 0\n",
    "\t\tif model.status == GRB.OPTIMAL:\n",
    "\t\t\ttmp = 1\n",
    "\n",
    "\t\tprint('Obj: %g' % model.ObjVal)\n",
    "\n",
    "\texcept gp.GurobiError as e:\n",
    "\t\tprint('Error code ' + str(e.errno) + ': ' + str(e))\n",
    "\n",
    "\treturn model.ObjVal, model.ObjBound, model.MIPGap, model.Runtime, model.NodeCount, tmp\n"
   ]
  },
  {
   "cell_type": "code",
   "execution_count": null,
   "metadata": {},
   "outputs": [],
   "source": [
    "def main(file_name):\n",
    "\t\n",
    "\tN, PP, PR, FP, FR, HR, HP, D, R, C = read_instance(os.path.join(instances,file_name))\n",
    "\n",
    "\tSD = (np.zeros((N,N))).tolist()\n",
    "\tSR = (np.zeros((N,N))).tolist()\n",
    "\n",
    "\tfor  i in range(N):\n",
    "\t\tSD[i][i] = D[i]\n",
    "\t\tSR[i][i] = R[i]\n",
    "\t\tfor j in range(i+1,N):\n",
    "\t\t\tSD[i][j] = SD[i][j-1] + D[j]\n",
    "\t\t\tSR[i][j] = SR[i][j-1] + R[j]\n",
    "\n",
    "\tbestsol, bestbound, gap, runtime, numnode, tmp = clsr_std_mip(N, PP, PR, FP, FR, HR, HP, D, R, SD, SR, C)\n",
    "\t\n",
    "\tarquivo = open(os.path.join(result,'clsr_std_mip.txt'),'a')\n",
    "\t\n",
    "\tarquivo.write(file_name+';'+str(round(bestsol,3))+';'+str(round(bestbound,3))+\\\n",
    "\t\t\t\t\t';'+str(round(gap,3))+';'+str(round(runtime,3))+';'+str(round(numnode,3))+\\\n",
    "\t\t\t\t\t';'+str(round(tmp,3))+\n",
    "\t\t\t\t\t'\\n')\n",
    "\n",
    "\tarquivo.close()"
   ]
  },
  {
   "cell_type": "code",
   "execution_count": null,
   "metadata": {},
   "outputs": [],
   "source": [
    "if __name__== \"__main__\" :\n",
    "\n",
    "\tfile_name = f\"c52_1.txt\"\n",
    "\n",
    "\tmain(file_name)"
   ]
  },
  {
   "cell_type": "code",
   "execution_count": null,
   "metadata": {},
   "outputs": [],
   "source": []
  }
 ],
 "metadata": {
  "kernelspec": {
   "display_name": "Python 3",
   "language": "python",
   "name": "python3"
  },
  "language_info": {
   "codemirror_mode": {
    "name": "ipython",
    "version": 3
   },
   "file_extension": ".py",
   "mimetype": "text/x-python",
   "name": "python",
   "nbconvert_exporter": "python",
   "pygments_lexer": "ipython3",
   "version": "3.10.12"
  }
 },
 "nbformat": 4,
 "nbformat_minor": 2
}
