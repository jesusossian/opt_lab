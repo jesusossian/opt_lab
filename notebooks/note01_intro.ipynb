{
 "cells": [
  {
   "cell_type": "markdown",
   "metadata": {},
   "source": [
    "# Introdução"
   ]
  },
  {
   "cell_type": "markdown",
   "metadata": {},
   "source": [
    "## Python\n",
    "\n",
    "- é uma linguagem de programação interpretada, orientada a objetos, de alto nível e com semântica dinâmica.\n",
    "\n",
    "- suporta módulos e pacotes, que encoraja a programação modularizada e reuso de códigos.\n",
    "\n",
    "- é considerada uma linguagem popular para análise de dados que conquistou a comunidade científica.\n",
    "\n",
    "- foi criada em 1990 por Guido Van Rossum(principal autor) no Centro de Matemática Stichting - CWI (http://www.cwi.nl) na Holanda como uma sucessora da linguagem ABC. \n",
    "\n",
    "- é de código aberto (http://opensource.org).\n"
   ]
  },
  {
   "cell_type": "markdown",
   "metadata": {},
   "source": [
    "## Instalação\n",
    "\n",
    "\n",
    "- Dica: digitar no buscador \"install python3 in windows\".\n",
    "\n",
    "- Guia para instalação do python: https://docs.google.com/document/d/1vKMrydUd_a1q-mjKzeqdNAuRNa-0pm-wDF9u__8NpPY/edit?usp=sharing\n",
    "\n",
    "- Anaconda Plataform: \"a distribution of the Python and R programming languages for scientific computing, that aims to simplify package management and deployment\" (Wikipedia).\n"
   ]
  },
  {
   "cell_type": "markdown",
   "metadata": {},
   "source": [
    "## Versão do python"
   ]
  },
  {
   "cell_type": "code",
   "execution_count": 5,
   "metadata": {},
   "outputs": [
    {
     "name": "stdout",
     "output_type": "stream",
     "text": [
      "Python 3.10.12\n"
     ]
    }
   ],
   "source": [
    "!python3 --version "
   ]
  },
  {
   "cell_type": "markdown",
   "metadata": {},
   "source": [
    "## Primeiros passos\n",
    "\n",
    "- Modo iterativo(console): terminal (Linux e MacOS) ou o prompt de comando (Windows).\n",
    "\n",
    "- Modo script: executa um conjunto de instruções contidas em um arquivo .py.\n",
    "\n",
    "- Notebook: ambiente computacional interativo no qual podemos executar um determinado trecho de código."
   ]
  },
  {
   "cell_type": "code",
   "execution_count": null,
   "metadata": {},
   "outputs": [],
   "source": []
  },
  {
   "cell_type": "markdown",
   "metadata": {},
   "source": [
    "## Imprimindo uma string\n",
    "\n",
    "- A função **print()** imprime o valor passado como argumento."
   ]
  },
  {
   "cell_type": "code",
   "execution_count": 3,
   "metadata": {},
   "outputs": [
    {
     "name": "stdout",
     "output_type": "stream",
     "text": [
      "programando em python!\n"
     ]
    }
   ],
   "source": [
    "print(\"programando em python!\")"
   ]
  },
  {
   "cell_type": "code",
   "execution_count": null,
   "metadata": {},
   "outputs": [],
   "source": []
  }
 ],
 "metadata": {
  "kernelspec": {
   "display_name": "Python 3",
   "language": "python",
   "name": "python3"
  },
  "language_info": {
   "codemirror_mode": {
    "name": "ipython",
    "version": 3
   },
   "file_extension": ".py",
   "mimetype": "text/x-python",
   "name": "python",
   "nbconvert_exporter": "python",
   "pygments_lexer": "ipython3",
   "version": "3.10.12"
  }
 },
 "nbformat": 4,
 "nbformat_minor": 2
}
