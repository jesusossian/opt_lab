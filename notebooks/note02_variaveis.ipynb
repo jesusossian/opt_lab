{
 "cells": [
  {
   "cell_type": "markdown",
   "metadata": {},
   "source": [
    "# Variáveis e operadores"
   ]
  },
  {
   "cell_type": "markdown",
   "metadata": {},
   "source": [
    "## Tipos embutidos\n",
    "\n",
    "- Tipos built-ins são objetos nativos da linguagem. Recursos que já vêm prontos para uso.\n",
    "\n",
    "- A função ${\\bf type()}$ verifica o tipo passado como argumento.\n",
    "\n",
    "- A função ${\\bf print()}$ imprime o valor passado como argumento."
   ]
  },
  {
   "cell_type": "code",
   "execution_count": null,
   "metadata": {},
   "outputs": [],
   "source": [
    "type(2) # verifica o tipo passado como argumento"
   ]
  },
  {
   "cell_type": "code",
   "execution_count": null,
   "metadata": {},
   "outputs": [],
   "source": [
    "print(2) # imprime o tipo passado como argumento"
   ]
  },
  {
   "cell_type": "code",
   "execution_count": null,
   "metadata": {},
   "outputs": [],
   "source": [
    "type('python')"
   ]
  },
  {
   "cell_type": "code",
   "execution_count": null,
   "metadata": {},
   "outputs": [],
   "source": [
    "type(3.14)"
   ]
  },
  {
   "cell_type": "code",
   "execution_count": null,
   "metadata": {},
   "outputs": [],
   "source": [
    "type('3.14')"
   ]
  },
  {
   "cell_type": "code",
   "execution_count": null,
   "metadata": {},
   "outputs": [],
   "source": [
    "type(2 + 3j)"
   ]
  },
  {
   "cell_type": "markdown",
   "metadata": {},
   "source": [
    "## Variáveis\n",
    "\n",
    "- variável é um nome que faz referência a um valor."
   ]
  },
  {
   "cell_type": "code",
   "execution_count": null,
   "metadata": {},
   "outputs": [],
   "source": [
    "var0 = 2\n",
    "var1 = \"python\"\n",
    "var2 = 3.14\n",
    "var3 = \"3.14\"\n",
    "var4 = 2 + 3j"
   ]
  },
  {
   "cell_type": "code",
   "execution_count": null,
   "metadata": {},
   "outputs": [],
   "source": [
    "type(var0)"
   ]
  },
  {
   "cell_type": "code",
   "execution_count": null,
   "metadata": {},
   "outputs": [],
   "source": [
    "type(var1)"
   ]
  },
  {
   "cell_type": "code",
   "execution_count": null,
   "metadata": {},
   "outputs": [],
   "source": [
    "type(var2)"
   ]
  },
  {
   "cell_type": "code",
   "execution_count": null,
   "metadata": {},
   "outputs": [],
   "source": [
    "type(var3)"
   ]
  },
  {
   "cell_type": "code",
   "execution_count": null,
   "metadata": {},
   "outputs": [],
   "source": [
    "type(var4)"
   ]
  },
  {
   "cell_type": "markdown",
   "metadata": {},
   "source": [
    "- Relação das 33 palavras reservadas em ${\\bf Python}$.\n",
    "\n",
    "and,  as,  assert,  break,  class,  continue, for, del, from, None, True, \n",
    "\n",
    "elif, global, nonlocal, try, else, if, not, while, except, import, or, \n",
    "\n",
    "with, False, in, pass, yield, finaly, is, raise, def, lambda, return "
   ]
  },
  {
   "cell_type": "markdown",
   "metadata": {},
   "source": [
    "## Instruções, scripts e operadores\n",
    "\n",
    "- instrução: unidade de código que o python pode executar.\n",
    "\n",
    "- script: contém uma sequência de instruções.\n",
    "\n",
    "- operadores aritméticos: símbolos que representam cálculos. "
   ]
  },
  {
   "cell_type": "code",
   "execution_count": null,
   "metadata": {},
   "outputs": [],
   "source": [
    "x = 6"
   ]
  },
  {
   "cell_type": "code",
   "execution_count": null,
   "metadata": {},
   "outputs": [],
   "source": [
    "y = 2"
   ]
  },
  {
   "cell_type": "code",
   "execution_count": null,
   "metadata": {},
   "outputs": [],
   "source": [
    "soma = x + y"
   ]
  },
  {
   "cell_type": "code",
   "execution_count": null,
   "metadata": {},
   "outputs": [],
   "source": [
    "sub = x - y"
   ]
  },
  {
   "cell_type": "code",
   "execution_count": null,
   "metadata": {},
   "outputs": [],
   "source": [
    "print(\"soma = \", soma)"
   ]
  },
  {
   "cell_type": "code",
   "execution_count": null,
   "metadata": {},
   "outputs": [],
   "source": [
    "print(\"subtração = \", sub)"
   ]
  },
  {
   "cell_type": "code",
   "execution_count": null,
   "metadata": {},
   "outputs": [],
   "source": [
    "x = 6\n",
    "y = 2\n",
    "soma = x + y\n",
    "sub = x - y\n",
    "print(\"soma =\", soma)\n",
    "print(\"sub = \", sub)"
   ]
  },
  {
   "cell_type": "markdown",
   "metadata": {},
   "source": [
    "- $+$ (adição): $x$ + $y$ soma entre $x$ e $y$\n",
    "\n",
    "- $-$ (subtração): $x$ - $y$, diferença entre $x$ e $y$\n",
    "\n",
    "- $*$ (multiplicação): $x$ * $y$,  produto entre $x$ e $y$\n",
    "\n",
    "- $/$ (divisão): $x$ / $y$, divisão entre $x$ e $y$\n",
    "\n",
    "- $//$ (divisão inteira): $x$ // $y$, divisão inteira entre $x$ e $y$\n",
    "\n",
    "- $\\%$ (módulo): $x$ \\% $y$, resto da divisão entre $x$ e $y$\n",
    "\n",
    "- $**$ (exponenciação): $x$ ** $y$, $x$ elevado a potência de $y$\n"
   ]
  },
  {
   "cell_type": "markdown",
   "metadata": {},
   "source": [
    "## Input\n",
    "\n",
    "- ${input():}$ função que captura a entrada de valores."
   ]
  },
  {
   "cell_type": "code",
   "execution_count": null,
   "metadata": {},
   "outputs": [],
   "source": [
    "entrada = input(\"digite algo: \\n\")"
   ]
  },
  {
   "cell_type": "code",
   "execution_count": null,
   "metadata": {},
   "outputs": [],
   "source": [
    "print(entrada)"
   ]
  },
  {
   "cell_type": "code",
   "execution_count": null,
   "metadata": {},
   "outputs": [],
   "source": [
    "numero = input('Digite um número: \\n')\n",
    "print('Número digitado: ', numero)"
   ]
  },
  {
   "cell_type": "code",
   "execution_count": null,
   "metadata": {},
   "outputs": [],
   "source": [
    "nome = input('Digite seu nome: \\n')\n",
    "apelido = input('Digite seu apelido: \\n')"
   ]
  },
  {
   "cell_type": "code",
   "execution_count": null,
   "metadata": {},
   "outputs": [],
   "source": [
    "print('Nome: ' + nome + '. Apelido: ' + apelido)"
   ]
  },
  {
   "cell_type": "markdown",
   "metadata": {},
   "source": [
    "##  Operadores de comparação\n",
    "\n",
    "- $x$ == $y$, $x$ igual a $y$\n",
    "\n",
    "- $x$ != $y$, $x$ diferente $y$\n",
    "\n",
    "- $x$ < $y$, $x$ menor do que  $y$\n",
    "\n",
    "- $x$ > $y$, $x$ maior do que $y$\n",
    "\n",
    "- $x$ <= $y$, $x$ menor ou igual a $y$\n",
    "\n",
    "- $x$ >= $y$, $x$ maior ou igual a $y$\n",
    "\n",
    "- $x$ is $y$, $x$ True se $x$ e $y$ são idênticos\n",
    "\n",
    "- $x$ is not $y$, $x$ True se $x$ e $y$ não são idênticos\n",
    "\n",
    "- $x$ in $y$, $x$ True se $x$ é membro de $y$\n",
    "\n",
    "- $x$ not in $y$, $x$ True se $x$ não é membro de $y$ "
   ]
  },
  {
   "cell_type": "markdown",
   "metadata": {},
   "source": [
    "## Tipos booleanos\n",
    "\n",
    "\n",
    "- ${\\bf True, False:}$ valores booleanos(verdadeiro e falso, respectivamente).\n",
    "\n",
    "- ${\\bf bool():}$ retorna ${\\bf True}$ quando o argumento passado é verdadeiro e ${\\bf False}$, caso contrário.\n",
    "\n",
    "- ${\\bf None:}$ valor do tipo ${\\bf NoneType}$, representa a abstenção de um valor\n"
   ]
  },
  {
   "cell_type": "code",
   "execution_count": null,
   "metadata": {},
   "outputs": [],
   "source": [
    "1 == '1'"
   ]
  },
  {
   "cell_type": "code",
   "execution_count": null,
   "metadata": {},
   "outputs": [],
   "source": [
    "2 > 1"
   ]
  },
  {
   "cell_type": "code",
   "execution_count": null,
   "metadata": {},
   "outputs": [],
   "source": [
    "2 < 1"
   ]
  },
  {
   "cell_type": "code",
   "execution_count": null,
   "metadata": {},
   "outputs": [],
   "source": [
    "bool(3 > 5)"
   ]
  },
  {
   "cell_type": "code",
   "execution_count": null,
   "metadata": {},
   "outputs": [],
   "source": [
    "bool(1 == 1)"
   ]
  },
  {
   "cell_type": "code",
   "execution_count": null,
   "metadata": {},
   "outputs": [],
   "source": [
    "bool(0)"
   ]
  },
  {
   "cell_type": "code",
   "execution_count": null,
   "metadata": {},
   "outputs": [],
   "source": [
    "bool(1)"
   ]
  },
  {
   "cell_type": "code",
   "execution_count": null,
   "metadata": {},
   "outputs": [],
   "source": [
    "bool(None)\n"
   ]
  },
  {
   "cell_type": "markdown",
   "metadata": {},
   "source": []
  },
  {
   "cell_type": "markdown",
   "metadata": {},
   "source": []
  }
 ],
 "metadata": {
  "kernelspec": {
   "display_name": "Python 3",
   "language": "python",
   "name": "python3"
  },
  "language_info": {
   "codemirror_mode": {
    "name": "ipython",
    "version": 3
   },
   "file_extension": ".py",
   "mimetype": "text/x-python",
   "name": "python",
   "nbconvert_exporter": "python",
   "pygments_lexer": "ipython3",
   "version": "3.10.12"
  }
 },
 "nbformat": 4,
 "nbformat_minor": 2
}
