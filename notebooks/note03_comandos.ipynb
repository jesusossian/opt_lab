{
 "cells": [
  {
   "cell_type": "markdown",
   "metadata": {},
   "source": [
    "# Comandos"
   ]
  },
  {
   "cell_type": "markdown",
   "metadata": {},
   "source": [
    "## Comando **input**\n",
    "\n",
    "- ${\\bf input():}$ função que captura a entrada de valores."
   ]
  },
  {
   "cell_type": "code",
   "execution_count": 2,
   "metadata": {},
   "outputs": [],
   "source": [
    "numero = 22\n",
    "palpite = input(\"digite um numero: \")"
   ]
  },
  {
   "cell_type": "markdown",
   "metadata": {},
   "source": [
    "## Comandos **if, elif, else**\n",
    "\n",
    "- ${\\bf if:}$ operador condicional que representa a palavra ${\\bf se}$\n",
    "- ${\\bf else:}$ operador condicional que representa a palavra ${\\bf senão}$\n",
    "- ${\\bf elif:}$ operador condicional que faz um novo teste sobre alguma outra condição"
   ]
  },
  {
   "cell_type": "code",
   "execution_count": 7,
   "metadata": {},
   "outputs": [
    {
     "name": "stdout",
     "output_type": "stream",
     "text": [
      "palpite errado!\n"
     ]
    }
   ],
   "source": [
    "if palpite == numero:\n",
    "    print(\"palpite correto!\")\n",
    "else:\n",
    "    print(\"palpite errado!\")"
   ]
  },
  {
   "cell_type": "code",
   "execution_count": 8,
   "metadata": {},
   "outputs": [
    {
     "data": {
      "text/plain": [
       "False"
      ]
     },
     "execution_count": 8,
     "metadata": {},
     "output_type": "execute_result"
    }
   ],
   "source": [
    "bool(palpite == numero)"
   ]
  },
  {
   "cell_type": "code",
   "execution_count": 9,
   "metadata": {},
   "outputs": [
    {
     "data": {
      "text/plain": [
       "int"
      ]
     },
     "execution_count": 9,
     "metadata": {},
     "output_type": "execute_result"
    }
   ],
   "source": [
    "type(numero)"
   ]
  },
  {
   "cell_type": "code",
   "execution_count": 10,
   "metadata": {},
   "outputs": [
    {
     "data": {
      "text/plain": [
       "str"
      ]
     },
     "execution_count": 10,
     "metadata": {},
     "output_type": "execute_result"
    }
   ],
   "source": [
    "type(palpite)"
   ]
  },
  {
   "cell_type": "markdown",
   "metadata": {},
   "source": [
    "- Convertendo uma string em número inteiro."
   ]
  },
  {
   "cell_type": "code",
   "execution_count": 11,
   "metadata": {},
   "outputs": [],
   "source": [
    "numero = 22\n",
    "palpite = int(input(\"digite um numero: \"))"
   ]
  },
  {
   "cell_type": "code",
   "execution_count": 12,
   "metadata": {},
   "outputs": [
    {
     "name": "stdout",
     "output_type": "stream",
     "text": [
      "palpite correto!\n"
     ]
    }
   ],
   "source": [
    "if palpite == numero:\n",
    "    print(\"palpite correto!\")\n",
    "else:\n",
    "    print(\"palpite errado!\")"
   ]
  },
  {
   "cell_type": "code",
   "execution_count": 13,
   "metadata": {},
   "outputs": [
    {
     "data": {
      "text/plain": [
       "True"
      ]
     },
     "execution_count": 13,
     "metadata": {},
     "output_type": "execute_result"
    }
   ],
   "source": [
    "bool(numero == palpite)"
   ]
  },
  {
   "cell_type": "code",
   "execution_count": 14,
   "metadata": {},
   "outputs": [
    {
     "name": "stdout",
     "output_type": "stream",
     "text": [
      "palpite correto\n"
     ]
    }
   ],
   "source": [
    "if (palpite == numero):\n",
    "    print(\"palpite correto\")\n",
    "elif (palpite > numero):\n",
    "    print(\"palpite maior que o número\")\n",
    "else:\n",
    "    print(\"palpite menor que o número\")"
   ]
  },
  {
   "cell_type": "code",
   "execution_count": 15,
   "metadata": {},
   "outputs": [
    {
     "name": "stdout",
     "output_type": "stream",
     "text": [
      "palpite maior que o número\n"
     ]
    }
   ],
   "source": [
    "numero = 22\n",
    "palpite = int(input(\"digite um palpite: \"))\n",
    "if (palpite == numero):\n",
    "    print(\"palpite correto\")\n",
    "elif (palpite > numero):\n",
    "    print(\"palpite maior que o número\")\n",
    "else:\n",
    "    print(\"palpite menor que o número\")\n"
   ]
  },
  {
   "cell_type": "markdown",
   "metadata": {},
   "source": [
    "## Comando ${\\bf while}$\n",
    "\n",
    "- ${\\bf while}:$ loop que faz repetir um conjunto de instruções dentro de um bloco enquanto uma condição for verdadeira\n",
    "- ${\\bf break}:$ para a execução de um conjunto de instruções."
   ]
  },
  {
   "cell_type": "code",
   "execution_count": 16,
   "metadata": {},
   "outputs": [
    {
     "name": "stdout",
     "output_type": "stream",
     "text": [
      "x =  7\n",
      "x =  6\n",
      "x =  5\n",
      "x =  4\n",
      "x =  3\n",
      "x =  2\n"
     ]
    }
   ],
   "source": [
    "x = 7\n",
    "while(x > 1):\n",
    "    print(\"x = \", x)\n",
    "    x = x - 1"
   ]
  },
  {
   "cell_type": "code",
   "execution_count": 17,
   "metadata": {},
   "outputs": [
    {
     "name": "stdout",
     "output_type": "stream",
     "text": [
      "palpite menor que o número\n",
      "palpite menor que o número\n",
      "palpite menor que o número\n",
      "palpite menor que o número\n",
      "palpite menor que o número\n"
     ]
    }
   ],
   "source": [
    "numero = 22\n",
    "qtd_tentativas = 5\n",
    "tmp = 1\n",
    "while (tmp <= qtd_tentativas):\n",
    "    palpite = int(input(\"digite um palpite: \"))\n",
    "    if (palpite == numero):\n",
    "        print(\"palpite correto\")\n",
    "    elif (palpite > numero):\n",
    "        print(\"palpite maior que o número\")\n",
    "    else:\n",
    "        print(\"palpite menor que o número\")\n",
    "    tmp += 1\n"
   ]
  },
  {
   "cell_type": "code",
   "execution_count": 18,
   "metadata": {},
   "outputs": [
    {
     "name": "stdout",
     "output_type": "stream",
     "text": [
      "palpite menor que o número\n",
      "palpite menor que o número\n",
      "palpite menor que o número\n",
      "palpite menor que o número\n",
      "palpite menor que o número\n"
     ]
    }
   ],
   "source": [
    "numero = 22\n",
    "qtd_tentativas = 5\n",
    "tmp = 1\n",
    "while (tmp <= qtd_tentativas):\n",
    "    palpite = int(input(\"digite um palpite: \"))\n",
    "    if (palpite == numero):\n",
    "        print(\"palpite correto\")\n",
    "        break\n",
    "    elif (palpite > numero):\n",
    "        print(\"palpite maior que o número\")\n",
    "    else:\n",
    "        print(\"palpite menor que o número\")\n",
    "    tmp += 1\n"
   ]
  },
  {
   "cell_type": "markdown",
   "metadata": {},
   "source": [
    "## loop ${\\bf for}$ e função ${\\bf range()}$\n",
    "\n",
    "- ${\\bf for}:$ inicia com um valor e incremente esse valor até chegar a um valor final.\n",
    "\n",
    "- ${\\bf range()}:$ gera um intervalo de valores inteiros."
   ]
  },
  {
   "cell_type": "code",
   "execution_count": null,
   "metadata": {},
   "outputs": [],
   "source": [
    "print(\"intervalo [1,10), de 1 em 1 \", end = \": \")\n",
    "for t in range(1,10):\n",
    "    print(t, end = \", \")\n",
    "print(\"\\n\")\n",
    "\n",
    "print(\"intervalo [1,10), de 2 em 2:\", end = \": \")\n",
    "for t in range(1,10,2):\n",
    "    print(t, end = \", \")\n",
    "print(\"\\n\")"
   ]
  },
  {
   "cell_type": "code",
   "execution_count": 14,
   "metadata": {},
   "outputs": [
    {
     "name": "stdout",
     "output_type": "stream",
     "text": [
      "palpite correto\n"
     ]
    }
   ],
   "source": [
    "numero = 22\n",
    "qtd_tentativas = 5\n",
    "for t in range(1,qtd_tentativas+1):\n",
    "    palpite = int(input(\"digite um palpite: \"))\n",
    "    if (palpite == numero):\n",
    "        print(\"palpite correto\")\n",
    "        break\n",
    "    elif (palpite > numero):\n",
    "        print(\"palpite maior que o número\")\n",
    "    else:\n",
    "        print(\"palpite menor que o número\")"
   ]
  },
  {
   "cell_type": "code",
   "execution_count": null,
   "metadata": {},
   "outputs": [],
   "source": []
  }
 ],
 "metadata": {
  "kernelspec": {
   "display_name": "Python 3",
   "language": "python",
   "name": "python3"
  },
  "language_info": {
   "codemirror_mode": {
    "name": "ipython",
    "version": 3
   },
   "file_extension": ".py",
   "mimetype": "text/x-python",
   "name": "python",
   "nbconvert_exporter": "python",
   "pygments_lexer": "ipython3",
   "version": "3.10.12"
  }
 },
 "nbformat": 4,
 "nbformat_minor": 2
}
