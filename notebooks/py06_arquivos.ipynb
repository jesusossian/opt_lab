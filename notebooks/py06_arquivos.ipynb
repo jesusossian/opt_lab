{
 "cells": [
  {
   "cell_type": "markdown",
   "metadata": {},
   "source": [
    "# Arquivos"
   ]
  },
  {
   "cell_type": "markdown",
   "metadata": {},
   "source": [
    "### Escrita em um arquivo"
   ]
  },
  {
   "cell_type": "markdown",
   "metadata": {},
   "source": [
    "- Função **open()**: abre um arquivo para uso. \n",
    "\n",
    "- Parâmetros da função **open()**: \n",
    "    - o nome do arquivo \n",
    "    - o modo(opcional) trabalhar com o arquivo: **\"r\"**(read), **\"w\"**(write), **\"a\"**(append)."
   ]
  },
  {
   "cell_type": "code",
   "execution_count": null,
   "metadata": {},
   "outputs": [],
   "source": [
    "arquivo = open('grupos.txt', 'w')"
   ]
  },
  {
   "cell_type": "markdown",
   "metadata": {},
   "source": [
    "- A função **write()** permite a escrita em um arquivo aberto.\n",
    "- O modo **\"w\"** é usado para escrita no arquivo. \n",
    "- Sempre que a função **write()** é chamada com modo **\"w\"** um novo arquivo é criado."
   ]
  },
  {
   "cell_type": "code",
   "execution_count": null,
   "metadata": {},
   "outputs": [],
   "source": [
    "arquivo.write(\"algebra e logic\")\n",
    "arquivo.write(\"analysis\")\n",
    "arquivo.write(\"operations research\")\n",
    "arquivo.write('statistics and risk management')"
   ]
  },
  {
   "cell_type": "markdown",
   "metadata": {},
   "source": [
    "- A função **close()** fechar um arquivo aberto."
   ]
  },
  {
   "cell_type": "code",
   "execution_count": null,
   "metadata": {},
   "outputs": [],
   "source": [
    "arquivo.close()"
   ]
  },
  {
   "cell_type": "markdown",
   "metadata": {},
   "source": [
    "- O modo **\"a\"(append)** é usado para escrita em um arquivo inserindo uma nova linha.\n",
    "- Os caracteres **\\n** insere uma quebra de linha no arquivo."
   ]
  },
  {
   "cell_type": "code",
   "execution_count": null,
   "metadata": {},
   "outputs": [],
   "source": [
    "arquivo = open('grupos.txt', 'w')\n",
    "arquivo.write(\"algebra e logic\\n\")\n",
    "arquivo.write('analysis\\n')\n",
    "arquivo.close()"
   ]
  },
  {
   "cell_type": "markdown",
   "metadata": {},
   "source": [
    "- Inserindo novas informações no arquivo já existente."
   ]
  },
  {
   "cell_type": "code",
   "execution_count": null,
   "metadata": {},
   "outputs": [],
   "source": [
    "arquivo = open('grupos.txt', 'a')\n",
    "arquivo.write(\"operations research\\n\")\n",
    "arquivo.write('statistics and risk management\\n')\n",
    "arquivo.close()"
   ]
  },
  {
   "cell_type": "markdown",
   "metadata": {},
   "source": [
    "### Leitura de um arquivo."
   ]
  },
  {
   "cell_type": "markdown",
   "metadata": {},
   "source": [
    "- O modo **\"r\"** é usado para leitura do arquivo."
   ]
  },
  {
   "cell_type": "code",
   "execution_count": null,
   "metadata": {},
   "outputs": [],
   "source": [
    "arquivo = open('grupos.txt', 'r')"
   ]
  },
  {
   "cell_type": "markdown",
   "metadata": {},
   "source": [
    "- Um arquivo é como um fluxo de linhas:\n",
    "    - Começa no início do arquivo como se fosse um cursor. \n",
    "    - Ele vai descendo e lendo o arquivo. \n",
    "     - Após ler tudo, ele fica posicionado no final do arquivo."
   ]
  },
  {
   "cell_type": "code",
   "execution_count": null,
   "metadata": {},
   "outputs": [],
   "source": [
    "arquivo.read()"
   ]
  },
  {
   "cell_type": "markdown",
   "metadata": {},
   "source": [
    "- É necessário fechar o arquivo após a sua leitura."
   ]
  },
  {
   "cell_type": "code",
   "execution_count": null,
   "metadata": {},
   "outputs": [],
   "source": [
    "arquivo.close()"
   ]
  },
  {
   "cell_type": "markdown",
   "metadata": {},
   "source": [
    "- Um arquivo é uma sequência de linhas.\n",
    "\n",
    "- Podemos utilizar o loop **for** para ler cada linha do arquivo."
   ]
  },
  {
   "cell_type": "code",
   "execution_count": null,
   "metadata": {},
   "outputs": [],
   "source": [
    "arquivo = open('grupos.txt', 'r')\n",
    "for linha in arquivo:\n",
    "    print(linha, end=\"\")\n",
    "arquivo.close()"
   ]
  },
  {
   "cell_type": "markdown",
   "metadata": {},
   "source": [
    "- Função **readline()**: lê apenas uma linha de um arquivo.\n",
    "- Função **readlines()**: lê as linhas de um arquivo."
   ]
  },
  {
   "cell_type": "code",
   "execution_count": null,
   "metadata": {},
   "outputs": [],
   "source": [
    "arquivo = open('grupos.txt', 'r')\n",
    "linha1 = arquivo.readline()\n",
    "linha2 = arquivo.readline()\n",
    "arquivo.close()\n",
    "print(linha1)\n",
    "print(linha2)"
   ]
  },
  {
   "cell_type": "code",
   "execution_count": null,
   "metadata": {},
   "outputs": [],
   "source": [
    "arquivo = open('grupos.txt', 'r')\n",
    "linhas = arquivo.readlines()[3]\n",
    "arquivo.close()\n",
    "linhas"
   ]
  },
  {
   "cell_type": "markdown",
   "metadata": {},
   "source": [
    "- Função **strip()**: elimina espaços em branco e caracteres especiais, como o **\\n**, no início e no fim da string. "
   ]
  },
  {
   "cell_type": "code",
   "execution_count": null,
   "metadata": {},
   "outputs": [],
   "source": [
    "arquivo = open('grupos.txt', 'r')\n",
    "\n",
    "nova_math = []\n",
    "\n",
    "for linha in arquivo:\n",
    "    linha = linha.strip()\n",
    "    nova_math.append(linha)\n",
    "\n",
    "arquivo.close()\n",
    "\n",
    "nova_math"
   ]
  },
  {
   "cell_type": "markdown",
   "metadata": {},
   "source": [
    " ### Comando with\n",
    " \n",
    "- fecha um arquivo mesmo que aconteça algum erro no código dentro de seu escopo."
   ]
  },
  {
   "cell_type": "code",
   "execution_count": null,
   "metadata": {},
   "outputs": [],
   "source": [
    "print(\"Grupos de pesquisa:\")\n",
    "with open('grupos.txt') as arquivo:\n",
    "    for linha in arquivo:\n",
    "        print(linha)"
   ]
  },
  {
   "cell_type": "code",
   "execution_count": null,
   "metadata": {},
   "outputs": [],
   "source": []
  }
 ],
 "metadata": {
  "kernelspec": {
   "display_name": "Python 3",
   "language": "python",
   "name": "python3"
  },
  "language_info": {
   "codemirror_mode": {
    "name": "ipython",
    "version": 3
   },
   "file_extension": ".py",
   "mimetype": "text/x-python",
   "name": "python",
   "nbconvert_exporter": "python",
   "pygments_lexer": "ipython3",
   "version": "3.10.12"
  }
 },
 "nbformat": 4,
 "nbformat_minor": 2
}
