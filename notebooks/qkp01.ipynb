{
 "cells": [
  {
   "cell_type": "markdown",
   "metadata": {},
   "source": [
    "# Mochila Quadrática $0$-$1$ (QKP)"
   ]
  },
  {
   "cell_type": "markdown",
   "metadata": {},
   "source": [
    "## Dados\n",
    "\n",
    "Considere dos seguintes dados:\n",
    "\n",
    "-  $N = \\{1, \\ldots, n\\}$ um conjunto dos objetos.\n",
    "\n",
    "-  $P = \\{p_{ij} \\in \\mathbb{R}_{+} : \\ i \\leq j, \\ i, j \\in N \\}$ o conjunto dos benefícios aos itens de $N$ e a relação entre eles.\n",
    "\n",
    "-  $W = \\{ w_i \\in \\mathbb{N} : i \\in N \\}$ o conjunto dos pesos dos itens de $N$.\n",
    "\n",
    "-  $c \\in \\mathbb{N}$ capacidade da mochila, onde $\\displaystyle\\max_{i \\in N} w_i \\leq c < \\sum_{i  \\in N} w_i$."
   ]
  },
  {
   "cell_type": "markdown",
   "metadata": {},
   "source": [
    "## QKP quadrático\n",
    "\n",
    "Utilizando os dados acima para definir o problema da mochila quadrática 0-1.\n",
    "\n",
    "\\begin{align}\n",
    "max \\; & \\sum_{i \\in N} q_{i} x_i + \\sum_{i = 1}^{n-1} \\sum_{j =i+1}^{n}\n",
    "p_{ij} x_{i} x_{j} \\\\\n",
    "s. a  \\; & \\sum_{i \\in N} w_{i} x_{i} \\leq c, \\\\\n",
    "& x_{i} \\in \\left\\{0, 1 \\right\\}, \\ \\ i  \\in N.\n",
    "\\end{align}\n",
    "\n",
    "onde $q_{i} = p_{ii}, \\ i \\in N$."
   ]
  },
  {
   "cell_type": "markdown",
   "metadata": {},
   "source": [
    "## Interpretação em Teoria do Grafos\n",
    "\n",
    "Seja $G=(V,E)$ um grafo completo não direcionado com $n$ vértices onde cada vértice $i \\in V$ possui um benefício $q_{i}$ e tem um peso $w_i$. \n",
    "\n",
    "Da mesma forma, cada aresta $e=(i,j) \\in E$ possui um benefício $p_{ij}$. \n",
    "\n",
    "Definido $G$, pede-se para encontrar um subconjunto de vértices $S \\subseteq V$ onde $\\sum_{i \\in S} w_i \\leq c$ e o benefício total auferido seja máximo.\n",
    "\n"
   ]
  },
  {
   "cell_type": "markdown",
   "metadata": {},
   "source": [
    "## Modelando o problema e resolvendo com gurobipy"
   ]
  },
  {
   "cell_type": "code",
   "execution_count": null,
   "metadata": {},
   "outputs": [],
   "source": [
    "import numpy as np\n",
    "import gurobipy as gp\n",
    "from gurobipy import GRB"
   ]
  },
  {
   "cell_type": "code",
   "execution_count": null,
   "metadata": {},
   "outputs": [],
   "source": [
    "def qknapsack(dim,perc,t):\n",
    "\n",
    "    instance = f\"instances/{dim}/{dim}_{perc}_{t}.txt\"\n",
    "\n",
    "    with open(instance, 'r') as file: linhas = file.readlines()\n",
    "\n",
    "    # remove linha vazia inicial e elimina os \"\\n\" de cada linha\n",
    "    linhas = [a.strip() for a in linhas] \n",
    "\n",
    "    # ler o tamanho da instancia\n",
    "    n = int(linhas[0]) \n",
    "\n",
    "    # ler a diagonal da matriz\n",
    "    d = np.fromstring(linhas[1], dtype=int, sep = ' ') \n",
    "\n",
    "    # define a matriz\n",
    "    p = np.zeros((n,n), dtype=int) \n",
    "\n",
    "    # preenche a diagonal\n",
    "    for i in range(n): \n",
    "        p[i][i] = d[i]\n",
    "\n",
    "    # preenche o resto da matriz\n",
    "    for i in range(n-1): \n",
    "        linha = np.fromstring(linhas[i+2], dtype=int, sep = ' ')\n",
    "        for j in range(n-(i+1)):\n",
    "            p[i][j+i+1] = linha[j]\n",
    "            p[j+i+1][i] = p[i][j+i+1]\n",
    "\n",
    "    # ler a capacidade\n",
    "    c = int(linhas[n+2]) \n",
    "\n",
    "    # ler os pesos\n",
    "    w = np.fromstring(linhas[n+3], dtype=int, sep = ' ') \n",
    "\n",
    "    #cria o modelo\n",
    "    model = gp.Model(\"qkp01\") \n",
    "\n",
    "    x = []\n",
    "    for j in range(0, n):\n",
    "        x.append(model.addVar(vtype=GRB.BINARY, name=\"x_{}\".format(j+1)))\n",
    "        \n",
    "    model.Params.TimeLimit = 600\n",
    "    model.Params.MIPGap = 1.e-6\n",
    "    model.Params.Threads = 1\n",
    "    \n",
    "    # Turn off display\n",
    "    gp.setParam('OutputFlag', 0)\n",
    "\n",
    "    obj = 0 \n",
    "    for i in range(0, n):\n",
    "        obj += p[i][i] * x[i]\n",
    "        for j in range(i+1, n):\n",
    "            obj += p[i][j] * x[i] * x[j]\n",
    "\n",
    "    model.setObjective(obj, GRB.MAXIMIZE)\n",
    "\n",
    "    constr = 0\n",
    "    for j in range(0, n):\n",
    "        constr += (w[j] * x[j])\n",
    "    model.addConstr(constr <= c)\n",
    "\n",
    "    model.write(f\"lp/qkp01_{dim}_{perc}_{t}.lp\")\n",
    "\n",
    "    model.optimize()\n",
    "    \n",
    "    status = 0\n",
    "    if model.status == GRB.OPTIMAL:\n",
    "        status = 1\n",
    " \n",
    "    lb = model.objBound\n",
    "    ub = model.objVal\n",
    "    gap = model.MIPGap\n",
    "    time = model.Runtime\n",
    "    nodes = model.NodeCount\n",
    "\n",
    "    model.dispose()\n",
    "\n",
    "    #lower bound, upper bound, gap, time, nodes\n",
    "    arquivo = open(f'result/result_{dim}_{perc}.csv','a')\n",
    "    arquivo.write(\n",
    "        str(f\"{dim}_{perc}_{t}\")+';'\n",
    "        +str(round(lb,1))+';'\n",
    "        +str(round(ub,1))+';'\n",
    "        +str(round(gap,2))+';'\n",
    "        +str(round(time,2))+';'\n",
    "        +str(round(nodes,1))+';'\n",
    "        +str(round(status,1))+'\\n'\n",
    "    )\n",
    "    arquivo.close()"
   ]
  },
  {
   "cell_type": "code",
   "execution_count": null,
   "metadata": {},
   "outputs": [],
   "source": [
    "# __main__ : “top-level code environment”\n",
    "\n",
    "# What is the “top-level code environment”?\n",
    "# __main__ is the name of the environment where top-level code is run. \n",
    "# “Top-level code” is the first user-specified Python module that starts running. \n",
    "# It’s “top-level” because it imports all other modules that the program needs. \n",
    "# Sometimes “top-level code” is called an entry point to the application.\n",
    "\n",
    "if __name__ == \"__main__\":\n",
    "\n",
    "    for dim in [100]:\n",
    "        for perc in [25]:\n",
    "            for t in range(1,11):\n",
    "                instance = f\"instances/{dim}/{dim}_{perc}_{t}.txt\"\n",
    "                qknapsack(dim,perc,t)"
   ]
  },
  {
   "cell_type": "markdown",
   "metadata": {},
   "source": [
    "## Tabelando os resultados "
   ]
  },
  {
   "cell_type": "code",
   "execution_count": null,
   "metadata": {},
   "outputs": [],
   "source": [
    "import pandas as pd\n",
    "\n",
    "dim_ = 100\n",
    "perc_ = 25\n",
    "inst_=f'result_{dim}_{perc}.csv'\n",
    "\n",
    "df = pd.DataFrame()\n",
    "df = pd.read_csv(inst_,header=None,sep=';')\n",
    "\n",
    "tab = pd.DataFrame()\n",
    "tab = pd.concat([tab, df], ignore_index=True)\n",
    "tab.columns = ['instance','bs','bb','gap','time','nodes','opt']\n",
    "\n",
    "resume = pd.DataFrame({\n",
    "    'instance':f\"resume\",\n",
    "    'bs':tab[\"bs\"].mean(),\n",
    "    'bb':tab[\"bb\"].mean(),\n",
    "    'gap':tab['gap'].mean(),\n",
    "    'time':tab['time'].mean(),\n",
    "    'nodes':tab['nodes'].mean(),\n",
    "    'opt':tab['opt'].sum(),\n",
    "     },index=[f\"qkp\"]\n",
    ")\n",
    "\n",
    "tab = pd.concat([tab, resume], ignore_index=True)\n",
    "\n",
    "tab[\"bb\"] = tab[\"bb\"].round(2)\n",
    "tab[\"bs\"] = tab[\"bs\"].round(2)\n",
    "tab[\"gap\"] = tab[\"gap\"].round(2)\n",
    "tab[\"time\"] = tab[\"time\"].round(2)\n",
    "tab[\"nodes\"] = tab[\"nodes\"].round(2)\n",
    "tab[\"opt\"] = tab[\"opt\"].round().astype('Int64')\n",
    "\n",
    "tab"
   ]
  },
  {
   "cell_type": "code",
   "execution_count": null,
   "metadata": {},
   "outputs": [],
   "source": [
    "print(\n",
    "    tab[['instance','bs','bb','gap','time','nodes','opt']].\n",
    "    to_latex(index=False,float_format=\"%.2f\")\n",
    ")"
   ]
  },
  {
   "cell_type": "code",
   "execution_count": null,
   "metadata": {},
   "outputs": [],
   "source": []
  }
 ],
 "metadata": {
  "kernelspec": {
   "display_name": "Python 3",
   "language": "python",
   "name": "python3"
  },
  "language_info": {
   "codemirror_mode": {
    "name": "ipython",
    "version": 3
   },
   "file_extension": ".py",
   "mimetype": "text/x-python",
   "name": "python",
   "nbconvert_exporter": "python",
   "pygments_lexer": "ipython3",
   "version": "3.10.12"
  }
 },
 "nbformat": 4,
 "nbformat_minor": 2
}
