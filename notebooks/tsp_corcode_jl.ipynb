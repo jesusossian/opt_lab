{
 "cells": [
  {
   "cell_type": "code",
   "execution_count": 1,
   "id": "0541732c",
   "metadata": {},
   "outputs": [],
   "source": [
    "using TSPLIB\n",
    "using Concorde\n",
    "using JuMP\n",
    "using Gurobi"
   ]
  },
  {
   "cell_type": "code",
   "execution_count": 2,
   "id": "3da8938f",
   "metadata": {},
   "outputs": [
    {
     "data": {
      "text/plain": [
       "TSP(\"a280\", 280, \"EUC_2D\", [0.0 20.0 … 34.0 18.0; 20.0 0.0 … 28.0 9.0; … ; 34.0 28.0 … 0.0 20.0; 18.0 9.0 … 20.0 0.0], [288.0 149.0; 288.0 129.0; … ; 260.0 129.0; 280.0 133.0], false, TSPLIB.var\"#fFit#19\"{Matrix{Float64}, Int64}([0.0 20.0 … 34.0 18.0; 20.0 0.0 … 28.0 9.0; … ; 34.0 28.0 … 0.0 20.0; 18.0 9.0 … 20.0 0.0], 280), TSPLIB.var\"#pFit#20\"{Matrix{Float64}, Int64}([0.0 20.0 … 34.0 18.0; 20.0 0.0 … 28.0 9.0; … ; 34.0 28.0 … 0.0 20.0; 18.0 9.0 … 20.0 0.0], 280), 2579.0)"
      ]
     },
     "execution_count": 2,
     "metadata": {},
     "output_type": "execute_result"
    }
   ],
   "source": [
    "tsp = readTSPLIB(:a280)"
   ]
  },
  {
   "cell_type": "code",
   "execution_count": 3,
   "id": "af05dff6",
   "metadata": {},
   "outputs": [
    {
     "data": {
      "text/plain": [
       "([1, 280, 3, 279, 278, 248, 249, 256, 255, 252  …  236, 237, 238, 239, 240, 241, 244, 243, 242, 2], 2579)"
      ]
     },
     "execution_count": 3,
     "metadata": {},
     "output_type": "execute_result"
    }
   ],
   "source": [
    "opt_tour, opt_len = solve_tsp(\"instances/tsplib/a280.tsp\")"
   ]
  },
  {
   "cell_type": "code",
   "execution_count": 4,
   "id": "98731052",
   "metadata": {},
   "outputs": [
    {
     "data": {
      "text/plain": [
       "280-element Vector{Int64}:\n",
       "   1\n",
       " 280\n",
       "   3\n",
       " 279\n",
       " 278\n",
       " 248\n",
       " 249\n",
       " 256\n",
       " 255\n",
       " 252\n",
       " 253\n",
       " 254\n",
       " 257\n",
       "   ⋮\n",
       " 234\n",
       " 235\n",
       " 236\n",
       " 237\n",
       " 238\n",
       " 239\n",
       " 240\n",
       " 241\n",
       " 244\n",
       " 243\n",
       " 242\n",
       "   2"
      ]
     },
     "execution_count": 4,
     "metadata": {},
     "output_type": "execute_result"
    }
   ],
   "source": [
    "opt_tour"
   ]
  },
  {
   "cell_type": "code",
   "execution_count": 8,
   "id": "c4781a3d",
   "metadata": {},
   "outputs": [
    {
     "data": {
      "text/plain": [
       "2579"
      ]
     },
     "execution_count": 8,
     "metadata": {},
     "output_type": "execute_result"
    }
   ],
   "source": [
    "opt_len"
   ]
  },
  {
   "cell_type": "code",
   "execution_count": null,
   "id": "613fe706",
   "metadata": {},
   "outputs": [],
   "source": []
  }
 ],
 "metadata": {
  "kernelspec": {
   "display_name": "Julia 1.8.5",
   "language": "julia",
   "name": "julia-1.8"
  },
  "language_info": {
   "file_extension": ".jl",
   "mimetype": "application/julia",
   "name": "julia",
   "version": "1.8.5"
  }
 },
 "nbformat": 4,
 "nbformat_minor": 5
}
