{
 "cells": [
  {
   "cell_type": "code",
   "execution_count": 2,
   "metadata": {},
   "outputs": [],
   "source": [
    "#!/usr/bin/env python3.7\n",
    "\n",
    "# Copyright 2023, Gurobi Optimization, LLC\n",
    "\n",
    "# Solve a traveling salesman problem on a randomly generated set of\n",
    "# points using lazy constraints.   The base MIP model only includes\n",
    "# 'degree-2' constraints, requiring each node to have exactly\n",
    "# two incident edges.  Solutions to this model may contain subtours -\n",
    "# tours that don't visit every city.  The lazy constraint callback\n",
    "# adds new constraints to cut them off.\n",
    "\n",
    "import sys\n",
    "import math\n",
    "import random\n",
    "from itertools import combinations\n",
    "import gurobipy as gp\n",
    "from gurobipy import GRB"
   ]
  },
  {
   "cell_type": "code",
   "execution_count": 17,
   "metadata": {},
   "outputs": [],
   "source": [
    "# Parse argument\n",
    "#if len(sys.argv) < 2:\n",
    "#    print('Usage: tsp.py npoints')\n",
    "#    sys.exit(1)\n",
    "#n = int(sys.argv[1])\n",
    "\n",
    "n = 20\n",
    "\n",
    "# Create n random points\n",
    "random.seed(1)\n",
    "points = [(random.randint(0, 100), random.randint(0, 100)) for i in range(n)]\n",
    "\n",
    "# Dictionary of Euclidean distance between each pair of points\n",
    "dist = {(i, j):\n",
    "        math.sqrt(sum((points[i][k]-points[j][k])**2 for k in range(2)))\n",
    "        for i in range(n) for j in range(i)}"
   ]
  },
  {
   "cell_type": "code",
   "execution_count": 18,
   "metadata": {},
   "outputs": [],
   "source": [
    "X = [x[0] for x in points]\n",
    "Y = [y[1] for y in points]"
   ]
  },
  {
   "cell_type": "code",
   "execution_count": 19,
   "metadata": {},
   "outputs": [
    {
     "data": {
      "image/png": "[encoded data removed]",
      "text/plain": [
       "<Figure size 1080x576 with 1 Axes>"
      ]
     },
     "metadata": {
      "needs_background": "light"
     },
     "output_type": "display_data"
    }
   ],
   "source": [
    "# grafic\n",
    "\n",
    "import matplotlib.pyplot as plt\n",
    "\n",
    "plt.figure(figsize=(15,8))\n",
    "plt.scatter(X,Y,color='blue')\n",
    "\n",
    "for t in range(len(X)):\n",
    "    plt.annotate(str(t), xy=(X[t],Y[t]), xytext = (X[t]+0.5, Y[t]+1), color='red')\n",
    "\n",
    "plt.xlabel(\"eixo X\")\n",
    "plt.ylabel(\"eixo Y\")\n",
    "plt.title(\"City location\")\n",
    "plt.show()"
   ]
  },
  {
   "cell_type": "code",
   "execution_count": 20,
   "metadata": {},
   "outputs": [],
   "source": [
    "# Given a tuplelist of edges, find the shortest subtour\n",
    "def subtour(vals):\n",
    "    # make a list of edges selected in the solution\n",
    "    edges = gp.tuplelist((i, j) for i, j in vals.keys()\n",
    "                         if vals[i, j] > 0.5)\n",
    "    unvisited = list(range(n))\n",
    "    cycle = range(n+1)  # initial length has 1 more city\n",
    "    while unvisited:  # true if list is non-empty\n",
    "        thiscycle = []\n",
    "        neighbors = unvisited\n",
    "        while neighbors:\n",
    "            current = neighbors[0]\n",
    "            thiscycle.append(current)\n",
    "            unvisited.remove(current)\n",
    "            neighbors = [j for i, j in edges.select(current, '*')\n",
    "                         if j in unvisited]\n",
    "        if len(cycle) > len(thiscycle):\n",
    "            cycle = thiscycle\n",
    "    return cycle"
   ]
  },
  {
   "cell_type": "code",
   "execution_count": 21,
   "metadata": {},
   "outputs": [],
   "source": [
    "# Callback - use lazy constraints to eliminate sub-tours\n",
    "def subtourelim(model, where):\n",
    "    if where == GRB.Callback.MIPSOL:\n",
    "        vals = model.cbGetSolution(model._vars)\n",
    "        # find the shortest cycle in the selected edge list\n",
    "        tour = subtour(vals)\n",
    "        if len(tour) < n:\n",
    "            # add subtour elimination constr. for every pair of cities in tour\n",
    "            model.cbLazy(gp.quicksum(model._vars[i, j]\n",
    "                                     for i, j in combinations(tour, 2))\n",
    "                         <= len(tour)-1)"
   ]
  },
  {
   "cell_type": "code",
   "execution_count": 22,
   "metadata": {},
   "outputs": [
    {
     "name": "stdout",
     "output_type": "stream",
     "text": [
      "Set parameter LazyConstraints to value 1\n",
      "Gurobi Optimizer version 10.0.0 build v10.0.0rc2 (linux64)\n",
      "\n",
      "CPU model: Intel(R) Core(TM) i5-1035G1 CPU @ 1.00GHz, instruction set [SSE2|AVX|AVX2|AVX512]\n",
      "Thread count: 4 physical cores, 8 logical processors, using up to 8 threads\n",
      "\n",
      "Optimize a model with 20 rows, 190 columns and 380 nonzeros\n",
      "Model fingerprint: 0x32ae205a\n",
      "Variable types: 0 continuous, 190 integer (190 binary)\n",
      "Coefficient statistics:\n",
      "  Matrix range     [1e+00, 1e+00]\n",
      "  Objective range  [2e+00, 1e+02]\n",
      "  Bounds range     [1e+00, 1e+00]\n",
      "  RHS range        [2e+00, 2e+00]\n",
      "Presolve time: 0.00s\n",
      "Presolved: 20 rows, 190 columns, 380 nonzeros\n",
      "Variable types: 0 continuous, 190 integer (190 binary)\n",
      "\n",
      "Root relaxation: objective 4.484281e+02, 31 iterations, 0.00 seconds (0.00 work units)\n",
      "\n",
      "    Nodes    |    Current Node    |     Objective Bounds      |     Work\n",
      " Expl Unexpl |  Obj  Depth IntInf | Incumbent    BestBd   Gap | It/Node Time\n",
      "\n",
      "     0     0  448.42814    0    6          -  448.42814      -     -    0s\n",
      "H    0     0                     738.2816556  448.42814  39.3%     -    0s\n",
      "H    0     0                     608.0231118  448.42814  26.2%     -    0s\n",
      "     0     0  450.58569    0    8  608.02311  450.58569  25.9%     -    0s\n",
      "     0     0  460.38493    0    -  608.02311  460.38493  24.3%     -    0s\n",
      "*    0     0               0     470.1462943  470.14629  0.00%     -    0s\n",
      "\n",
      "Cutting planes:\n",
      "  Gomory: 1\n",
      "  Zero half: 1\n",
      "  Lazy constraints: 5\n",
      "\n",
      "Explored 1 nodes (42 simplex iterations) in 0.04 seconds (0.00 work units)\n",
      "Thread count was 8 (of 8 available processors)\n",
      "\n",
      "Solution count 3: 470.146 608.023 738.282 \n",
      "\n",
      "Optimal solution found (tolerance 1.00e-04)\n",
      "Best objective 4.701462942872e+02, best bound 4.701462942872e+02, gap 0.0000%\n",
      "\n",
      "User-callback calls 134, time in user-callback 0.01 sec\n",
      "\n",
      "Optimal tour: [0, 4, 9, 3, 10, 17, 5, 19, 13, 6, 1, 14, 12, 15, 2, 16, 18, 8, 7, 11]\n",
      "Optimal cost: 470.146\n",
      "\n"
     ]
    }
   ],
   "source": [
    "# Create model\n",
    "model = gp.Model()\n",
    "\n",
    "# Create variables\n",
    "vars = model.addVars(dist.keys(), obj=dist, vtype=GRB.BINARY, name='e')\n",
    "for i, j in vars.keys():\n",
    "    vars[j, i] = vars[i, j]  # edge in opposite direction\n",
    "\n",
    "# You could use Python looping constructs and m.addVar() to create\n",
    "# these decision variables instead.  The following would be equivalent\n",
    "# to the preceding m.addVars() call...\n",
    "#\n",
    "# vars = tupledict()\n",
    "# for i,j in dist.keys():\n",
    "#   vars[i,j] = model.addVar(obj=dist[i,j], vtype=GRB.BINARY,\n",
    "#                        name='e[%d,%d]'%(i,j))\n",
    "\n",
    "# Add degree-2 constraint\n",
    "model.addConstrs(vars.sum(i, '*') == 2 for i in range(n))\n",
    "\n",
    "# Using Python looping constructs, the preceding would be...\n",
    "#\n",
    "# for i in range(n):\n",
    "#   model.addConstr(sum(vars[i,j] for j in range(n)) == 2)\n",
    "\n",
    "# Optimize model\n",
    "model._vars = vars\n",
    "model.Params.LazyConstraints = 1\n",
    "model.optimize(subtourelim)\n",
    "\n",
    "vals = model.getAttr('X', vars)\n",
    "tour = subtour(vals)\n",
    "assert len(tour) == n\n",
    "\n",
    "print('')\n",
    "print('Optimal tour: %s' % str(tour))\n",
    "print('Optimal cost: %g' % model.ObjVal)\n",
    "print('')"
   ]
  },
  {
   "cell_type": "code",
   "execution_count": 25,
   "metadata": {},
   "outputs": [
    {
     "data": {
      "image/png": "[encoded data removed]",
      "text/plain": [
       "<Figure size 1080x576 with 1 Axes>"
      ]
     },
     "metadata": {
      "needs_background": "light"
     },
     "output_type": "display_data"
    }
   ],
   "source": [
    "# grafic sol\n",
    "\n",
    "def grafic_sol(vars, X, Y):\n",
    "    arcos_ativos = [e for e in dist.keys() if vars[e].x > 0.9]\n",
    "    #print(arcos_ativos)\n",
    "\n",
    "    plt.figure(figsize = (15,8))\n",
    "    plt.xlabel\n",
    "    plt.ylabel\n",
    "\n",
    "    plt.scatter(x=X, y=Y, color='blue', zorder=1)\n",
    "\n",
    "    # line between arcos\n",
    "    for i,j in arcos_ativos:\n",
    "        plt.plot([X[i],X[j]],[Y[i],Y[j]], color='b', alpha=0.4, zorder=0)\n",
    "\n",
    "    for t in range(len(X)):\n",
    "        plt.annotate(str(t), xy=(X[t],Y[t]), xytext=(X[t]+0.5, Y[t]+1), color='red')\n",
    "\n",
    "    plt.show()\n",
    "\n",
    "# grafic assigment sol\n",
    "grafic_sol(vars, X, Y)"
   ]
  },
  {
   "cell_type": "code",
   "execution_count": null,
   "metadata": {},
   "outputs": [],
   "source": []
  }
 ],
 "metadata": {
  "kernelspec": {
   "display_name": "Python 3",
   "language": "python",
   "name": "python3"
  },
  "language_info": {
   "codemirror_mode": {
    "name": "ipython",
    "version": 3
   },
   "file_extension": ".py",
   "mimetype": "text/x-python",
   "name": "python",
   "nbconvert_exporter": "python",
   "pygments_lexer": "ipython3",
   "version": "3.10.12"
  }
 },
 "nbformat": 4,
 "nbformat_minor": 2
}
