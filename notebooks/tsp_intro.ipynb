{
 "cells": [
  {
   "cell_type": "markdown",
   "metadata": {},
   "source": [
    "# The Traveling Salesman Problem (TSP)"
   ]
  },
  {
   "cell_type": "markdown",
   "metadata": {},
   "source": [
    "Consider a set if $n$ cities $S =\\{ 1, 2, \\ldots, n \\}$.\n",
    "\n",
    "A salesman must visit each of $n$ cities exactly once and then return to his starting point.\n",
    "\n",
    "The time taken to travel from city $i$ to city $j$ is $c_{ij}, \\ i \\not= j$.\n",
    "\n",
    "Find the order in which he should make his tour so as to finish as quickcly as possible."
   ]
  },
  {
   "cell_type": "markdown",
   "metadata": {},
   "source": [
    "This problem arises in a multitude of forms:\n",
    "- a truck driver has a list of clients he must visit on a given day.\n",
    "- a machine must place modules on printed circuit boards.\n",
    "- a stacker crane must pick up and depose crates."
   ]
  },
  {
   "cell_type": "markdown",
   "metadata": {},
   "source": [
    "### TSP formulation as a BIP"
   ]
  },
  {
   "cell_type": "markdown",
   "metadata": {},
   "source": [
    "The variables:\n",
    "\n",
    "- $x_{ij} = 1$ if the salesman goes directly from town $i$ to town $j$, and $x_{ij}= 0$ otherwise, for $i \\not= j$.\n",
    "\n",
    "The constraints:\n",
    "\n",
    "- He leaves town $i$ exactly once:\n",
    "$$\n",
    "\\sum_{j:j\\not=i} x_{ij} = 1 \\quad for \\quad i=1, \\ldots, n\n",
    "$$\n",
    "\n",
    "- He arrives at town $j$ exactly once:\n",
    "$$\n",
    "\\sum_{i:i\\not=j} x_{ij} = 1 \\quad for \\quad j=1, \\ldots, n\n",
    "$$"
   ]
  },
  {
   "cell_type": "markdown",
   "metadata": {},
   "source": [
    "So far the are the constraints of the assigment problem.\n",
    "\n",
    "A solution to the assigment problem might given a solution of the form a set of disconnected subtours.\n",
    "\n",
    "To eliminate these solutions, we need more constraints that guarantee connectivity by imposing that the salesman must pass from one set of cities to another: cut-set constraints or subtour eliminations constraints.\n",
    "\n",
    "- Cut-set constraints:\n",
    "$$\n",
    "\\sum_{i \\in S} \\sum_{j \\notin S} x_{ij} \\geq 1, \\quad S \\subset N, \\quad S \\not= \\emptyset\n",
    "$$\n",
    "\n",
    "- subtour elimination contraints:\n",
    "$$\n",
    "\\sum_{i \\in S} \\sum_{j \\in S} x_{ij} \\leq | S | - 1, \\quad S \\subset N, \\quad 2 \\leq | S | \\leq n -1 \n",
    "$$\n",
    "\n",
    "- Miller-Tucker-Zemlin (MTZ) subtour elimination constraints\n",
    "\n",
    "for each $i \\in V$ let $u_i \\in \\mathbb{R}_{+}$ be an auxiliary variable.\n",
    "\n",
    "The subtour elimination constraints work by labeling the order in which the nodes are visited. \n",
    "\n",
    "The variable $u$ be the rank of each node in order of visits. \n",
    "\n",
    "Then $x_{ij} = 1$ if $u+i + 1 = u_j$\n",
    "​\n",
    "$$\n",
    "u_i + 1 - u_j  \\leq (n-1)(1 - x_{ij}) \\quad \\forall \\ i,j \\in V \n",
    "$$\n",
    "\n",
    "MTZ as indicator constraint\n",
    "\n",
    "If $x_{ijk} = 1$ then $u_i +1 = u_j$ for $i,j \\in V$\n"
   ]
  },
  {
   "cell_type": "markdown",
   "metadata": {},
   "source": [
    "The variables are 0-1:\n",
    "\n",
    "$$\n",
    "x_{ij} \\in \\{ 0, 1 \\}, \\quad i=1, 2, \\ldots, n, \\quad j=1, 2, \\ldots, n, \\quad i \\not= j.\n",
    "$$"
   ]
  },
  {
   "cell_type": "markdown",
   "metadata": {},
   "source": [
    "The objective function:\n",
    "\n",
    "$$\n",
    "\\min \\ \\sum_{i=1}^{n} \\sum_{j=1}^{n} c_{ij} x_{ij}\n",
    "$$"
   ]
  },
  {
   "cell_type": "markdown",
   "metadata": {},
   "source": [
    "### Complexity\n",
    "\n",
    "Starting at city 1, the salesman has $n$-1 choices.\n",
    "\n",
    "For the next choice $n$-2 cities are possible, and so on.\n",
    "\n",
    "Thus there ares ($n$-1)! feasible tours.\n",
    "\n",
    "The tabel show how rapidly certain functions grow. \n",
    "\n",
    "| $n$ | $n$! |\n",
    "|-----|------|\n",
    "| 10  |$3.6 \\times 10^{6}$ |\n",
    "| 100 |$9.33 \\times 10^{157}$ |\n",
    "| 1000 | $4.02 \\times 10^{2567}$ |"
   ]
  },
  {
   "cell_type": "code",
   "execution_count": 164,
   "metadata": {},
   "outputs": [],
   "source": [
    "import gurobipy as gp\n",
    "import numpy as np\n",
    "import matplotlib.pyplot as plt"
   ]
  },
  {
   "cell_type": "code",
   "execution_count": 176,
   "metadata": {},
   "outputs": [],
   "source": [
    "# criando os vértices\n",
    "n = 21\n",
    "vertices = [i for i in range(n)]"
   ]
  },
  {
   "cell_type": "code",
   "execution_count": 177,
   "metadata": {},
   "outputs": [],
   "source": [
    "# criando os arcos\n",
    "arcos = [(i,j) for i in vertices for j in vertices if i!=j]"
   ]
  },
  {
   "cell_type": "code",
   "execution_count": 178,
   "metadata": {},
   "outputs": [],
   "source": [
    "# coordenadas\n",
    "np.random.seed(0)\n",
    "X = np.random.random(n) * 100\n",
    "Y = np.random.random(n) * 100"
   ]
  },
  {
   "cell_type": "code",
   "execution_count": 185,
   "metadata": {},
   "outputs": [
    {
     "data": {
      "image/png": "[encoded data removed]",
      "text/plain": [
       "<Figure size 864x360 with 1 Axes>"
      ]
     },
     "metadata": {
      "needs_background": "light"
     },
     "output_type": "display_data"
    }
   ],
   "source": [
    "# distancias\n",
    "c = {(i,j): np.hypot(X[i]-X[j],Y[i]-Y[j]) for i in vertices for j in vertices if i!=j}\n",
    "\n",
    "plt.figure(figsize=(12,5))\n",
    "plt.scatter(X,Y,color='blue')\n",
    "\n",
    "for n in range(len(X)):\n",
    "    plt.annotate(str(n), xy=(X[n],Y[n]), xytext = (X[n]+0.5, Y[n]+1), color='red')\n",
    "\n",
    "plt.xlabel(\"eixo X\")\n",
    "plt.ylabel(\"eixo Y\")\n",
    "plt.title(\"TSP\")\n",
    "plt.show()"
   ]
  },
  {
   "cell_type": "code",
   "execution_count": 186,
   "metadata": {},
   "outputs": [
    {
     "name": "stdout",
     "output_type": "stream",
     "text": [
      "Set parameter TimeLimit to value 60\n",
      "Set parameter MIPGap to value 0.001\n",
      "Gurobi Optimizer version 10.0.0 build v10.0.0rc2 (linux64)\n",
      "\n",
      "CPU model: Intel(R) Core(TM) i5-1035G1 CPU @ 1.00GHz, instruction set [SSE2|AVX|AVX2|AVX512]\n",
      "Thread count: 4 physical cores, 8 logical processors, using up to 8 threads\n",
      "\n",
      "Optimize a model with 42 rows, 441 columns and 840 nonzeros\n",
      "Model fingerprint: 0x59c6fd3e\n",
      "Model has 400 general constraints\n",
      "Variable types: 21 continuous, 420 integer (420 binary)\n",
      "Coefficient statistics:\n",
      "  Matrix range     [1e+00, 1e+00]\n",
      "  Objective range  [2e+00, 1e+02]\n",
      "  Bounds range     [1e+00, 1e+00]\n",
      "  RHS range        [1e+00, 1e+00]\n",
      "  GenCon rhs range [1e+00, 1e+00]\n",
      "  GenCon coe range [1e+00, 1e+00]\n",
      "Presolve added 400 rows and 400 columns\n",
      "Presolve time: 0.01s\n",
      "Presolved: 442 rows, 841 columns, 1850 nonzeros\n",
      "Presolved model has 400 SOS constraint(s)\n",
      "Variable types: 421 continuous, 420 integer (420 binary)\n",
      "\n",
      "Root relaxation: objective 3.267793e+02, 64 iterations, 0.00 seconds (0.00 work units)\n",
      "\n",
      "    Nodes    |    Current Node    |     Objective Bounds      |     Work\n",
      " Expl Unexpl |  Obj  Depth IntInf | Incumbent    BestBd   Gap | It/Node Time\n",
      "\n",
      "     0     0  326.77933    0   20          -  326.77933      -     -    0s\n",
      "     0     0  326.77933    0   20          -  326.77933      -     -    0s\n",
      "     0     2  330.71686    0   20          -  330.71686      -     -    0s\n",
      "*  198   156              29     533.0346481  330.71686  38.0%   1.8    0s\n",
      "*  200   156              29     532.6766551  330.71686  37.9%   1.8    0s\n",
      "*  229   156              27     511.8376212  330.71686  35.4%   1.7    0s\n",
      "*  230   156              27     508.8336596  330.71686  35.0%   1.7    0s\n"
     ]
    },
    {
     "name": "stdout",
     "output_type": "stream",
     "text": [
      "*  452   308              27     445.4154134  330.71686  25.8%   1.5    0s\n",
      "*  657   422              26     437.2873657  330.71686  24.4%   1.5    0s\n",
      "H  719   496                     435.9919358  330.71686  24.1%   1.5    0s\n",
      "H 1149   656                     435.5228635  330.71686  24.1%   1.5    0s\n",
      "H 1469   680                     429.4194107  330.71686  23.0%   1.6    0s\n",
      "H 1585   709                     411.1233774  330.71686  19.6%   1.6    0s\n",
      "H 1629   669                     408.1433116  330.71686  19.0%   1.6    0s\n",
      "H 2944   979                     398.9740728  330.94329  17.1%   1.5    0s\n",
      "* 5496  1960              35     396.5841311  334.58758  15.6%   1.5    0s\n",
      "H 6613  2112                     393.6040652  338.32922  14.0%   1.5    0s\n",
      "*11764  3472              45     393.3226926  342.41388  12.9%   1.5    1s\n",
      "*11765  3452              45     392.2594072  342.41388  12.7%   1.5    1s\n",
      "H14023  3898                     389.2793413  342.90609  11.9%   1.5    1s\n",
      " 103434 16329 infeasible   43       389.27934  359.61795  7.62%   1.5    5s\n",
      " 222309 21765  383.11312   37    7  389.27934  367.65332  5.56%   1.5   10s\n",
      " 304551 20769 infeasible   42       389.27934  372.02379  4.43%   1.5   15s\n",
      " 400017 13635 infeasible   37       389.27934  377.26234  3.09%   1.4   20s\n",
      "\n",
      "Explored 474012 nodes (663635 simplex iterations) in 24.13 seconds (9.09 work units)\n",
      "Thread count was 8 (of 8 available processors)\n",
      "\n",
      "Solution count 10: 389.279 392.259 393.323 ... 435.523\n",
      "\n",
      "Optimal solution found (tolerance 1.00e-03)\n",
      "Best objective 3.892793413468e+02, best bound 3.892793413468e+02, gap 0.0000%\n"
     ]
    }
   ],
   "source": [
    "# model\n",
    "model = gp.Model(\"tsp_mzt\")\n",
    "\n",
    "# variables\n",
    "x = model.addVars(arcos, vtype = gp.GRB.BINARY, name = 'x')\n",
    "u = model.addVars(vertices, vtype = gp.GRB.CONTINUOUS, name = 'u')\n",
    "\n",
    "# objective\n",
    "model.setObjective(gp.quicksum(c[n] * x[n] for n in arcos), gp.GRB.MINIMIZE)\n",
    "\n",
    "# constraints\n",
    "model.addConstrs(gp.quicksum(x[i,j] for j in vertices if j!=i) == 1 for i in vertices)\n",
    "model.addConstrs(gp.quicksum(x[i,j] for i in vertices if i!=j) == 1 for j in vertices)\n",
    "model.addConstrs((x[i,j] == 1) >> (u[i]+1 == u[j]) for i,j in arcos if j!=0)\n",
    "\n",
    "# parameters\n",
    "model.Params.timeLimit = 600\n",
    "model.Params.MIPGap = 0.001\n",
    "\n",
    "# solve\n",
    "model.optimize()"
   ]
  },
  {
   "cell_type": "code",
   "execution_count": 187,
   "metadata": {},
   "outputs": [
    {
     "name": "stdout",
     "output_type": "stream",
     "text": [
      "optimal: 389.28\n",
      "x[0,6]=1.0\n",
      "x[1,18]=1.0\n",
      "x[2,0]=1.0\n",
      "x[3,5]=1.0\n",
      "x[4,12]=1.0\n",
      "x[5,13]=1.0\n",
      "x[6,16]=1.0\n",
      "x[7,1]=1.0\n",
      "x[8,20]=1.0\n",
      "x[9,3]=1.0\n",
      "x[10,17]=1.0\n",
      "x[11,9]=1.0\n",
      "x[12,11]=1.0\n",
      "x[13,19]=1.0\n",
      "x[14,15]=1.0\n",
      "x[15,4]=1.0\n",
      "x[16,14]=1.0\n",
      "x[17,2]=1.0\n",
      "x[18,10]=1.0\n",
      "x[19,8]=1.0\n",
      "x[20,7]=1.0\n",
      "u[1]=15.999999999999998\n",
      "u[2]=20.0\n",
      "u[3]=8.999999999999998\n",
      "u[4]=5.000000000000001\n",
      "u[5]=9.999999999999998\n",
      "u[6]=0.9999999999999998\n",
      "u[7]=14.999999999999998\n",
      "u[8]=12.999999999999998\n",
      "u[9]=7.999999999999998\n",
      "u[10]=18.0\n",
      "u[11]=6.999999999999997\n",
      "u[12]=5.999999999999997\n",
      "u[13]=10.999999999999998\n",
      "u[14]=3.0\n",
      "u[15]=4.0\n",
      "u[16]=1.9999999999999998\n",
      "u[17]=19.0\n",
      "u[18]=17.0\n",
      "u[19]=11.999999999999998\n",
      "u[20]=13.999999999999998\n"
     ]
    }
   ],
   "source": [
    "# solutions\n",
    "print(\"optimal:\", str(round(model.objVal,2)))\n",
    "\n",
    "for v in model.getVars():\n",
    "    if v.x > 0.9:\n",
    "        print(str(v.VarName)+\"=\"+str(v.x))"
   ]
  },
  {
   "cell_type": "code",
   "execution_count": 188,
   "metadata": {},
   "outputs": [
    {
     "data": {
      "image/png": "[encoded data removed]",
      "text/plain": [
       "<Figure size 864x360 with 1 Axes>"
      ]
     },
     "metadata": {
      "needs_background": "light"
     },
     "output_type": "display_data"
    }
   ],
   "source": [
    "# grafic\n",
    "\n",
    "arcos_ativos = [i for i in arcos if x[i].x > 0.9]\n",
    "#print(arcos_ativos)\n",
    "\n",
    "# print\n",
    "plt.figure(figsize = (12,5))\n",
    "plt.xlabel\n",
    "plt.ylabel\n",
    "\n",
    "plt.scatter(x=X, y=Y, color='blue', zorder=1)\n",
    "\n",
    "# line between arcos\n",
    "for i,j in arcos_ativos:\n",
    "    plt.plot([X[i],X[j]],[Y[i],Y[j]], color='b', alpha=0.4, zorder=0)\n",
    "\n",
    "for n in range(len(X)):\n",
    "    plt.annotate(str(n), xy=(X[n],Y[n]), xytext=(X[n]+0.5, Y[n]+1), color='red')\n",
    "\n",
    "plt.show()"
   ]
  },
  {
   "cell_type": "markdown",
   "metadata": {},
   "source": [
    "### TSP Formulation\n",
    "\n",
    "- Sets and Indices\n",
    "\n",
    "$N = \\{1,2,\\ldots,n \\}$: set onf cities\n",
    "\n",
    "$i, j \\in N $: indices and set of cities.\n",
    "\n",
    "$\\text{E}= \\{(i,j) \\in N \\times N \\}$: set of allowed pairings\n",
    "\n",
    "$S \\subset N$: a subset of the set cities.\n",
    "\n",
    "$G = (N, E)$: a graph where the set $N$ defines the set of nodes and the set $E$ defines the set of edges. \n",
    "\n",
    "- Parameters \n",
    "\n",
    "$c_{i, j} \\in \\mathbb{R}_+$: distance from city $i$ to city $j$, for all $(i, j) \\in E$. \n",
    "\n",
    "Notice that the distance from city $i$ to city $j$ is the same as the distance from city $j$ to city $i$, i.e. $c_{i,j} = c_{j,i}$. \n",
    "\n",
    "For this reason, this TSP is also called the symmetric Traveling Salesman Problem.\n",
    "\n",
    "-  Decision variables\n",
    "\n",
    "$x_{i, j} \\in \\{0, 1\\}$: this variable is equal to 1, if we decide to connect city $i$ with city $j$. Otherwise, the decision variable is equal to zero.\n",
    "\n",
    "- Objective function\n",
    "\n",
    "**Shortest Route**. Minimize the total distance of a route. \n",
    "A route is a sequence of cities where the salesperson visits each city only once and returns to the starting capital city.\n",
    "\n",
    "\\begin{equation}\n",
    "\\text{min} \\quad z = \\sum_{(i,j) \\in \\text{E}} c_{i,j} \\cdot x_{i,j}\n",
    "\\tag{0}\n",
    "\\end{equation}\n",
    "\n",
    "- Constraints \n",
    "\n",
    "**Symmetry constraints**.\n",
    "For each edge $(i,j)$, ensure that the city $i$ and $j$ are connected, if the former is visited immediately before or after visiting the latter.\n",
    "\n",
    "\\begin{equation}\n",
    "x_{i, j} = x_{j, i} \\quad \\forall (i, j) \\in E\n",
    "\\tag{1}\n",
    "\\end{equation}\n",
    "\n",
    "**Entering and leaving a city**. \n",
    "For each city $i$, ensure that this city is connected to two other cities. \n",
    "\n",
    "\\begin{equation}\n",
    "\\sum_{(i,j) \\in \\text{E}} x_{i,j} = 2, \\quad \\forall i \\in N\n",
    "\\tag{2}\n",
    "\\end{equation}\n",
    "\n",
    "**Subtour elimination**. \n",
    "These constraints ensure that for any subset of cities $S$ of the set of $N$, there is no cycle. \n",
    "That is, there is no route that visits all the cities in the subset and returns to the origin city.\n",
    "\n",
    "\\begin{equation}\n",
    "\\sum_{(i \\neq j) \\in S} x_{i,j} \\leq |S|-1, \\quad \\forall S \\subset N, \\quad S \\not= \\emptyset\n",
    "\\tag{3}\n",
    "\\end{equation}\n",
    "\n",
    "**Remark**. In general, if the number of cities of the TSP is $n$, then the possible number of routes is n\\!.\n",
    "Since there are an exponential number of constraints ($2^{n} - 2$) to eliminate cycles, we use lazy constraints to dynamically eliminate those cycles. "
   ]
  },
  {
   "cell_type": "markdown",
   "metadata": {},
   "source": [
    "### Lazy Constraints\n",
    "\n",
    "The basic idea of **Lazy Constraints** is to initially formulate the problem only with the most essential constraints, omitting those that are only rarely violated. \n",
    "\n",
    "These other constraints are checked and added one-by-one to the model only if the current solution violates any of them. \n",
    "\n",
    "In other words, some constraints are generated in a lazy fashion, i.e. the constraint is added to the model only if the solution violates it.\n",
    "\n",
    "Lazy constraints have to be enabled by setting model parameter ```lazyConstraints``` to 1.\n",
    "\n",
    "```\n",
    "model = g.Model()\n",
    "model.Params.lazyConstraints = 1\n",
    "```\n",
    "\n",
    "To define a callback, create a function that accepts two arguments: ```model``` and ```where```. \n",
    "Thecallback is then passed to model when calling ```optimize()```.\n",
    "\n",
    "```\n",
    "def my_callback(model, where):\n",
    "    # Callback is called when some event occur. The type of event is\n",
    "    # distinguished using argument ’’where’’.\n",
    "    # In this case, we want to perform something when an integer\n",
    "    # solution is found, which corresponds to ’’GRB.Callback.MIPSOL’’.\n",
    "    if where == GRB.Callback.MIPSOL:\n",
    "        # TODO : your code here ...\n",
    "        # Get the value of variable x[i,j] from the solution .\n",
    "        # You may also pass a list of variables to the method .\n",
    "        value = model.cbGetSolution(x[i,j])\n",
    "        # Add lazy constraint to model.\n",
    "        model.cbLazy(...)\n",
    "        \n",
    "model.optimize(my_callback)\n",
    "```"
   ]
  },
  {
   "cell_type": "markdown",
   "metadata": {},
   "source": [
    "### Code\n",
    "\n",
    "Consider a salesperson that needs to visit customers at each state capital of the continental US. \n",
    "\n",
    "The salesperson wants to identify the shortest route that goes to all the state capitals.\n",
    "\n",
    "This modeling example requires the following libraries that are not part of the standard Python distribution:\n",
    "* **folium**: to create maps.\n",
    "* **gurobipy**: provides Gurobi algorithms to solve MIP models.\n"
   ]
  },
  {
   "cell_type": "markdown",
   "metadata": {},
   "source": [
    "### Reading Input Data\n",
    "\n",
    "The capital names and coordinates are read from a json file.\n",
    "\n",
    "JSON: stands for JavaScript Object Notation, is a text format for storing and transporting data, is \"self-describing\" and easy to understand."
   ]
  },
  {
   "cell_type": "code",
   "execution_count": 3,
   "metadata": {},
   "outputs": [],
   "source": [
    "import json\n",
    "\n",
    "# Read capital names and coordinates from json file\n",
    "capitals_json = json.load(open('instances/capitals.json'))\n",
    "capitals = []\n",
    "coordinates = {}\n",
    "for state in capitals_json:\n",
    "    if state not in ['AK', 'HI']:\n",
    "      capital = capitals_json[state]['capital']\n",
    "      capitals.append(capital)\n",
    "      coordinates[capital] = (float(capitals_json[state]['lat']), float(capitals_json[state]['long']))"
   ]
  },
  {
   "cell_type": "markdown",
   "metadata": {},
   "source": [
    "### Data computation\n",
    "\n",
    "The following function calculates the distance for each pair of state capitals. \n",
    "\n",
    "Since we are solving the _symmetric_ traveling salesman problem, we use _combinations_ of cities."
   ]
  },
  {
   "cell_type": "code",
   "execution_count": 4,
   "metadata": {},
   "outputs": [],
   "source": [
    "import math\n",
    "from itertools import combinations\n",
    "\n",
    "# Compute pairwise distance matrix\n",
    "\n",
    "def distance(x, y):\n",
    "    c1 = coordinates[x]\n",
    "    c2 = coordinates[y]\n",
    "    diff = (c1[0]-c2[0], c1[1]-c2[1])\n",
    "    return math.sqrt(diff[0]*diff[0]+diff[1]*diff[1])\n",
    "\n",
    "dist = {(c1, c2): distance(c1, c2) for c1, c2 in combinations(capitals, 2)}"
   ]
  },
  {
   "cell_type": "markdown",
   "metadata": {},
   "source": [
    "### Model Code\n",
    "\n",
    "We now write the model for the TSP, by defining decision variables, constraints, and objective function. \n",
    "\n",
    "Because this is the _symmetric_ traveling salesman problem, we can make it more efficient by setting the _object_ x[j,i] to x[i,j], instead of a constraint."
   ]
  },
  {
   "cell_type": "code",
   "execution_count": 11,
   "metadata": {},
   "outputs": [],
   "source": [
    "import gurobipy as gp\n",
    "from gurobipy import GRB\n",
    "\n",
    "model = gp.Model()\n",
    "\n",
    "# Variables: is city 'i' adjacent to city 'j' on the tour?\n",
    "vars = model.addVars(dist.keys(), obj=dist, vtype=GRB.BINARY, name='x')\n",
    "\n",
    "# Symmetric direction: Copy the object\n",
    "for i, j in vars.keys():\n",
    "    vars[j, i] = vars[i, j]  # edge in opposite direction\n",
    "\n",
    "# Constraints: two edges incident to each city\n",
    "cons = model.addConstrs(vars.sum(c, '*') == 2 for c in capitals)"
   ]
  },
  {
   "cell_type": "markdown",
   "metadata": {},
   "source": [
    "### Callback Definition\n",
    "\n",
    "Subtour constraints prevent multiple loops in a TSP tour. \n",
    "\n",
    "Because there are an exponential number of these constraints, we don't want to add them all to the model. \n",
    "\n",
    "Instead, we use a callback function to find violated subtour constraints and add them to the model as lazy constraints."
   ]
  },
  {
   "cell_type": "code",
   "execution_count": 12,
   "metadata": {},
   "outputs": [],
   "source": [
    "# Given a tuplelist of edges, find the shortest subtour\n",
    "def subtour(edges):\n",
    "    unvisited = capitals[:]\n",
    "    cycle = capitals[:] # Dummy - guaranteed to be replaced\n",
    "    while unvisited:  # true if list is non-empty\n",
    "        thiscycle = []\n",
    "        neighbors = unvisited\n",
    "        while neighbors:\n",
    "            current = neighbors[0]\n",
    "            thiscycle.append(current)\n",
    "            unvisited.remove(current)\n",
    "            neighbors = [j for i, j in edges.select(current, '*') if j in unvisited]\n",
    "        if len(thiscycle) <= len(cycle):\n",
    "            cycle = thiscycle # New shortest subtour\n",
    "            \n",
    "    return cycle\n",
    "\n",
    "# Callback - use lazy constraints to eliminate sub-tours\n",
    "def subtourelim(model, where):\n",
    "    if where == GRB.Callback.MIPSOL:\n",
    "        # make a list of edges selected in the solution\n",
    "        vals = model.cbGetSolution(model._vars)\n",
    "        selected = gp.tuplelist((i, j) for i, j in model._vars.keys() if vals[i, j] > 0.5)\n",
    "        # find the shortest cycle in the selected edge list\n",
    "        tour = subtour(selected)\n",
    "        if len(tour) < len(capitals):\n",
    "            # add subtour elimination constr. for every pair of cities in subtour\n",
    "            model.cbLazy(gp.quicksum(model._vars[i, j] for i, j in combinations(tour, 2)) <= len(tour)-1)"
   ]
  },
  {
   "cell_type": "markdown",
   "metadata": {},
   "source": [
    "## Solve the model"
   ]
  },
  {
   "cell_type": "code",
   "execution_count": 13,
   "metadata": {},
   "outputs": [
    {
     "name": "stdout",
     "output_type": "stream",
     "text": [
      "Set parameter LazyConstraints to value 1\n",
      "Gurobi Optimizer version 10.0.0 build v10.0.0rc2 (linux64)\n",
      "\n",
      "CPU model: Intel(R) Core(TM) i5-1035G1 CPU @ 1.00GHz, instruction set [SSE2|AVX|AVX2|AVX512]\n",
      "Thread count: 4 physical cores, 8 logical processors, using up to 8 threads\n",
      "\n",
      "Optimize a model with 48 rows, 1128 columns and 2256 nonzeros\n",
      "Model fingerprint: 0x63641a38\n",
      "Variable types: 0 continuous, 1128 integer (1128 binary)\n",
      "Coefficient statistics:\n",
      "  Matrix range     [1e+00, 1e+00]\n",
      "  Objective range  [6e-01, 5e+01]\n",
      "  Bounds range     [1e+00, 1e+00]\n",
      "  RHS range        [2e+00, 2e+00]\n",
      "Presolve time: 0.00s\n",
      "Presolved: 48 rows, 1128 columns, 2256 nonzeros\n",
      "Variable types: 0 continuous, 1128 integer (1128 binary)\n",
      "\n",
      "Root relaxation: objective 1.611858e+02, 72 iterations, 0.00 seconds (0.00 work units)\n",
      "\n",
      "    Nodes    |    Current Node    |     Objective Bounds      |     Work\n",
      " Expl Unexpl |  Obj  Depth IntInf | Incumbent    BestBd   Gap | It/Node Time\n",
      "\n",
      "     0     0  161.18576    0   12          -  161.18576      -     -    0s\n",
      "     0     0  163.11017    0   18          -  163.11017      -     -    0s\n",
      "     0     0  164.15548    0   16          -  164.15548      -     -    0s\n",
      "     0     0  164.98159    0    8          -  164.98159      -     -    0s\n",
      "     0     0  165.13384    0   27          -  165.13384      -     -    0s\n",
      "     0     2  165.30532    0   29          -  165.30532      -     -    0s\n",
      "*  487   235              13     181.4109669  167.81559  7.49%   4.9    0s\n",
      "*  491   223               9     180.5905980  167.81559  7.07%   5.0    0s\n",
      "*  497   205              14     179.6413727  167.81559  6.58%   5.4    0s\n",
      "*  499   199               7     176.0320261  167.81559  4.67%   5.5    0s\n",
      "*  600    79               6     175.4490370  169.17219  3.58%   6.7    0s\n",
      "\n",
      "Cutting planes:\n",
      "  Zero half: 10\n",
      "  Lazy constraints: 49\n",
      "\n",
      "Explored 786 nodes (5760 simplex iterations) in 0.32 seconds (0.12 work units)\n",
      "Thread count was 8 (of 8 available processors)\n",
      "\n",
      "Solution count 5: 175.449 176.032 179.641 ... 181.411\n",
      "\n",
      "Optimal solution found (tolerance 1.00e-04)\n",
      "Best objective 1.754490370198e+02, best bound 1.754490370198e+02, gap 0.0000%\n",
      "\n",
      "User-callback calls 1859, time in user-callback 0.10 sec\n"
     ]
    }
   ],
   "source": [
    "model._vars = vars\n",
    "model.Params.lazyConstraints = 1\n",
    "model.optimize(subtourelim)"
   ]
  },
  {
   "cell_type": "markdown",
   "metadata": {},
   "source": [
    "## Analysis\n",
    "\n",
    "We retrieve the optimal solution of the TSP and verify that the optimal route (or tour) goes to all the cities and returns to the origin city."
   ]
  },
  {
   "cell_type": "code",
   "execution_count": 14,
   "metadata": {},
   "outputs": [],
   "source": [
    "# Retrieve solution\n",
    "\n",
    "vals = model.getAttr('x', vars)\n",
    "selected = gp.tuplelist((i, j) for i, j in vals.keys() if vals[i, j] > 0.5)\n",
    "\n",
    "tour = subtour(selected)\n",
    "assert len(tour) == len(capitals)"
   ]
  },
  {
   "cell_type": "markdown",
   "metadata": {},
   "source": [
    "The optimal route is displayed in the following map."
   ]
  },
  {
   "cell_type": "code",
   "execution_count": 15,
   "metadata": {},
   "outputs": [
    {
     "data": {
      "text/html": [
       "<div style=\"width:100%;\"><div style=\"position:relative;width:100%;height:0;padding-bottom:60%;\"><span style=\"color:#565656\">Make this Notebook Trusted to load map: File -> Trust Notebook</span><iframe srcdoc=\"&lt;!DOCTYPE html&gt;\n",
       "&lt;html&gt;\n",
       "&lt;head&gt;\n",
       "    \n",
       "    &lt;meta http-equiv=&quot;content-type&quot; content=&quot;text/html; charset=UTF-8&quot; /&gt;\n",
       "    \n",
       "        &lt;script&gt;\n",
       "            L_NO_TOUCH = false;\n",
       "            L_DISABLE_3D = false;\n",
       "        &lt;/script&gt;\n",
       "    \n",
       "    &lt;style&gt;html, body {width: 100%;height: 100%;margin: 0;padding: 0;}&lt;/style&gt;\n",
       "    &lt;style&gt;#map {position:absolute;top:0;bottom:0;right:0;left:0;}&lt;/style&gt;\n",
       "    &lt;script src=&quot;https://cdn.jsdelivr.net/npm/leaflet@1.9.3/dist/leaflet.js&quot;&gt;&lt;/script&gt;\n",
       "    &lt;script src=&quot;https://code.jquery.com/jquery-3.7.1.min.js&quot;&gt;&lt;/script&gt;\n",
       "    &lt;script src=&quot;https://cdn.jsdelivr.net/npm/bootstrap@5.2.2/dist/js/bootstrap.bundle.min.js&quot;&gt;&lt;/script&gt;\n",
       "    &lt;script src=&quot;https://cdnjs.cloudflare.com/ajax/libs/Leaflet.awesome-markers/2.0.2/leaflet.awesome-markers.js&quot;&gt;&lt;/script&gt;\n",
       "    &lt;link rel=&quot;stylesheet&quot; href=&quot;https://cdn.jsdelivr.net/npm/leaflet@1.9.3/dist/leaflet.css&quot;/&gt;\n",
       "    &lt;link rel=&quot;stylesheet&quot; href=&quot;https://cdn.jsdelivr.net/npm/bootstrap@5.2.2/dist/css/bootstrap.min.css&quot;/&gt;\n",
       "    &lt;link rel=&quot;stylesheet&quot; href=&quot;https://netdna.bootstrapcdn.com/bootstrap/3.0.0/css/bootstrap-glyphicons.css&quot;/&gt;\n",
       "    &lt;link rel=&quot;stylesheet&quot; href=&quot;https://cdn.jsdelivr.net/npm/@fortawesome/fontawesome-free@6.2.0/css/all.min.css&quot;/&gt;\n",
       "    &lt;link rel=&quot;stylesheet&quot; href=&quot;https://cdnjs.cloudflare.com/ajax/libs/Leaflet.awesome-markers/2.0.2/leaflet.awesome-markers.css&quot;/&gt;\n",
       "    &lt;link rel=&quot;stylesheet&quot; href=&quot;https://cdn.jsdelivr.net/gh/python-visualization/folium/folium/templates/leaflet.awesome.rotate.min.css&quot;/&gt;\n",
       "    \n",
       "            &lt;meta name=&quot;viewport&quot; content=&quot;width=device-width,\n",
       "                initial-scale=1.0, maximum-scale=1.0, user-scalable=no&quot; /&gt;\n",
       "            &lt;style&gt;\n",
       "                #map_137d7258d93b7063d10f1938b1866b60 {\n",
       "                    position: relative;\n",
       "                    width: 100.0%;\n",
       "                    height: 100.0%;\n",
       "                    left: 0.0%;\n",
       "                    top: 0.0%;\n",
       "                }\n",
       "                .leaflet-container { font-size: 1rem; }\n",
       "            &lt;/style&gt;\n",
       "        \n",
       "&lt;/head&gt;\n",
       "&lt;body&gt;\n",
       "    \n",
       "    \n",
       "            &lt;div class=&quot;folium-map&quot; id=&quot;map_137d7258d93b7063d10f1938b1866b60&quot; &gt;&lt;/div&gt;\n",
       "        \n",
       "&lt;/body&gt;\n",
       "&lt;script&gt;\n",
       "    \n",
       "    \n",
       "            var map_137d7258d93b7063d10f1938b1866b60 = L.map(\n",
       "                &quot;map_137d7258d93b7063d10f1938b1866b60&quot;,\n",
       "                {\n",
       "                    center: [40.0, -95.0],\n",
       "                    crs: L.CRS.EPSG3857,\n",
       "                    zoom: 4,\n",
       "                    zoomControl: true,\n",
       "                    preferCanvas: false,\n",
       "                }\n",
       "            );\n",
       "\n",
       "            \n",
       "\n",
       "        \n",
       "    \n",
       "            var tile_layer_629894b9617ae455e1f675bc4558ee96 = L.tileLayer(\n",
       "                &quot;https://tile.openstreetmap.org/{z}/{x}/{y}.png&quot;,\n",
       "                {&quot;attribution&quot;: &quot;\\u0026copy; \\u003ca href=\\&quot;https://www.openstreetmap.org/copyright\\&quot;\\u003eOpenStreetMap\\u003c/a\\u003e contributors&quot;, &quot;detectRetina&quot;: false, &quot;maxNativeZoom&quot;: 19, &quot;maxZoom&quot;: 19, &quot;minZoom&quot;: 0, &quot;noWrap&quot;: false, &quot;opacity&quot;: 1, &quot;subdomains&quot;: &quot;abc&quot;, &quot;tms&quot;: false}\n",
       "            );\n",
       "        \n",
       "    \n",
       "            tile_layer_629894b9617ae455e1f675bc4558ee96.addTo(map_137d7258d93b7063d10f1938b1866b60);\n",
       "        \n",
       "    \n",
       "            var poly_line_59bd2b0a8381e8a2d40e937df2db27fa = L.polyline(\n",
       "                [[32.361538, -86.279118], [30.4518, -84.27277], [33.76, -84.39], [34.0, -81.035], [35.771, -78.638], [37.54, -77.46], [38.972945, -76.501157], [39.161921, -75.526755], [40.221741, -74.756138], [41.767, -72.677], [41.82355, -71.422132], [42.2352, -71.0275], [44.323535, -69.765261], [43.220093, -71.549127], [44.26639, -72.57194], [42.659829, -73.781339], [40.269789, -76.875613], [38.349497, -81.633294], [39.962245, -83.000647], [42.7335, -84.5467], [43.074722, -89.384444], [44.95, -93.094], [41.590939, -93.620866], [39.04, -95.69], [40.809868, -96.675345], [44.367966, -100.336378], [46.813343, -100.779004], [41.145548, -104.802042], [39.7391667, -104.984167], [40.7547, -111.892622], [46.595805, -112.027031], [43.613739, -116.237651], [47.042418, -122.893077], [44.931109, -123.029159], [38.555605, -121.468926], [39.160949, -119.753877], [33.448457, -112.073844], [35.667231, -105.964575], [35.482309, -97.534994], [30.266667, -97.75], [30.45809, -91.140229], [32.32, -90.207], [34.736009, -92.331122], [38.572954, -92.189283], [39.78325, -89.650373], [39.790942, -86.147685], [38.197274, -84.86311], [36.165, -86.784], [32.361538, -86.279118]],\n",
       "                {&quot;bubblingMouseEvents&quot;: true, &quot;color&quot;: &quot;#3388ff&quot;, &quot;dashArray&quot;: null, &quot;dashOffset&quot;: null, &quot;fill&quot;: false, &quot;fillColor&quot;: &quot;#3388ff&quot;, &quot;fillOpacity&quot;: 0.2, &quot;fillRule&quot;: &quot;evenodd&quot;, &quot;lineCap&quot;: &quot;round&quot;, &quot;lineJoin&quot;: &quot;round&quot;, &quot;noClip&quot;: false, &quot;opacity&quot;: 1.0, &quot;smoothFactor&quot;: 1.0, &quot;stroke&quot;: true, &quot;weight&quot;: 3}\n",
       "            ).addTo(map_137d7258d93b7063d10f1938b1866b60);\n",
       "        \n",
       "&lt;/script&gt;\n",
       "&lt;/html&gt;\" style=\"position:absolute;width:100%;height:100%;left:0;top:0;border:none !important;\" allowfullscreen webkitallowfullscreen mozallowfullscreen></iframe></div></div>"
      ],
      "text/plain": [
       "<folium.folium.Map at 0x7f6604123a30>"
      ]
     },
     "execution_count": 15,
     "metadata": {},
     "output_type": "execute_result"
    }
   ],
   "source": [
    "# Map the solution\n",
    "\n",
    "import folium\n",
    "\n",
    "map = folium.Map(location=[40,-95], zoom_start = 4)\n",
    "\n",
    "points = []\n",
    "for city in tour:\n",
    "  points.append(coordinates[city])\n",
    "points.append(points[0])\n",
    "\n",
    "folium.PolyLine(points).add_to(map)\n",
    "\n",
    "map"
   ]
  },
  {
   "cell_type": "code",
   "execution_count": null,
   "metadata": {},
   "outputs": [],
   "source": []
  },
  {
   "cell_type": "markdown",
   "metadata": {},
   "source": [
    "## Conclusions\n",
    "\n",
    "The Traveling Salesman Problem (TSP) is the most popular combinatorial optimization problem. \n",
    "\n",
    "This problem is very easy to explain, although it is very complicated to solve. \n",
    "\n",
    "The largest TSP problem solved has 85,900 cities. \n",
    "\n",
    "The TSP is a source of discovery for new approaches to solve complex combinatorial optimization problems and has led to many applications.\n",
    "\n",
    "In this modeling example, we have shown how to formulate the symmetric Traveling Salesman Problem as a MIP problem. \n",
    "\n",
    "We also showed how to dynamically eliminate subtours by using lazy constraints. "
   ]
  },
  {
   "cell_type": "markdown",
   "metadata": {},
   "source": [
    "## References\n",
    "\n",
    "[1] D. L. Applegate, R. E. Bixby, V. Chvatal and W. J. Cook , The Traveling Salesman Problem: A Computational Study, Princeton University Press, Princeton, 2006.\n",
    "\n",
    "[2] http://www.math.uwaterloo.ca/tsp/index.html\n",
    "\n",
    "[3] https://www.youtube.com/watch?v=q8nQTNvCrjE&t=35s\n",
    "\n",
    "[4] http://www.math.uwaterloo.ca/tsp/concorde.html\n",
    "\n",
    "[5] https://github.com/Gurobi/modeling-examples/tree/master/traveling_salesman"
   ]
  },
  {
   "cell_type": "markdown",
   "metadata": {},
   "source": []
  }
 ],
 "metadata": {
  "kernelspec": {
   "display_name": "Python 3",
   "language": "python",
   "name": "python3"
  },
  "language_info": {
   "codemirror_mode": {
    "name": "ipython",
    "version": 3
   },
   "file_extension": ".py",
   "mimetype": "text/x-python",
   "name": "python",
   "nbconvert_exporter": "python",
   "pygments_lexer": "ipython3",
   "version": "3.10.12"
  }
 },
 "nbformat": 4,
 "nbformat_minor": 2
}
