{
 "cells": [
  {
   "cell_type": "markdown",
   "metadata": {},
   "source": [
    "## The Traveling Salesman Problem (TSP)"
   ]
  },
  {
   "cell_type": "markdown",
   "metadata": {},
   "source": [
    "### Problem\n",
    "\n",
    "Consider a set if $n$ cities $N =\\{ 1, 2, \\ldots, n \\}$.\n",
    "\n",
    "A salesman must visit each of $n$ cities exactly once and then return to his starting point.\n",
    "\n",
    "The time taken to travel from city $i$ to city $j$ is $c_{ij}, \\ i \\not= j$.\n",
    "\n",
    "Find the order in which he should make his tour so as to finish as quickcly as possible."
   ]
  },
  {
   "cell_type": "markdown",
   "metadata": {},
   "source": [
    "### Applications\n",
    "\n",
    "This problem arises in a multitude of forms:\n",
    "- a truck driver has a list of clients he must visit on a given day.\n",
    "- a machine must place modules on printed circuit boards.\n",
    "- a stacker crane must pick up and depose crates."
   ]
  },
  {
   "cell_type": "markdown",
   "metadata": {},
   "source": [
    "### TSP formulation as a BIP\n",
    "\n",
    "#### The variables:\n",
    "\n",
    "- $x_{ij} = 1$ if the salesman goes directly from town $i$ to town $j$, and $x_{ij}= 0$ otherwise, for $i \\not= j$.\n",
    "\n",
    "#### The constraints:\n",
    "\n",
    "- He leaves town $i$ exactly once:\n",
    "$$\n",
    "\\sum_{j:j\\not=i} x_{ij} = 1 \\quad for \\quad i=1, \\ldots, n\n",
    "$$\n",
    "\n",
    "- He arrives at town $j$ exactly once:\n",
    "$$\n",
    "\\sum_{i:i\\not=j} x_{ij} = 1 \\quad for \\quad j=1, \\ldots, n\n",
    "$$\n",
    "\n",
    "So far the are the constraints of the assigment problem.\n",
    "\n",
    "A solution to the assigment problem might given a solution of the form a set of disconnected subtours.\n",
    "\n",
    "To eliminate these solutions, we need more constraints that guarantee connectivity by imposing that the salesman must pass from one set of cities to another: cut-set constraints or subtour eliminations constraints.\n",
    "\n",
    "- Cut-set constraints:\n",
    "$$\n",
    "\\sum_{i \\in S} \\sum_{j \\notin S} x_{ij} \\geq 1, \\quad S \\subset N, \\quad S \\not= \\emptyset\n",
    "$$\n",
    "\n",
    "- subtour elimination contraints:\n",
    "$$\n",
    "\\sum_{i \\in S} \\sum_{j \\in S} x_{ij} \\leq | S | - 1, \\quad S \\subset N, \\quad 2 \\leq | S | \\leq n -1 \n",
    "$$\n",
    "\n",
    "- Miller-Tucker-Zemlin (MTZ) subtour elimination constraints\n",
    "\n",
    "For each $i \\in V$ let $u_i \\in \\mathbb{R}_{+}$ be an auxiliary variable.\n",
    "\n",
    "The subtour elimination constraints work by labeling the order in which the nodes are visited. \n",
    "\n",
    "The variable $u$ be the rank of each node in order of visits. \n",
    "\n",
    "If $x_{ij} = 1$ then $u_i +1 = u_j$ for $i=1,2, \\ldots, n$, $j=1,2, \\ldots, n$, $i<j$.\n",
    "\n",
    "#### The objective function:\n",
    "$$\n",
    "\\min \\ \\sum_{i=1}^{n} \\sum_{j=1}^{n} c_{ij} x_{ij}\n",
    "$$"
   ]
  },
  {
   "cell_type": "markdown",
   "metadata": {},
   "source": [
    "### Complexity\n",
    "\n",
    "Starting at city 1, the salesman has $n$-1 choices.\n",
    "\n",
    "For the next choice $n$-2 cities are possible, and so on.\n",
    "\n",
    "Thus there ares ($n$-1)! feasible tours.\n",
    "\n",
    "The tabel show how rapidly certain functions grow. \n",
    "\n",
    "| $n$ | $n$! |\n",
    "|-----|------|\n",
    "| 10  |$3.6 \\times 10^{6}$ |\n",
    "| 100 |$9.33 \\times 10^{157}$ |\n",
    "| 1000 | $4.02 \\times 10^{2567}$ |"
   ]
  },
  {
   "cell_type": "code",
   "execution_count": 41,
   "metadata": {},
   "outputs": [],
   "source": [
    "# lyibrary\n",
    "\n",
    "import gurobipy as gp\n",
    "import numpy as np\n",
    "import matplotlib.pyplot as plt"
   ]
  },
  {
   "cell_type": "code",
   "execution_count": 42,
   "metadata": {},
   "outputs": [],
   "source": [
    "# criando os vértices\n",
    "n = 30\n",
    "vertices = [i for i in range(n)]"
   ]
  },
  {
   "cell_type": "code",
   "execution_count": 43,
   "metadata": {},
   "outputs": [],
   "source": [
    "# criando os arcos\n",
    "arcos = [(i,j) for i in vertices for j in vertices if i!=j]"
   ]
  },
  {
   "cell_type": "code",
   "execution_count": 44,
   "metadata": {},
   "outputs": [],
   "source": [
    "# coordenadas\n",
    "np.random.seed(0)\n",
    "X = np.random.random(n)*100\n",
    "Y = np.random.random(n)*100"
   ]
  },
  {
   "cell_type": "code",
   "execution_count": 45,
   "metadata": {},
   "outputs": [],
   "source": [
    "# distancias\n",
    "c = {(i,j): np.hypot(X[i]-X[j],Y[i]-Y[j]) for i in vertices for j in vertices if i!=j}"
   ]
  },
  {
   "cell_type": "code",
   "execution_count": 46,
   "metadata": {},
   "outputs": [
    {
     "data": {
      "image/png": "[encoded data removed]",
      "text/plain": [
       "<Figure size 1080x576 with 1 Axes>"
      ]
     },
     "metadata": {
      "needs_background": "light"
     },
     "output_type": "display_data"
    }
   ],
   "source": [
    "# grafic\n",
    "\n",
    "plt.figure(figsize=(15,8))\n",
    "plt.scatter(X,Y,color='blue')\n",
    "\n",
    "for n in range(len(X)):\n",
    "    plt.annotate(str(n), xy=(X[n],Y[n]), xytext = (X[n]+0.5, Y[n]+1), color='red')\n",
    "\n",
    "plt.xlabel(\"eixo X\")\n",
    "plt.ylabel(\"eixo Y\")\n",
    "plt.title(\"City location\")\n",
    "plt.show()"
   ]
  },
  {
   "cell_type": "code",
   "execution_count": 54,
   "metadata": {},
   "outputs": [
    {
     "name": "stdout",
     "output_type": "stream",
     "text": [
      "Set parameter TimeLimit to value 600\n",
      "Set parameter MIPGap to value 0.001\n",
      "Gurobi Optimizer version 10.0.0 build v10.0.0rc2 (linux64)\n",
      "\n"
     ]
    },
    {
     "name": "stdout",
     "output_type": "stream",
     "text": [
      "CPU model: Intel(R) Core(TM) i5-1035G1 CPU @ 1.00GHz, instruction set [SSE2|AVX|AVX2|AVX512]\n",
      "Thread count: 4 physical cores, 8 logical processors, using up to 8 threads\n",
      "\n",
      "Optimize a model with 60 rows, 870 columns and 1740 nonzeros\n",
      "Model fingerprint: 0x4ed1bc97\n",
      "Variable types: 0 continuous, 870 integer (870 binary)\n",
      "Coefficient statistics:\n",
      "  Matrix range     [1e+00, 1e+00]\n",
      "  Objective range  [2e+00, 1e+02]\n",
      "  Bounds range     [1e+00, 1e+00]\n",
      "  RHS range        [1e+00, 1e+00]\n",
      "Found heuristic solution: objective 1643.1009670\n",
      "Presolve time: 0.01s\n",
      "Presolved: 60 rows, 870 columns, 1740 nonzeros\n",
      "Variable types: 0 continuous, 870 integer (870 binary)\n",
      "\n",
      "Root relaxation: objective 3.883259e+02, 50 iterations, 0.00 seconds (0.00 work units)\n",
      "\n",
      "    Nodes    |    Current Node    |     Objective Bounds      |     Work\n",
      " Expl Unexpl |  Obj  Depth IntInf | Incumbent    BestBd   Gap | It/Node Time\n",
      "\n",
      "*    0     0               0     388.3258800  388.32588  0.00%     -    0s\n",
      "\n",
      "Explored 1 nodes (50 simplex iterations) in 0.02 seconds (0.01 work units)\n",
      "Thread count was 8 (of 8 available processors)\n",
      "\n",
      "Solution count 2: 388.326 1643.1 \n",
      "\n",
      "Optimal solution found (tolerance 1.00e-03)\n",
      "Best objective 3.883258800211e+02, best bound 3.883258800211e+02, gap 0.0000%\n"
     ]
    }
   ],
   "source": [
    "# assingment model\n",
    "\n",
    "model = gp.Model(\"assign\")\n",
    "\n",
    "# variables\n",
    "x = model.addVars(arcos, vtype = gp.GRB.BINARY, name = 'x')\n",
    "\n",
    "# objective\n",
    "model.setObjective(gp.quicksum(c[e] * x[e] for e in arcos), gp.GRB.MINIMIZE)\n",
    "\n",
    "# constraints\n",
    "model.addConstrs(gp.quicksum(x[i,j] for j in vertices if j!=i) == 1 for i in vertices)\n",
    "model.addConstrs(gp.quicksum(x[i,j] for i in vertices if i!=j) == 1 for j in vertices)\n",
    "\n",
    "# parameters\n",
    "model.Params.timeLimit = 600\n",
    "model.Params.MIPGap = 0.001\n",
    "\n",
    "# solve\n",
    "model.optimize()"
   ]
  },
  {
   "cell_type": "code",
   "execution_count": 55,
   "metadata": {},
   "outputs": [
    {
     "name": "stdout",
     "output_type": "stream",
     "text": [
      "optimal: 388.33\n",
      "x[0,25]=1.0\n",
      "x[1,8]=1.0\n",
      "x[2,28]=1.0\n",
      "x[3,5]=1.0\n",
      "x[4,29]=1.0\n",
      "x[5,3]=1.0\n",
      "x[6,9]=1.0\n",
      "x[7,20]=1.0\n",
      "x[8,1]=1.0\n",
      "x[9,6]=1.0\n",
      "x[10,18]=1.0\n",
      "x[11,2]=1.0\n",
      "x[12,22]=1.0\n",
      "x[13,27]=1.0\n",
      "x[14,15]=1.0\n",
      "x[15,26]=1.0\n",
      "x[16,24]=1.0\n",
      "x[17,23]=1.0\n",
      "x[18,10]=1.0\n",
      "x[19,21]=1.0\n",
      "x[20,7]=1.0\n",
      "x[21,19]=1.0\n",
      "x[22,12]=1.0\n",
      "x[23,17]=1.0\n",
      "x[24,16]=1.0\n",
      "x[25,0]=1.0\n",
      "x[26,14]=1.0\n",
      "x[27,13]=1.0\n",
      "x[28,11]=1.0\n",
      "x[29,4]=1.0\n"
     ]
    }
   ],
   "source": [
    "# print solution\n",
    "\n",
    "def print_sol(mode):\n",
    "    print(\"optimal:\", str(round(model.objVal,2)))\n",
    "\n",
    "    for v in model.getVars():\n",
    "        if v.x > 0.9:\n",
    "            print(str(v.VarName)+\"=\"+str(v.x))\n",
    "\n",
    "print_sol(model)"
   ]
  },
  {
   "cell_type": "code",
   "execution_count": 56,
   "metadata": {},
   "outputs": [
    {
     "data": {
      "image/png": "[encoded data removed]",
      "text/plain": [
       "<Figure size 1080x576 with 1 Axes>"
      ]
     },
     "metadata": {
      "needs_background": "light"
     },
     "output_type": "display_data"
    }
   ],
   "source": [
    "# grafic sol\n",
    "\n",
    "def grafic_sol(x, X, Y):\n",
    "    arcos_ativos = [i for i in arcos if x[i].x > 0.9]\n",
    "    #print(arcos_ativos)\n",
    "\n",
    "    plt.figure(figsize = (15,8))\n",
    "    plt.xlabel\n",
    "    plt.ylabel\n",
    "\n",
    "    plt.scatter(x=X, y=Y, color='blue', zorder=1)\n",
    "\n",
    "    # line between arcos\n",
    "    for i,j in arcos_ativos:\n",
    "        plt.plot([X[i],X[j]],[Y[i],Y[j]], color='b', alpha=0.4, zorder=0)\n",
    "\n",
    "    for n in range(len(X)):\n",
    "        plt.annotate(str(n), xy=(X[n],Y[n]), xytext=(X[n]+0.5, Y[n]+1), color='red')\n",
    "\n",
    "    plt.show()\n",
    "\n",
    "# grafic assigment sol\n",
    "grafic_sol(x, X, Y)"
   ]
  },
  {
   "cell_type": "code",
   "execution_count": 57,
   "metadata": {},
   "outputs": [
    {
     "name": "stdout",
     "output_type": "stream",
     "text": [
      "Set parameter TimeLimit to value 600\n",
      "Set parameter MIPGap to value 0.001\n",
      "Gurobi Optimizer version 10.0.0 build v10.0.0rc2 (linux64)\n",
      "\n",
      "CPU model: Intel(R) Core(TM) i5-1035G1 CPU @ 1.00GHz, instruction set [SSE2|AVX|AVX2|AVX512]\n",
      "Thread count: 4 physical cores, 8 logical processors, using up to 8 threads\n",
      "\n",
      "Optimize a model with 60 rows, 900 columns and 1740 nonzeros\n",
      "Model fingerprint: 0xd09fa49c\n",
      "Model has 841 general constraints\n",
      "Variable types: 30 continuous, 870 integer (870 binary)\n",
      "Coefficient statistics:\n",
      "  Matrix range     [1e+00, 1e+00]\n",
      "  Objective range  [2e+00, 1e+02]\n",
      "  Bounds range     [1e+00, 1e+00]\n",
      "  RHS range        [1e+00, 1e+00]\n",
      "  GenCon rhs range [1e+00, 1e+00]\n",
      "  GenCon coe range [1e+00, 1e+00]\n",
      "Presolve added 841 rows and 841 columns\n",
      "Presolve time: 0.01s\n",
      "Presolved: 901 rows, 1741 columns, 3857 nonzeros\n",
      "Presolved model has 841 SOS constraint(s)\n",
      "Variable types: 871 continuous, 870 integer (870 binary)\n",
      "\n",
      "Root relaxation: objective 3.883259e+02, 97 iterations, 0.00 seconds (0.00 work units)\n",
      "\n",
      "    Nodes    |    Current Node    |     Objective Bounds      |     Work\n",
      " Expl Unexpl |  Obj  Depth IntInf | Incumbent    BestBd   Gap | It/Node Time\n",
      "\n",
      "     0     0  388.32588    0   29          -  388.32588      -     -    0s\n",
      "     0     0  391.44046    0   29          -  391.44046      -     -    0s\n",
      "     0     2  392.18672    0   29          -  392.18672      -     -    0s\n",
      "*  287   224              41     655.1135861  394.28651  39.8%   2.0    0s\n",
      "*  390   260              40     639.8110160  394.28651  38.4%   1.9    0s\n",
      "H 1200   791                     619.2058323  430.45073  30.5%   1.7    0s\n",
      "* 1747   987              52     616.7096370  431.49947  30.0%   1.7    0s\n",
      "* 1748   950              52     604.4606164  431.49947  28.6%   1.7    0s\n",
      "H 1751   914                     590.8926915  431.49947  27.0%   1.7    0s\n",
      "H 1821   858                     578.9121106  431.49947  25.5%   1.7    0s\n",
      "H 2168   923                     568.4176394  434.61404  23.5%   1.7    0s\n",
      "H 3443  1622                     561.6160259  436.91537  22.2%   1.7    0s\n",
      "H 9660  4519                     533.7515481  442.87599  17.0%   1.7    1s\n",
      "H19265  7922                     511.5193911  450.66875  11.9%   1.7    3s\n",
      "H33544 13672                     509.7561255  455.53598  10.6%   1.7    4s\n",
      "H33553 13119                     506.7357921  455.53598  10.1%   1.7    4s\n",
      " 34575 13752  486.77024   34   19  506.73579  455.68462  10.1%   1.7    5s\n",
      " 79461 27703  503.10348   39   19  506.73579  461.56697  8.91%   1.7   10s\n",
      "H88817 26420                     496.7421154  462.38513  6.92%   1.7   11s\n",
      "H88932 25006                     494.7284558  462.38513  6.54%   1.7   11s\n",
      "H89422 23818                     492.9651902  462.40648  6.20%   1.7   11s\n",
      " 117073 27284  465.97403   27   22  492.96519  465.36782  5.60%   1.7   15s\n",
      "H138614 27065                     490.9060582  467.04650  4.86%   1.7   17s\n",
      " 160578 28064     cutoff   33       490.90606  468.64759  4.53%   1.7   20s\n",
      " 203729 29047  471.29755   31   19  490.90606  471.27968  4.00%   1.7   25s\n",
      " 250544 29122  476.37878   34   16  490.90606  473.62871  3.52%   1.7   30s\n",
      " 294787 28225 infeasible   42       490.90606  475.61130  3.12%   1.7   35s\n",
      " 332797 26396 infeasible   28       490.90606  477.43920  2.74%   1.7   40s\n",
      " 371834 23639 infeasible   43       490.90606  479.34043  2.36%   1.7   45s\n",
      " 413420 18832 infeasible   33       490.90606  481.50848  1.91%   1.6   50s\n",
      " 455895 10105  488.89893   31   11  490.90606  484.78274  1.25%   1.6   55s\n",
      "\n",
      "Explored 475371 nodes (762952 simplex iterations) in 58.01 seconds (20.40 work units)\n",
      "Thread count was 8 (of 8 available processors)\n",
      "\n",
      "Solution count 10: 490.906 492.965 494.728 ... 568.418\n",
      "\n",
      "Optimal solution found (tolerance 1.00e-03)\n",
      "Best objective 4.909060581520e+02, best bound 4.907965864043e+02, gap 0.0223%\n"
     ]
    }
   ],
   "source": [
    "# tsp model with mtz\n",
    "\n",
    "model = gp.Model(\"mtz_tsp\")\n",
    "\n",
    "# variables\n",
    "x = model.addVars(arcos, vtype = gp.GRB.BINARY, name = 'x')\n",
    "u = model.addVars(vertices, vtype = gp.GRB.CONTINUOUS, name = 'u')\n",
    "\n",
    "# objective\n",
    "model.setObjective(gp.quicksum(c[e] * x[e] for e in arcos), gp.GRB.MINIMIZE)\n",
    "\n",
    "# constraints\n",
    "model.addConstrs(gp.quicksum(x[i,j] for j in vertices if j!=i) == 1 for i in vertices)\n",
    "model.addConstrs(gp.quicksum(x[i,j] for i in vertices if i!=j) == 1 for j in vertices)\n",
    "model.addConstrs((x[i,j] == 1) >> (u[i]+1 == u[j]) for i,j in arcos if j!=0)\n",
    "\n",
    "# parameters\n",
    "model.Params.timeLimit = 600\n",
    "model.Params.MIPGap = 0.001\n",
    "\n",
    "# solve\n",
    "model.optimize()"
   ]
  },
  {
   "cell_type": "code",
   "execution_count": 51,
   "metadata": {},
   "outputs": [
    {
     "name": "stdout",
     "output_type": "stream",
     "text": [
      "optimal: 490.91\n",
      "x[0,29]=1.0\n",
      "x[1,8]=1.0\n",
      "x[2,5]=1.0\n",
      "x[3,28]=1.0\n",
      "x[4,24]=1.0\n",
      "x[5,12]=1.0\n",
      "x[6,3]=1.0\n",
      "x[7,20]=1.0\n",
      "x[8,7]=1.0\n",
      "x[9,6]=1.0\n",
      "x[10,18]=1.0\n",
      "x[11,2]=1.0\n",
      "x[12,22]=1.0\n",
      "x[13,17]=1.0\n",
      "x[14,15]=1.0\n",
      "x[15,26]=1.0\n",
      "x[16,14]=1.0\n",
      "x[17,23]=1.0\n",
      "x[18,19]=1.0\n",
      "x[19,27]=1.0\n",
      "x[20,21]=1.0\n",
      "x[21,10]=1.0\n",
      "x[22,1]=1.0\n",
      "x[23,25]=1.0\n",
      "x[24,16]=1.0\n",
      "x[25,0]=1.0\n",
      "x[26,9]=1.0\n",
      "x[27,13]=1.0\n",
      "x[28,11]=1.0\n",
      "x[29,4]=1.0\n",
      "u[1]=17.0\n",
      "u[2]=13.0\n",
      "u[3]=10.0\n",
      "u[4]=2.0\n",
      "u[5]=14.0\n",
      "u[6]=9.0\n",
      "u[7]=19.0\n",
      "u[8]=18.0\n",
      "u[9]=8.0\n",
      "u[10]=22.0\n",
      "u[11]=12.0\n",
      "u[12]=15.0\n",
      "u[13]=26.0\n",
      "u[14]=5.0\n",
      "u[15]=6.0\n",
      "u[16]=4.0\n",
      "u[17]=27.0\n",
      "u[18]=23.0\n",
      "u[19]=24.0\n",
      "u[20]=20.0\n",
      "u[21]=21.0\n",
      "u[22]=16.0\n",
      "u[23]=28.0\n",
      "u[24]=3.0\n",
      "u[25]=29.0\n",
      "u[26]=7.0\n",
      "u[27]=25.0\n",
      "u[28]=11.0\n",
      "u[29]=1.0\n"
     ]
    }
   ],
   "source": [
    "# solution mtz tsp\n",
    "print_sol(model)"
   ]
  },
  {
   "cell_type": "code",
   "execution_count": 52,
   "metadata": {},
   "outputs": [
    {
     "data": {
      "image/png": "[encoded data removed]",
      "text/plain": [
       "<Figure size 1080x576 with 1 Axes>"
      ]
     },
     "metadata": {
      "needs_background": "light"
     },
     "output_type": "display_data"
    }
   ],
   "source": [
    "# graphic mtz tsp\n",
    "grafic_sol(x,X,Y)"
   ]
  },
  {
   "cell_type": "markdown",
   "metadata": {},
   "source": [
    "### References\n",
    "\n",
    "[1] D. L. Applegate, R. E. Bixby, V. Chvatal and W. J. Cook , The Traveling Salesman Problem: A Computational Study, Princeton University Press, Princeton, 2006.\n",
    "\n",
    "[2] http://www.math.uwaterloo.ca/tsp/index.html\n",
    "\n",
    "[3] https://www.youtube.com/watch?v=q8nQTNvCrjE&t=35s\n",
    "\n",
    "[4] http://www.math.uwaterloo.ca/tsp/concorde.html\n",
    "\n",
    "[5] https://github.com/Gurobi/modeling-examples/tree/master/traveling_salesman"
   ]
  }
 ],
 "metadata": {
  "kernelspec": {
   "display_name": "Python 3",
   "language": "python",
   "name": "python3"
  },
  "language_info": {
   "codemirror_mode": {
    "name": "ipython",
    "version": 3
   },
   "file_extension": ".py",
   "mimetype": "text/x-python",
   "name": "python",
   "nbconvert_exporter": "python",
   "pygments_lexer": "ipython3",
   "version": "3.10.12"
  }
 },
 "nbformat": 4,
 "nbformat_minor": 2
}
