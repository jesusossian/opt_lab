{
 "cells": [
  {
   "cell_type": "markdown",
   "metadata": {},
   "source": [
    "# The Traveling Salesman Problem (TSP)"
   ]
  },
  {
   "cell_type": "markdown",
   "metadata": {},
   "source": [
    "Consider a set if $n$ cities $N =\\{ 1, 2, \\ldots, n \\}$.\n",
    "\n",
    "A salesman must visit each of $n$ cities exactly once and then return to his starting point.\n",
    "\n",
    "The time taken to travel from city $i$ to city $j$ is $c_{ij}, \\ i \\not= j$.\n",
    "\n",
    "Find the order in which he should make his tour so as to finish as quickcly as possible."
   ]
  },
  {
   "cell_type": "markdown",
   "metadata": {},
   "source": [
    "This problem arises in a multitude of forms:\n",
    "- a truck driver has a list of clients he must visit on a given day.\n",
    "- a machine must place modules on printed circuit boards.\n",
    "- a stacker crane must pick up and depose crates."
   ]
  },
  {
   "cell_type": "markdown",
   "metadata": {},
   "source": [
    "### TSP formulation as a BIP"
   ]
  },
  {
   "cell_type": "markdown",
   "metadata": {},
   "source": [
    "The variables:\n",
    "\n",
    "- $x_{ij} = 1$ if the salesman goes directly from town $i$ to town $j$, and $x_{ij}= 0$ otherwise, for $i \\not= j$.\n",
    "\n",
    "The constraints:\n",
    "\n",
    "- He leaves town $i$ exactly once:\n",
    "$$\n",
    "\\sum_{j:j\\not=i} x_{ij} = 1 \\quad for \\quad i=1, \\ldots, n\n",
    "$$\n",
    "\n",
    "- He arrives at town $j$ exactly once:\n",
    "$$\n",
    "\\sum_{i:i\\not=j} x_{ij} = 1 \\quad for \\quad j=1, \\ldots, n\n",
    "$$"
   ]
  },
  {
   "cell_type": "markdown",
   "metadata": {},
   "source": [
    "So far the are the constraints of the assigment problem.\n",
    "\n",
    "A solution to the assigment problem might given a solution of the form a set of disconnected subtours.\n",
    "\n",
    "To eliminate these solutions, we need more constraints that guarantee connectivity by imposing that the salesman must pass from one set of cities to another: cut-set constraints or subtour eliminations constraints.\n",
    "\n",
    "- Cut-set constraints:\n",
    "$$\n",
    "\\sum_{i \\in S} \\sum_{j \\notin S} x_{ij} \\geq 1, \\quad S \\subset N, \\quad S \\not= \\emptyset\n",
    "$$\n",
    "\n",
    "- subtour elimination contraints:\n",
    "$$\n",
    "\\sum_{i \\in S} \\sum_{j \\in S} x_{ij} \\leq | S | - 1, \\quad S \\subset N, \\quad 2 \\leq | S | \\leq n -1 \n",
    "$$\n",
    "\n",
    "- Miller-Tucker-Zemlin (MTZ) subtour elimination constraints\n",
    "\n",
    "for each $i \\in V$ let $u_i \\in \\mathbb{R}_{+}$ be an auxiliary variable.\n",
    "\n",
    "The subtour elimination constraints work by labeling the order in which the nodes are visited. \n",
    "\n",
    "The variable $u$ be the rank of each node in order of visits. \n",
    "\n",
    "Then $x_{ij} = 1$ if $u_i + 1 = u_j$\n",
    "​\n",
    "$$\n",
    "u_i + 1 - u_j  \\leq (n-1)(1 - x_{ij}) \\quad \\forall \\ i,j \\in V \n",
    "$$\n",
    "\n",
    "MTZ as indicator constraint\n",
    "\n",
    "If $x_{ij} = 1$ then $u_i +1 = u_j$ for $i,j \\in V$\n"
   ]
  },
  {
   "cell_type": "markdown",
   "metadata": {},
   "source": [
    "The variables are 0-1:\n",
    "\n",
    "$$\n",
    "x_{ij} \\in \\{ 0, 1 \\}, \\quad i=1, 2, \\ldots, n, \\quad j=1, 2, \\ldots, n, \\quad i \\not= j.\n",
    "$$"
   ]
  },
  {
   "cell_type": "markdown",
   "metadata": {},
   "source": [
    "The objective function:\n",
    "\n",
    "$$\n",
    "\\min \\ \\sum_{i=1}^{n} \\sum_{j=1}^{n} c_{ij} x_{ij}\n",
    "$$"
   ]
  },
  {
   "cell_type": "markdown",
   "metadata": {},
   "source": [
    "### Complexity\n",
    "\n",
    "Starting at city 1, the salesman has $n$-1 choices.\n",
    "\n",
    "For the next choice $n$-2 cities are possible, and so on.\n",
    "\n",
    "Thus there ares ($n$-1)! feasible tours.\n",
    "\n",
    "The tabel show how rapidly certain functions grow. \n",
    "\n",
    "| $n$ | $n$! |\n",
    "|-----|------|\n",
    "| 10  |$3.6 \\times 10^{6}$ |\n",
    "| 100 |$9.33 \\times 10^{157}$ |\n",
    "| 1000 | $4.02 \\times 10^{2567}$ |"
   ]
  },
  {
   "cell_type": "code",
   "execution_count": 1,
   "metadata": {},
   "outputs": [],
   "source": [
    "import gurobipy as gp\n",
    "import numpy as np\n",
    "import matplotlib.pyplot as plt"
   ]
  },
  {
   "cell_type": "code",
   "execution_count": 2,
   "metadata": {},
   "outputs": [],
   "source": [
    "# criando os vértices\n",
    "n = 30\n",
    "vertices = [i for i in range(n)]"
   ]
  },
  {
   "cell_type": "code",
   "execution_count": 3,
   "metadata": {},
   "outputs": [],
   "source": [
    "# criando os arcos\n",
    "arcos = [(i,j) for i in vertices for j in vertices if i!=j]"
   ]
  },
  {
   "cell_type": "code",
   "execution_count": 4,
   "metadata": {},
   "outputs": [],
   "source": [
    "# coordenadas\n",
    "np.random.seed(0)\n",
    "X = np.random.random(n)*100\n",
    "Y = np.random.random(n)*100"
   ]
  },
  {
   "cell_type": "code",
   "execution_count": null,
   "metadata": {},
   "outputs": [],
   "source": [
    "# distancias\n",
    "c = {(i,j): np.hypot(X[i]-X[j],Y[i]-Y[j]) for i in vertices for j in vertices if i!=j}"
   ]
  },
  {
   "cell_type": "code",
   "execution_count": 6,
   "metadata": {},
   "outputs": [
    {
     "data": {
      "image/png": "[encoded data removed]",
      "text/plain": [
       "<Figure size 1080x576 with 1 Axes>"
      ]
     },
     "metadata": {
      "needs_background": "light"
     },
     "output_type": "display_data"
    }
   ],
   "source": [
    "# grafic\n",
    "\n",
    "plt.figure(figsize=(15,8))\n",
    "plt.scatter(X,Y,color='blue')\n",
    "\n",
    "for n in range(len(X)):\n",
    "    plt.annotate(str(n), xy=(X[n],Y[n]), xytext = (X[n]+0.5, Y[n]+1), color='red')\n",
    "\n",
    "plt.xlabel(\"eixo X\")\n",
    "plt.ylabel(\"eixo Y\")\n",
    "plt.title(\"TSP\")\n",
    "plt.show()"
   ]
  },
  {
   "cell_type": "code",
   "execution_count": 7,
   "metadata": {},
   "outputs": [
    {
     "name": "stdout",
     "output_type": "stream",
     "text": [
      "Set parameter Username\n",
      "Academic license - for non-commercial use only - expires 2024-10-15\n",
      "Warning: Gurobi version mismatch between Python 10.0.3 and C library 10.0.0\n"
     ]
    },
    {
     "name": "stdout",
     "output_type": "stream",
     "text": [
      "Set parameter TimeLimit to value 600\n",
      "Set parameter MIPGap to value 0.001\n",
      "Gurobi Optimizer version 10.0.0 build v10.0.0rc2 (linux64)\n",
      "\n",
      "CPU model: Intel(R) Core(TM) i5-1035G1 CPU @ 1.00GHz, instruction set [SSE2|AVX|AVX2|AVX512]\n",
      "Thread count: 4 physical cores, 8 logical processors, using up to 8 threads\n",
      "\n",
      "Optimize a model with 60 rows, 900 columns and 1740 nonzeros\n",
      "Model fingerprint: 0xd09fa49c\n",
      "Model has 841 general constraints\n",
      "Variable types: 30 continuous, 870 integer (870 binary)\n",
      "Coefficient statistics:\n",
      "  Matrix range     [1e+00, 1e+00]\n",
      "  Objective range  [2e+00, 1e+02]\n",
      "  Bounds range     [1e+00, 1e+00]\n",
      "  RHS range        [1e+00, 1e+00]\n",
      "  GenCon rhs range [1e+00, 1e+00]\n",
      "  GenCon coe range [1e+00, 1e+00]\n",
      "Presolve added 841 rows and 841 columns\n",
      "Presolve time: 0.01s\n",
      "Presolved: 901 rows, 1741 columns, 3857 nonzeros\n",
      "Presolved model has 841 SOS constraint(s)\n",
      "Variable types: 871 continuous, 870 integer (870 binary)\n",
      "\n",
      "Root relaxation: objective 3.883259e+02, 97 iterations, 0.00 seconds (0.00 work units)\n",
      "\n",
      "    Nodes    |    Current Node    |     Objective Bounds      |     Work\n",
      " Expl Unexpl |  Obj  Depth IntInf | Incumbent    BestBd   Gap | It/Node Time\n",
      "\n",
      "     0     0  388.32588    0   29          -  388.32588      -     -    0s\n",
      "     0     0  391.44046    0   29          -  391.44046      -     -    0s\n",
      "     0     2  392.18672    0   29          -  392.18672      -     -    0s\n",
      "*  287   224              41     655.1135861  394.28651  39.8%   2.0    0s\n",
      "*  390   260              40     639.8110160  394.28651  38.4%   1.9    0s\n",
      "H 1200   791                     619.2058323  430.45073  30.5%   1.7    0s\n",
      "* 1747   987              52     616.7096370  431.49947  30.0%   1.7    0s\n",
      "* 1748   950              52     604.4606164  431.49947  28.6%   1.7    0s\n",
      "H 1751   914                     590.8926915  431.49947  27.0%   1.7    0s\n",
      "H 1821   858                     578.9121106  431.49947  25.5%   1.7    0s\n",
      "H 2168   923                     568.4176394  434.61404  23.5%   1.7    0s\n",
      "H 3443  1622                     561.6160259  436.91537  22.2%   1.7    0s\n",
      "H 9660  4519                     533.7515481  442.87599  17.0%   1.7    1s\n",
      "H19265  7922                     511.5193911  450.66875  11.9%   1.7    3s\n",
      " 32506 13959 infeasible   35       511.51939  455.32574  11.0%   1.7    5s\n",
      "H33544 13672                     509.7561255  455.53598  10.6%   1.7    5s\n",
      "H33553 13119                     506.7357921  455.53598  10.1%   1.7    5s\n",
      " 77559 27156  465.57931   25   22  506.73579  461.35774  8.95%   1.7   10s\n",
      "H88817 26420                     496.7421154  462.38513  6.92%   1.7   11s\n",
      "H88932 25006                     494.7284558  462.38513  6.54%   1.7   11s\n",
      "H89422 23818                     492.9651902  462.40648  6.20%   1.7   11s\n",
      " 123696 27877  471.24966   33   18  492.96519  465.92256  5.49%   1.7   15s\n",
      "H138614 27065                     490.9060582  467.04650  4.86%   1.7   16s\n",
      " 169240 28379  469.21901   36   17  490.90606  469.21901  4.42%   1.7   20s\n",
      " 217105 29073  472.21517   30   22  490.90606  472.03709  3.84%   1.7   25s\n",
      " 276995 28668 infeasible   32       490.90606  474.85562  3.27%   1.7   30s\n",
      " 337845 26068  477.75456   33   15  490.90606  477.73604  2.68%   1.7   35s\n",
      " 401438 20525 infeasible   42       490.90606  480.86435  2.05%   1.6   40s\n",
      " 460051  8662     cutoff   34       490.90606  485.33677  1.13%   1.6   45s\n",
      "\n",
      "Explored 475371 nodes (762952 simplex iterations) in 46.61 seconds (20.40 work units)\n",
      "Thread count was 8 (of 8 available processors)\n",
      "\n",
      "Solution count 10: 490.906 492.965 494.728 ... 568.418\n",
      "\n",
      "Optimal solution found (tolerance 1.00e-03)\n",
      "Best objective 4.909060581520e+02, best bound 4.907965864043e+02, gap 0.0223%\n"
     ]
    }
   ],
   "source": [
    "# model\n",
    "model = gp.Model(\"tsp_mzt\")\n",
    "\n",
    "# variables\n",
    "x = model.addVars(arcos, vtype = gp.GRB.BINARY, name = 'x')\n",
    "u = model.addVars(vertices, vtype = gp.GRB.CONTINUOUS, name = 'u')\n",
    "\n",
    "# objective\n",
    "model.setObjective(gp.quicksum(c[e] * x[e] for e in arcos), gp.GRB.MINIMIZE)\n",
    "\n",
    "# constraints\n",
    "model.addConstrs(gp.quicksum(x[i,j] for j in vertices if j!=i) == 1 for i in vertices)\n",
    "model.addConstrs(gp.quicksum(x[i,j] for i in vertices if i!=j) == 1 for j in vertices)\n",
    "model.addConstrs((x[i,j] == 1) >> (u[i]+1 == u[j]) for i,j in arcos if j!=0)\n",
    "\n",
    "# parameters\n",
    "model.Params.timeLimit = 600\n",
    "model.Params.MIPGap = 0.001\n",
    "\n",
    "# solve\n",
    "model.optimize()"
   ]
  },
  {
   "cell_type": "code",
   "execution_count": 8,
   "metadata": {},
   "outputs": [
    {
     "name": "stdout",
     "output_type": "stream",
     "text": [
      "optimal: 490.91\n",
      "x[0,29]=1.0\n",
      "x[1,8]=1.0\n",
      "x[2,5]=1.0\n",
      "x[3,28]=1.0\n",
      "x[4,24]=1.0\n",
      "x[5,12]=1.0\n",
      "x[6,3]=1.0\n",
      "x[7,20]=1.0\n",
      "x[8,7]=1.0\n",
      "x[9,6]=1.0\n",
      "x[10,18]=1.0\n",
      "x[11,2]=1.0\n",
      "x[12,22]=1.0\n",
      "x[13,17]=1.0\n",
      "x[14,15]=1.0\n",
      "x[15,26]=1.0\n",
      "x[16,14]=1.0\n",
      "x[17,23]=1.0\n",
      "x[18,19]=1.0\n",
      "x[19,27]=1.0\n",
      "x[20,21]=1.0\n",
      "x[21,10]=1.0\n",
      "x[22,1]=1.0\n",
      "x[23,25]=1.0\n",
      "x[24,16]=1.0\n",
      "x[25,0]=1.0\n",
      "x[26,9]=1.0\n",
      "x[27,13]=1.0\n",
      "x[28,11]=1.0\n",
      "x[29,4]=1.0\n",
      "u[1]=17.0\n",
      "u[2]=13.0\n",
      "u[3]=10.0\n",
      "u[4]=2.0\n",
      "u[5]=14.0\n",
      "u[6]=9.0\n",
      "u[7]=19.0\n",
      "u[8]=18.0\n",
      "u[9]=8.0\n",
      "u[10]=22.0\n",
      "u[11]=12.0\n",
      "u[12]=15.0\n",
      "u[13]=26.0\n",
      "u[14]=5.0\n",
      "u[15]=6.0\n",
      "u[16]=4.0\n",
      "u[17]=27.0\n",
      "u[18]=23.0\n",
      "u[19]=24.0\n",
      "u[20]=20.0\n",
      "u[21]=21.0\n",
      "u[22]=16.0\n",
      "u[23]=28.0\n",
      "u[24]=3.0\n",
      "u[25]=29.0\n",
      "u[26]=7.0\n",
      "u[27]=25.0\n",
      "u[28]=11.0\n",
      "u[29]=1.0\n"
     ]
    }
   ],
   "source": [
    "# solutions\n",
    "print(\"optimal:\", str(round(model.objVal,2)))\n",
    "\n",
    "for v in model.getVars():\n",
    "    if v.x > 0.9:\n",
    "        print(str(v.VarName)+\"=\"+str(v.x))"
   ]
  },
  {
   "cell_type": "code",
   "execution_count": 9,
   "metadata": {},
   "outputs": [
    {
     "data": {
      "image/png": "[encoded data removed]",
      "text/plain": [
       "<Figure size 864x360 with 1 Axes>"
      ]
     },
     "metadata": {
      "needs_background": "light"
     },
     "output_type": "display_data"
    }
   ],
   "source": [
    "# grafic\n",
    "\n",
    "arcos_ativos = [i for i in arcos if x[i].x > 0.9]\n",
    "#print(arcos_ativos)\n",
    "\n",
    "# print\n",
    "plt.figure(figsize = (12,5))\n",
    "plt.xlabel\n",
    "plt.ylabel\n",
    "\n",
    "plt.scatter(x=X, y=Y, color='blue', zorder=1)\n",
    "\n",
    "# line between arcos\n",
    "for i,j in arcos_ativos:\n",
    "    plt.plot([X[i],X[j]],[Y[i],Y[j]], color='b', alpha=0.4, zorder=0)\n",
    "\n",
    "for n in range(len(X)):\n",
    "    plt.annotate(str(n), xy=(X[n],Y[n]), xytext=(X[n]+0.5, Y[n]+1), color='red')\n",
    "\n",
    "plt.show()"
   ]
  },
  {
   "cell_type": "markdown",
   "metadata": {},
   "source": [
    "### TSP Formulation\n",
    "\n",
    "- Sets and Indices\n",
    "\n",
    "$N = \\{1,2,\\ldots,n \\}$: set onf cities\n",
    "\n",
    "$i, j \\in N $: indices and set of cities.\n",
    "\n",
    "$\\text{E}= \\{(i,j) \\in N \\times N \\}$: set of allowed pairings\n",
    "\n",
    "$S \\subset N$: a subset of the set cities.\n",
    "\n",
    "$G = (N, E)$: a graph where the set $N$ defines the set of nodes and the set $E$ defines the set of edges. \n",
    "\n",
    "- Parameters \n",
    "\n",
    "$c_{i, j} \\in \\mathbb{R}_+$: distance from city $i$ to city $j$, for all $(i, j) \\in E$. \n",
    "\n",
    "Notice that the distance from city $i$ to city $j$ is the same as the distance from city $j$ to city $i$, i.e. $c_{i,j} = c_{j,i}$. \n",
    "\n",
    "For this reason, this TSP is also called the symmetric Traveling Salesman Problem.\n",
    "\n",
    "-  Decision variables\n",
    "\n",
    "$x_{i, j} \\in \\{0, 1\\}$: this variable is equal to 1, if we decide to connect city $i$ with city $j$. Otherwise, the decision variable is equal to zero.\n",
    "\n",
    "- Objective function\n",
    "\n",
    "**Shortest Route**. Minimize the total distance of a route. \n",
    "A route is a sequence of cities where the salesperson visits each city only once and returns to the starting capital city.\n",
    "\n",
    "\\begin{equation}\n",
    "\\text{min} \\quad z = \\sum_{(i,j) \\in \\text{E}} c_{i,j} \\cdot x_{i,j}\n",
    "\\tag{0}\n",
    "\\end{equation}\n",
    "\n",
    "- Constraints \n",
    "\n",
    "**Symmetry constraints**.\n",
    "For each edge $(i,j)$, ensure that the city $i$ and $j$ are connected, if the former is visited immediately before or after visiting the latter.\n",
    "\n",
    "\\begin{equation}\n",
    "x_{i, j} = x_{j, i} \\quad \\forall (i, j) \\in E\n",
    "\\tag{1}\n",
    "\\end{equation}\n",
    "\n",
    "**Entering and leaving a city**. \n",
    "For each city $i$, ensure that this city is connected to two other cities. \n",
    "\n",
    "\\begin{equation}\n",
    "\\sum_{(i,j) \\in \\text{E}} x_{i,j} = 2, \\quad \\forall i \\in N\n",
    "\\tag{2}\n",
    "\\end{equation}\n",
    "\n",
    "**Subtour elimination**. \n",
    "These constraints ensure that for any subset of cities $S$ of the set of $N$, there is no cycle. \n",
    "That is, there is no route that visits all the cities in the subset and returns to the origin city.\n",
    "\n",
    "\\begin{equation}\n",
    "\\sum_{(i \\neq j) \\in S} x_{i,j} \\leq |S|-1, \\quad \\forall S \\subset N, \\quad S \\not= \\emptyset\n",
    "\\tag{3}\n",
    "\\end{equation}\n",
    "\n",
    "**Remark**. In general, if the number of cities of the TSP is $n$, then the possible number of routes is n\\!.\n",
    "Since there are an exponential number of constraints ($2^{n} - 2$) to eliminate cycles, we use lazy constraints to dynamically eliminate those cycles. "
   ]
  },
  {
   "cell_type": "markdown",
   "metadata": {},
   "source": [
    "### Lazy Constraints\n",
    "\n",
    "The basic idea of **Lazy Constraints** is to initially formulate the problem only with the most essential constraints, omitting those that are only rarely violated. \n",
    "\n",
    "These other constraints are checked and added one-by-one to the model only if the current solution violates any of them. \n",
    "\n",
    "In other words, some constraints are generated in a lazy fashion, i.e. the constraint is added to the model only if the solution violates it.\n",
    "\n",
    "Lazy constraints have to be enabled by setting model parameter ```lazyConstraints``` to 1.\n",
    "\n",
    "```\n",
    "model = gp.Model()\n",
    "model.Params.lazyConstraints = 1\n",
    "```\n",
    "\n",
    "To define a callback, create a function that accepts two arguments: ```model``` and ```where```. \n",
    "Thecallback is then passed to model when calling ```optimize()```.\n",
    "\n",
    "```\n",
    "def my_callback(model, where):\n",
    "    # Callback is called when some event occur. The type of event is\n",
    "    # distinguished using argument ’’where’’.\n",
    "    # In this case, we want to perform something when an integer\n",
    "    # solution is found, which corresponds to ’’GRB.Callback.MIPSOL’’.\n",
    "    if where == GRB.Callback.MIPSOL:\n",
    "        # TODO : your code here ...\n",
    "        # Get the value of variable x[i,j] from the solution .\n",
    "        # You may also pass a list of variables to the method .\n",
    "        value = model.cbGetSolution(x[i,j])\n",
    "        # Add lazy constraint to model.\n",
    "        model.cbLazy(...)\n",
    "        \n",
    "model.optimize(my_callback)\n",
    "```"
   ]
  },
  {
   "cell_type": "markdown",
   "metadata": {},
   "source": [
    "### Code\n",
    "\n",
    "Consider a salesperson that needs to visit customers at each state capital of the continental US. \n",
    "\n",
    "The salesperson wants to identify the shortest route that goes to all the state capitals.\n",
    "\n",
    "This modeling example requires the following libraries that are not part of the standard Python distribution:\n",
    "* **folium**: to create maps.\n",
    "* **gurobipy**: provides Gurobi algorithms to solve MIP models.\n"
   ]
  },
  {
   "cell_type": "markdown",
   "metadata": {},
   "source": [
    "### Reading Input Data\n",
    "\n",
    "The capital names and coordinates are read from a json file.\n",
    "\n",
    "JSON: stands for JavaScript Object Notation, is a text format for storing and transporting data, is \"self-describing\" and easy to understand."
   ]
  },
  {
   "cell_type": "code",
   "execution_count": 2,
   "metadata": {},
   "outputs": [],
   "source": [
    "import json\n",
    "\n",
    "# Read capital names and coordinates from json file\n",
    "capitals_json = json.load(open('instances/capitals.json'))\n",
    "capitals = []\n",
    "coordinates = {}\n",
    "for state in capitals_json:\n",
    "    if state not in ['AK', 'HI']:\n",
    "      capital = capitals_json[state]['capital']\n",
    "      capitals.append(capital)\n",
    "      coordinates[capital] = (float(capitals_json[state]['lat']), float(capitals_json[state]['long']))"
   ]
  },
  {
   "cell_type": "markdown",
   "metadata": {},
   "source": [
    "### Data computation\n",
    "\n",
    "The following function calculates the distance for each pair of state capitals. \n",
    "\n",
    "Since we are solving the _symmetric_ traveling salesman problem, we use _combinations_ of cities."
   ]
  },
  {
   "cell_type": "code",
   "execution_count": 3,
   "metadata": {},
   "outputs": [],
   "source": [
    "import math\n",
    "from itertools import combinations\n",
    "\n",
    "# Compute pairwise distance matrix\n",
    "\n",
    "def distance(x, y):\n",
    "    c1 = coordinates[x]\n",
    "    c2 = coordinates[y]\n",
    "    diff = (c1[0]-c2[0], c1[1]-c2[1])\n",
    "    \n",
    "    return math.sqrt(diff[0]*diff[0]+diff[1]*diff[1])\n",
    "\n",
    "dist = {(c1, c2): distance(c1, c2) for c1, c2 in combinations(capitals, 2)}"
   ]
  },
  {
   "cell_type": "markdown",
   "metadata": {},
   "source": [
    "### Model Code\n",
    "\n",
    "We now write the model for the TSP, by defining decision variables, constraints, and objective function. \n",
    "\n",
    "Because this is the _symmetric_ traveling salesman problem, we can make it more efficient by setting the _object_ x[j,i] to x[i,j], instead of a constraint."
   ]
  },
  {
   "cell_type": "code",
   "execution_count": 4,
   "metadata": {},
   "outputs": [],
   "source": [
    "import gurobipy as gp\n",
    "\n",
    "model = gp.Model()\n",
    "\n",
    "# Variables: is city 'i' adjacent to city 'j' on the tour?\n",
    "vars = model.addVars(dist.keys(), obj=dist, vtype=gp.GRB.BINARY, name='x')\n",
    "\n",
    "# Symmetric direction: Copy the object\n",
    "for i, j in vars.keys():\n",
    "    vars[j,i] = vars[i,j]  # edge in opposite direction\n",
    "\n",
    "# Constraints: two edges incident to each city\n",
    "cons = model.addConstrs(vars.sum(e, '*') == 2 for e in capitals)"
   ]
  },
  {
   "cell_type": "markdown",
   "metadata": {},
   "source": [
    "### Callback Definition\n",
    "\n",
    "Subtour constraints prevent multiple loops in a TSP tour. \n",
    "\n",
    "Because there are an exponential number of these constraints, we don't want to add them all to the model. \n",
    "\n",
    "Instead, we use a callback function to find violated subtour constraints and add them to the model as lazy constraints."
   ]
  },
  {
   "cell_type": "code",
   "execution_count": 5,
   "metadata": {},
   "outputs": [],
   "source": [
    "# Given a tuplelist of edges, find the shortest subtour\n",
    "def subtour(edges):\n",
    "    unvisited = capitals[:]\n",
    "    cycle = capitals[:] # Dummy - guaranteed to be replaced\n",
    "    while unvisited:  # true if list is non-empty\n",
    "        thiscycle = []\n",
    "        neighbors = unvisited\n",
    "        while neighbors:\n",
    "            current = neighbors[0]\n",
    "            thiscycle.append(current)\n",
    "            unvisited.remove(current)\n",
    "            neighbors = [j for i, j in edges.select(current, '*') if j in unvisited]\n",
    "        if len(thiscycle) <= len(cycle):\n",
    "            cycle = thiscycle # New shortest subtour\n",
    "            \n",
    "    return cycle\n",
    "\n",
    "# Callback - use lazy constraints to eliminate sub-tours\n",
    "def subtourelim(model, where):\n",
    "    if where == gp.GRB.Callback.MIPSOL:\n",
    "        # make a list of edges selected in the solution\n",
    "        vals = model.cbGetSolution(model._vars)\n",
    "        selected = gp.tuplelist((i, j) for i, j in model._vars.keys() if vals[i, j] > 0.5)\n",
    "        # find the shortest cycle in the selected edge list\n",
    "        tour = subtour(selected)\n",
    "        if len(tour) < len(capitals):\n",
    "            # add subtour elimination constr. for every pair of cities in subtour\n",
    "            model.cbLazy(gp.quicksum(model._vars[i, j] for i, j in combinations(tour, 2)) <= len(tour)-1)"
   ]
  },
  {
   "cell_type": "markdown",
   "metadata": {},
   "source": [
    "## Solve the model"
   ]
  },
  {
   "cell_type": "code",
   "execution_count": 6,
   "metadata": {},
   "outputs": [
    {
     "name": "stdout",
     "output_type": "stream",
     "text": [
      "Set parameter LazyConstraints to value 1\n",
      "Gurobi Optimizer version 10.0.0 build v10.0.0rc2 (linux64)\n",
      "\n",
      "CPU model: Intel(R) Core(TM) i5-1035G1 CPU @ 1.00GHz, instruction set [SSE2|AVX|AVX2|AVX512]\n",
      "Thread count: 4 physical cores, 8 logical processors, using up to 8 threads\n",
      "\n",
      "Optimize a model with 48 rows, 1128 columns and 2256 nonzeros\n",
      "Model fingerprint: 0x63641a38\n",
      "Variable types: 0 continuous, 1128 integer (1128 binary)\n",
      "Coefficient statistics:\n",
      "  Matrix range     [1e+00, 1e+00]\n",
      "  Objective range  [6e-01, 5e+01]\n",
      "  Bounds range     [1e+00, 1e+00]\n",
      "  RHS range        [2e+00, 2e+00]\n",
      "Presolve time: 0.00s\n",
      "Presolved: 48 rows, 1128 columns, 2256 nonzeros\n",
      "Variable types: 0 continuous, 1128 integer (1128 binary)\n",
      "\n",
      "Root relaxation: objective 1.611858e+02, 72 iterations, 0.00 seconds (0.00 work units)\n",
      "\n",
      "    Nodes    |    Current Node    |     Objective Bounds      |     Work\n",
      " Expl Unexpl |  Obj  Depth IntInf | Incumbent    BestBd   Gap | It/Node Time\n",
      "\n",
      "     0     0  161.18576    0   12          -  161.18576      -     -    0s\n",
      "     0     0  163.11017    0   18          -  163.11017      -     -    0s\n",
      "     0     0  164.15548    0   16          -  164.15548      -     -    0s\n",
      "     0     0  164.98159    0    8          -  164.98159      -     -    0s\n",
      "     0     0  165.13384    0   27          -  165.13384      -     -    0s\n",
      "     0     2  165.30532    0   29          -  165.30532      -     -    0s\n",
      "*  487   235              13     181.4109669  167.81559  7.49%   4.9    0s\n",
      "*  491   223               9     180.5905980  167.81559  7.07%   5.0    0s\n",
      "*  497   205              14     179.6413727  167.81559  6.58%   5.4    0s\n",
      "*  499   199               7     176.0320261  167.81559  4.67%   5.5    0s\n",
      "*  600    79               6     175.4490370  169.17219  3.58%   6.7    0s\n",
      "\n",
      "Cutting planes:\n",
      "  Zero half: 10\n",
      "  Lazy constraints: 49\n",
      "\n",
      "Explored 786 nodes (5760 simplex iterations) in 0.30 seconds (0.12 work units)\n",
      "Thread count was 8 (of 8 available processors)\n",
      "\n",
      "Solution count 5: 175.449 176.032 179.641 ... 181.411\n",
      "\n",
      "Optimal solution found (tolerance 1.00e-04)\n",
      "Best objective 1.754490370198e+02, best bound 1.754490370198e+02, gap 0.0000%\n",
      "\n",
      "User-callback calls 1867, time in user-callback 0.09 sec\n"
     ]
    }
   ],
   "source": [
    "model._vars = vars\n",
    "model.Params.lazyConstraints = 1\n",
    "model.optimize(subtourelim)"
   ]
  },
  {
   "cell_type": "markdown",
   "metadata": {},
   "source": [
    "## Analysis\n",
    "\n",
    "We retrieve the optimal solution of the TSP and verify that the optimal route (or tour) goes to all the cities and returns to the origin city."
   ]
  },
  {
   "cell_type": "code",
   "execution_count": 7,
   "metadata": {},
   "outputs": [],
   "source": [
    "# Retrieve solution\n",
    "\n",
    "vals = model.getAttr('x', vars)\n",
    "selected = gp.tuplelist((i, j) for i, j in vals.keys() if vals[i, j] > 0.5)\n",
    "\n",
    "tour = subtour(selected)\n",
    "assert len(tour) == len(capitals)"
   ]
  },
  {
   "cell_type": "markdown",
   "metadata": {},
   "source": [
    "The optimal route is displayed in the following map."
   ]
  },
  {
   "cell_type": "code",
   "execution_count": 16,
   "metadata": {},
   "outputs": [
    {
     "data": {
      "text/plain": [
       "<folium.vector_layers.PolyLine at 0x7f20557a4eb0>"
      ]
     },
     "execution_count": 16,
     "metadata": {},
     "output_type": "execute_result"
    }
   ],
   "source": [
    "# Map the solution\n",
    "\n",
    "import folium\n",
    "\n",
    "map = folium.Map(location=[40,-95], zoom_start = 4)\n",
    "\n",
    "points = []\n",
    "for city in tour:\n",
    "  points.append(coordinates[city])\n",
    "points.append(points[0])\n",
    "\n",
    "folium.PolyLine(points).add_to(map)\n",
    "\n",
    "#map"
   ]
  },
  {
   "cell_type": "code",
   "execution_count": null,
   "metadata": {},
   "outputs": [],
   "source": []
  },
  {
   "cell_type": "code",
   "execution_count": 15,
   "metadata": {},
   "outputs": [
    {
     "name": "stdout",
     "output_type": "stream",
     "text": [
      "[('Montgomery', 'Phoenix'), ('Montgomery', 'Little Rock'), ('Montgomery', 'Sacramento'), ('Montgomery', 'Denver'), ('Montgomery', 'Hartford'), ('Montgomery', 'Dover'), ('Montgomery', 'Tallahassee'), ('Montgomery', 'Atlanta'), ('Montgomery', 'Boise'), ('Montgomery', 'Springfield'), ('Montgomery', 'Indianapolis'), ('Montgomery', 'Des Moines'), ('Montgomery', 'Topeka'), ('Montgomery', 'Frankfort'), ('Montgomery', 'Baton Rouge'), ('Montgomery', 'Augusta'), ('Montgomery', 'Annapolis'), ('Montgomery', 'Boston'), ('Montgomery', 'Lansing'), ('Montgomery', 'Saint Paul'), ('Montgomery', 'Jackson'), ('Montgomery', 'Jefferson City'), ('Montgomery', 'Helana'), ('Montgomery', 'Lincoln'), ('Montgomery', 'Carson City'), ('Montgomery', 'Concord'), ('Montgomery', 'Trenton'), ('Montgomery', 'Santa Fe'), ('Montgomery', 'Albany'), ('Montgomery', 'Raleigh'), ('Montgomery', 'Bismarck'), ('Montgomery', 'Columbus'), ('Montgomery', 'Oklahoma City'), ('Montgomery', 'Salem'), ('Montgomery', 'Harrisburg'), ('Montgomery', 'Providence'), ('Montgomery', 'Columbia'), ('Montgomery', 'Pierre'), ('Montgomery', 'Nashville'), ('Montgomery', 'Austin'), ('Montgomery', 'Salt Lake City'), ('Montgomery', 'Montpelier'), ('Montgomery', 'Richmond'), ('Montgomery', 'Olympia'), ('Montgomery', 'Charleston'), ('Montgomery', 'Madison'), ('Montgomery', 'Cheyenne'), ('Phoenix', 'Little Rock'), ('Phoenix', 'Sacramento'), ('Phoenix', 'Denver'), ('Phoenix', 'Hartford'), ('Phoenix', 'Dover'), ('Phoenix', 'Tallahassee'), ('Phoenix', 'Atlanta'), ('Phoenix', 'Boise'), ('Phoenix', 'Springfield'), ('Phoenix', 'Indianapolis'), ('Phoenix', 'Des Moines'), ('Phoenix', 'Topeka'), ('Phoenix', 'Frankfort'), ('Phoenix', 'Baton Rouge'), ('Phoenix', 'Augusta'), ('Phoenix', 'Annapolis'), ('Phoenix', 'Boston'), ('Phoenix', 'Lansing'), ('Phoenix', 'Saint Paul'), ('Phoenix', 'Jackson'), ('Phoenix', 'Jefferson City'), ('Phoenix', 'Helana'), ('Phoenix', 'Lincoln'), ('Phoenix', 'Carson City'), ('Phoenix', 'Concord'), ('Phoenix', 'Trenton'), ('Phoenix', 'Santa Fe'), ('Phoenix', 'Albany'), ('Phoenix', 'Raleigh'), ('Phoenix', 'Bismarck'), ('Phoenix', 'Columbus'), ('Phoenix', 'Oklahoma City'), ('Phoenix', 'Salem'), ('Phoenix', 'Harrisburg'), ('Phoenix', 'Providence'), ('Phoenix', 'Columbia'), ('Phoenix', 'Pierre'), ('Phoenix', 'Nashville'), ('Phoenix', 'Austin'), ('Phoenix', 'Salt Lake City'), ('Phoenix', 'Montpelier'), ('Phoenix', 'Richmond'), ('Phoenix', 'Olympia'), ('Phoenix', 'Charleston'), ('Phoenix', 'Madison'), ('Phoenix', 'Cheyenne'), ('Little Rock', 'Sacramento'), ('Little Rock', 'Denver'), ('Little Rock', 'Hartford'), ('Little Rock', 'Dover'), ('Little Rock', 'Tallahassee'), ('Little Rock', 'Atlanta'), ('Little Rock', 'Boise'), ('Little Rock', 'Springfield'), ('Little Rock', 'Indianapolis'), ('Little Rock', 'Des Moines'), ('Little Rock', 'Topeka'), ('Little Rock', 'Frankfort'), ('Little Rock', 'Baton Rouge'), ('Little Rock', 'Augusta'), ('Little Rock', 'Annapolis'), ('Little Rock', 'Boston'), ('Little Rock', 'Lansing'), ('Little Rock', 'Saint Paul'), ('Little Rock', 'Jackson'), ('Little Rock', 'Jefferson City'), ('Little Rock', 'Helana'), ('Little Rock', 'Lincoln'), ('Little Rock', 'Carson City'), ('Little Rock', 'Concord'), ('Little Rock', 'Trenton'), ('Little Rock', 'Santa Fe'), ('Little Rock', 'Albany'), ('Little Rock', 'Raleigh'), ('Little Rock', 'Bismarck'), ('Little Rock', 'Columbus'), ('Little Rock', 'Oklahoma City'), ('Little Rock', 'Salem'), ('Little Rock', 'Harrisburg'), ('Little Rock', 'Providence'), ('Little Rock', 'Columbia'), ('Little Rock', 'Pierre'), ('Little Rock', 'Nashville'), ('Little Rock', 'Austin'), ('Little Rock', 'Salt Lake City'), ('Little Rock', 'Montpelier'), ('Little Rock', 'Richmond'), ('Little Rock', 'Olympia'), ('Little Rock', 'Charleston'), ('Little Rock', 'Madison'), ('Little Rock', 'Cheyenne'), ('Sacramento', 'Denver'), ('Sacramento', 'Hartford'), ('Sacramento', 'Dover'), ('Sacramento', 'Tallahassee'), ('Sacramento', 'Atlanta'), ('Sacramento', 'Boise'), ('Sacramento', 'Springfield'), ('Sacramento', 'Indianapolis'), ('Sacramento', 'Des Moines'), ('Sacramento', 'Topeka'), ('Sacramento', 'Frankfort'), ('Sacramento', 'Baton Rouge'), ('Sacramento', 'Augusta'), ('Sacramento', 'Annapolis'), ('Sacramento', 'Boston'), ('Sacramento', 'Lansing'), ('Sacramento', 'Saint Paul'), ('Sacramento', 'Jackson'), ('Sacramento', 'Jefferson City'), ('Sacramento', 'Helana'), ('Sacramento', 'Lincoln'), ('Sacramento', 'Carson City'), ('Sacramento', 'Concord'), ('Sacramento', 'Trenton'), ('Sacramento', 'Santa Fe'), ('Sacramento', 'Albany'), ('Sacramento', 'Raleigh'), ('Sacramento', 'Bismarck'), ('Sacramento', 'Columbus'), ('Sacramento', 'Oklahoma City'), ('Sacramento', 'Salem'), ('Sacramento', 'Harrisburg'), ('Sacramento', 'Providence'), ('Sacramento', 'Columbia'), ('Sacramento', 'Pierre'), ('Sacramento', 'Nashville'), ('Sacramento', 'Austin'), ('Sacramento', 'Salt Lake City'), ('Sacramento', 'Montpelier'), ('Sacramento', 'Richmond'), ('Sacramento', 'Olympia'), ('Sacramento', 'Charleston'), ('Sacramento', 'Madison'), ('Sacramento', 'Cheyenne'), ('Denver', 'Hartford'), ('Denver', 'Dover'), ('Denver', 'Tallahassee'), ('Denver', 'Atlanta'), ('Denver', 'Boise'), ('Denver', 'Springfield'), ('Denver', 'Indianapolis'), ('Denver', 'Des Moines'), ('Denver', 'Topeka'), ('Denver', 'Frankfort'), ('Denver', 'Baton Rouge'), ('Denver', 'Augusta'), ('Denver', 'Annapolis'), ('Denver', 'Boston'), ('Denver', 'Lansing'), ('Denver', 'Saint Paul'), ('Denver', 'Jackson'), ('Denver', 'Jefferson City'), ('Denver', 'Helana'), ('Denver', 'Lincoln'), ('Denver', 'Carson City'), ('Denver', 'Concord'), ('Denver', 'Trenton'), ('Denver', 'Santa Fe'), ('Denver', 'Albany'), ('Denver', 'Raleigh'), ('Denver', 'Bismarck'), ('Denver', 'Columbus'), ('Denver', 'Oklahoma City'), ('Denver', 'Salem'), ('Denver', 'Harrisburg'), ('Denver', 'Providence'), ('Denver', 'Columbia'), ('Denver', 'Pierre'), ('Denver', 'Nashville'), ('Denver', 'Austin'), ('Denver', 'Salt Lake City'), ('Denver', 'Montpelier'), ('Denver', 'Richmond'), ('Denver', 'Olympia'), ('Denver', 'Charleston'), ('Denver', 'Madison'), ('Denver', 'Cheyenne'), ('Hartford', 'Dover'), ('Hartford', 'Tallahassee'), ('Hartford', 'Atlanta'), ('Hartford', 'Boise'), ('Hartford', 'Springfield'), ('Hartford', 'Indianapolis'), ('Hartford', 'Des Moines'), ('Hartford', 'Topeka'), ('Hartford', 'Frankfort'), ('Hartford', 'Baton Rouge'), ('Hartford', 'Augusta'), ('Hartford', 'Annapolis'), ('Hartford', 'Boston'), ('Hartford', 'Lansing'), ('Hartford', 'Saint Paul'), ('Hartford', 'Jackson'), ('Hartford', 'Jefferson City'), ('Hartford', 'Helana'), ('Hartford', 'Lincoln'), ('Hartford', 'Carson City'), ('Hartford', 'Concord'), ('Hartford', 'Trenton'), ('Hartford', 'Santa Fe'), ('Hartford', 'Albany'), ('Hartford', 'Raleigh'), ('Hartford', 'Bismarck'), ('Hartford', 'Columbus'), ('Hartford', 'Oklahoma City'), ('Hartford', 'Salem'), ('Hartford', 'Harrisburg'), ('Hartford', 'Providence'), ('Hartford', 'Columbia'), ('Hartford', 'Pierre'), ('Hartford', 'Nashville'), ('Hartford', 'Austin'), ('Hartford', 'Salt Lake City'), ('Hartford', 'Montpelier'), ('Hartford', 'Richmond'), ('Hartford', 'Olympia'), ('Hartford', 'Charleston'), ('Hartford', 'Madison'), ('Hartford', 'Cheyenne'), ('Dover', 'Tallahassee'), ('Dover', 'Atlanta'), ('Dover', 'Boise'), ('Dover', 'Springfield'), ('Dover', 'Indianapolis'), ('Dover', 'Des Moines'), ('Dover', 'Topeka'), ('Dover', 'Frankfort'), ('Dover', 'Baton Rouge'), ('Dover', 'Augusta'), ('Dover', 'Annapolis'), ('Dover', 'Boston'), ('Dover', 'Lansing'), ('Dover', 'Saint Paul'), ('Dover', 'Jackson'), ('Dover', 'Jefferson City'), ('Dover', 'Helana'), ('Dover', 'Lincoln'), ('Dover', 'Carson City'), ('Dover', 'Concord'), ('Dover', 'Trenton'), ('Dover', 'Santa Fe'), ('Dover', 'Albany'), ('Dover', 'Raleigh'), ('Dover', 'Bismarck'), ('Dover', 'Columbus'), ('Dover', 'Oklahoma City'), ('Dover', 'Salem'), ('Dover', 'Harrisburg'), ('Dover', 'Providence'), ('Dover', 'Columbia'), ('Dover', 'Pierre'), ('Dover', 'Nashville'), ('Dover', 'Austin'), ('Dover', 'Salt Lake City'), ('Dover', 'Montpelier'), ('Dover', 'Richmond'), ('Dover', 'Olympia'), ('Dover', 'Charleston'), ('Dover', 'Madison'), ('Dover', 'Cheyenne'), ('Tallahassee', 'Atlanta'), ('Tallahassee', 'Boise'), ('Tallahassee', 'Springfield'), ('Tallahassee', 'Indianapolis'), ('Tallahassee', 'Des Moines'), ('Tallahassee', 'Topeka'), ('Tallahassee', 'Frankfort'), ('Tallahassee', 'Baton Rouge'), ('Tallahassee', 'Augusta'), ('Tallahassee', 'Annapolis'), ('Tallahassee', 'Boston'), ('Tallahassee', 'Lansing'), ('Tallahassee', 'Saint Paul'), ('Tallahassee', 'Jackson'), ('Tallahassee', 'Jefferson City'), ('Tallahassee', 'Helana'), ('Tallahassee', 'Lincoln'), ('Tallahassee', 'Carson City'), ('Tallahassee', 'Concord'), ('Tallahassee', 'Trenton'), ('Tallahassee', 'Santa Fe'), ('Tallahassee', 'Albany'), ('Tallahassee', 'Raleigh'), ('Tallahassee', 'Bismarck'), ('Tallahassee', 'Columbus'), ('Tallahassee', 'Oklahoma City'), ('Tallahassee', 'Salem'), ('Tallahassee', 'Harrisburg'), ('Tallahassee', 'Providence'), ('Tallahassee', 'Columbia'), ('Tallahassee', 'Pierre'), ('Tallahassee', 'Nashville'), ('Tallahassee', 'Austin'), ('Tallahassee', 'Salt Lake City'), ('Tallahassee', 'Montpelier'), ('Tallahassee', 'Richmond'), ('Tallahassee', 'Olympia'), ('Tallahassee', 'Charleston'), ('Tallahassee', 'Madison'), ('Tallahassee', 'Cheyenne'), ('Atlanta', 'Boise'), ('Atlanta', 'Springfield'), ('Atlanta', 'Indianapolis'), ('Atlanta', 'Des Moines'), ('Atlanta', 'Topeka'), ('Atlanta', 'Frankfort'), ('Atlanta', 'Baton Rouge'), ('Atlanta', 'Augusta'), ('Atlanta', 'Annapolis'), ('Atlanta', 'Boston'), ('Atlanta', 'Lansing'), ('Atlanta', 'Saint Paul'), ('Atlanta', 'Jackson'), ('Atlanta', 'Jefferson City'), ('Atlanta', 'Helana'), ('Atlanta', 'Lincoln'), ('Atlanta', 'Carson City'), ('Atlanta', 'Concord'), ('Atlanta', 'Trenton'), ('Atlanta', 'Santa Fe'), ('Atlanta', 'Albany'), ('Atlanta', 'Raleigh'), ('Atlanta', 'Bismarck'), ('Atlanta', 'Columbus'), ('Atlanta', 'Oklahoma City'), ('Atlanta', 'Salem'), ('Atlanta', 'Harrisburg'), ('Atlanta', 'Providence'), ('Atlanta', 'Columbia'), ('Atlanta', 'Pierre'), ('Atlanta', 'Nashville'), ('Atlanta', 'Austin'), ('Atlanta', 'Salt Lake City'), ('Atlanta', 'Montpelier'), ('Atlanta', 'Richmond'), ('Atlanta', 'Olympia'), ('Atlanta', 'Charleston'), ('Atlanta', 'Madison'), ('Atlanta', 'Cheyenne'), ('Boise', 'Springfield'), ('Boise', 'Indianapolis'), ('Boise', 'Des Moines'), ('Boise', 'Topeka'), ('Boise', 'Frankfort'), ('Boise', 'Baton Rouge'), ('Boise', 'Augusta'), ('Boise', 'Annapolis'), ('Boise', 'Boston'), ('Boise', 'Lansing'), ('Boise', 'Saint Paul'), ('Boise', 'Jackson'), ('Boise', 'Jefferson City'), ('Boise', 'Helana'), ('Boise', 'Lincoln'), ('Boise', 'Carson City'), ('Boise', 'Concord'), ('Boise', 'Trenton'), ('Boise', 'Santa Fe'), ('Boise', 'Albany'), ('Boise', 'Raleigh'), ('Boise', 'Bismarck'), ('Boise', 'Columbus'), ('Boise', 'Oklahoma City'), ('Boise', 'Salem'), ('Boise', 'Harrisburg'), ('Boise', 'Providence'), ('Boise', 'Columbia'), ('Boise', 'Pierre'), ('Boise', 'Nashville'), ('Boise', 'Austin'), ('Boise', 'Salt Lake City'), ('Boise', 'Montpelier'), ('Boise', 'Richmond'), ('Boise', 'Olympia'), ('Boise', 'Charleston'), ('Boise', 'Madison'), ('Boise', 'Cheyenne'), ('Springfield', 'Indianapolis'), ('Springfield', 'Des Moines'), ('Springfield', 'Topeka'), ('Springfield', 'Frankfort'), ('Springfield', 'Baton Rouge'), ('Springfield', 'Augusta'), ('Springfield', 'Annapolis'), ('Springfield', 'Boston'), ('Springfield', 'Lansing'), ('Springfield', 'Saint Paul'), ('Springfield', 'Jackson'), ('Springfield', 'Jefferson City'), ('Springfield', 'Helana'), ('Springfield', 'Lincoln'), ('Springfield', 'Carson City'), ('Springfield', 'Concord'), ('Springfield', 'Trenton'), ('Springfield', 'Santa Fe'), ('Springfield', 'Albany'), ('Springfield', 'Raleigh'), ('Springfield', 'Bismarck'), ('Springfield', 'Columbus'), ('Springfield', 'Oklahoma City'), ('Springfield', 'Salem'), ('Springfield', 'Harrisburg'), ('Springfield', 'Providence'), ('Springfield', 'Columbia'), ('Springfield', 'Pierre'), ('Springfield', 'Nashville'), ('Springfield', 'Austin'), ('Springfield', 'Salt Lake City'), ('Springfield', 'Montpelier'), ('Springfield', 'Richmond'), ('Springfield', 'Olympia'), ('Springfield', 'Charleston'), ('Springfield', 'Madison'), ('Springfield', 'Cheyenne'), ('Indianapolis', 'Des Moines'), ('Indianapolis', 'Topeka'), ('Indianapolis', 'Frankfort'), ('Indianapolis', 'Baton Rouge'), ('Indianapolis', 'Augusta'), ('Indianapolis', 'Annapolis'), ('Indianapolis', 'Boston'), ('Indianapolis', 'Lansing'), ('Indianapolis', 'Saint Paul'), ('Indianapolis', 'Jackson'), ('Indianapolis', 'Jefferson City'), ('Indianapolis', 'Helana'), ('Indianapolis', 'Lincoln'), ('Indianapolis', 'Carson City'), ('Indianapolis', 'Concord'), ('Indianapolis', 'Trenton'), ('Indianapolis', 'Santa Fe'), ('Indianapolis', 'Albany'), ('Indianapolis', 'Raleigh'), ('Indianapolis', 'Bismarck'), ('Indianapolis', 'Columbus'), ('Indianapolis', 'Oklahoma City'), ('Indianapolis', 'Salem'), ('Indianapolis', 'Harrisburg'), ('Indianapolis', 'Providence'), ('Indianapolis', 'Columbia'), ('Indianapolis', 'Pierre'), ('Indianapolis', 'Nashville'), ('Indianapolis', 'Austin'), ('Indianapolis', 'Salt Lake City'), ('Indianapolis', 'Montpelier'), ('Indianapolis', 'Richmond'), ('Indianapolis', 'Olympia'), ('Indianapolis', 'Charleston'), ('Indianapolis', 'Madison'), ('Indianapolis', 'Cheyenne'), ('Des Moines', 'Topeka'), ('Des Moines', 'Frankfort'), ('Des Moines', 'Baton Rouge'), ('Des Moines', 'Augusta'), ('Des Moines', 'Annapolis'), ('Des Moines', 'Boston'), ('Des Moines', 'Lansing'), ('Des Moines', 'Saint Paul'), ('Des Moines', 'Jackson'), ('Des Moines', 'Jefferson City'), ('Des Moines', 'Helana'), ('Des Moines', 'Lincoln'), ('Des Moines', 'Carson City'), ('Des Moines', 'Concord'), ('Des Moines', 'Trenton'), ('Des Moines', 'Santa Fe'), ('Des Moines', 'Albany'), ('Des Moines', 'Raleigh'), ('Des Moines', 'Bismarck'), ('Des Moines', 'Columbus'), ('Des Moines', 'Oklahoma City'), ('Des Moines', 'Salem'), ('Des Moines', 'Harrisburg'), ('Des Moines', 'Providence'), ('Des Moines', 'Columbia'), ('Des Moines', 'Pierre'), ('Des Moines', 'Nashville'), ('Des Moines', 'Austin'), ('Des Moines', 'Salt Lake City'), ('Des Moines', 'Montpelier'), ('Des Moines', 'Richmond'), ('Des Moines', 'Olympia'), ('Des Moines', 'Charleston'), ('Des Moines', 'Madison'), ('Des Moines', 'Cheyenne'), ('Topeka', 'Frankfort'), ('Topeka', 'Baton Rouge'), ('Topeka', 'Augusta'), ('Topeka', 'Annapolis'), ('Topeka', 'Boston'), ('Topeka', 'Lansing'), ('Topeka', 'Saint Paul'), ('Topeka', 'Jackson'), ('Topeka', 'Jefferson City'), ('Topeka', 'Helana'), ('Topeka', 'Lincoln'), ('Topeka', 'Carson City'), ('Topeka', 'Concord'), ('Topeka', 'Trenton'), ('Topeka', 'Santa Fe'), ('Topeka', 'Albany'), ('Topeka', 'Raleigh'), ('Topeka', 'Bismarck'), ('Topeka', 'Columbus'), ('Topeka', 'Oklahoma City'), ('Topeka', 'Salem'), ('Topeka', 'Harrisburg'), ('Topeka', 'Providence'), ('Topeka', 'Columbia'), ('Topeka', 'Pierre'), ('Topeka', 'Nashville'), ('Topeka', 'Austin'), ('Topeka', 'Salt Lake City'), ('Topeka', 'Montpelier'), ('Topeka', 'Richmond'), ('Topeka', 'Olympia'), ('Topeka', 'Charleston'), ('Topeka', 'Madison'), ('Topeka', 'Cheyenne'), ('Frankfort', 'Baton Rouge'), ('Frankfort', 'Augusta'), ('Frankfort', 'Annapolis'), ('Frankfort', 'Boston'), ('Frankfort', 'Lansing'), ('Frankfort', 'Saint Paul'), ('Frankfort', 'Jackson'), ('Frankfort', 'Jefferson City'), ('Frankfort', 'Helana'), ('Frankfort', 'Lincoln'), ('Frankfort', 'Carson City'), ('Frankfort', 'Concord'), ('Frankfort', 'Trenton'), ('Frankfort', 'Santa Fe'), ('Frankfort', 'Albany'), ('Frankfort', 'Raleigh'), ('Frankfort', 'Bismarck'), ('Frankfort', 'Columbus'), ('Frankfort', 'Oklahoma City'), ('Frankfort', 'Salem'), ('Frankfort', 'Harrisburg'), ('Frankfort', 'Providence'), ('Frankfort', 'Columbia'), ('Frankfort', 'Pierre'), ('Frankfort', 'Nashville'), ('Frankfort', 'Austin'), ('Frankfort', 'Salt Lake City'), ('Frankfort', 'Montpelier'), ('Frankfort', 'Richmond'), ('Frankfort', 'Olympia'), ('Frankfort', 'Charleston'), ('Frankfort', 'Madison'), ('Frankfort', 'Cheyenne'), ('Baton Rouge', 'Augusta'), ('Baton Rouge', 'Annapolis'), ('Baton Rouge', 'Boston'), ('Baton Rouge', 'Lansing'), ('Baton Rouge', 'Saint Paul'), ('Baton Rouge', 'Jackson'), ('Baton Rouge', 'Jefferson City'), ('Baton Rouge', 'Helana'), ('Baton Rouge', 'Lincoln'), ('Baton Rouge', 'Carson City'), ('Baton Rouge', 'Concord'), ('Baton Rouge', 'Trenton'), ('Baton Rouge', 'Santa Fe'), ('Baton Rouge', 'Albany'), ('Baton Rouge', 'Raleigh'), ('Baton Rouge', 'Bismarck'), ('Baton Rouge', 'Columbus'), ('Baton Rouge', 'Oklahoma City'), ('Baton Rouge', 'Salem'), ('Baton Rouge', 'Harrisburg'), ('Baton Rouge', 'Providence'), ('Baton Rouge', 'Columbia'), ('Baton Rouge', 'Pierre'), ('Baton Rouge', 'Nashville'), ('Baton Rouge', 'Austin'), ('Baton Rouge', 'Salt Lake City'), ('Baton Rouge', 'Montpelier'), ('Baton Rouge', 'Richmond'), ('Baton Rouge', 'Olympia'), ('Baton Rouge', 'Charleston'), ('Baton Rouge', 'Madison'), ('Baton Rouge', 'Cheyenne'), ('Augusta', 'Annapolis'), ('Augusta', 'Boston'), ('Augusta', 'Lansing'), ('Augusta', 'Saint Paul'), ('Augusta', 'Jackson'), ('Augusta', 'Jefferson City'), ('Augusta', 'Helana'), ('Augusta', 'Lincoln'), ('Augusta', 'Carson City'), ('Augusta', 'Concord'), ('Augusta', 'Trenton'), ('Augusta', 'Santa Fe'), ('Augusta', 'Albany'), ('Augusta', 'Raleigh'), ('Augusta', 'Bismarck'), ('Augusta', 'Columbus'), ('Augusta', 'Oklahoma City'), ('Augusta', 'Salem'), ('Augusta', 'Harrisburg'), ('Augusta', 'Providence'), ('Augusta', 'Columbia'), ('Augusta', 'Pierre'), ('Augusta', 'Nashville'), ('Augusta', 'Austin'), ('Augusta', 'Salt Lake City'), ('Augusta', 'Montpelier'), ('Augusta', 'Richmond'), ('Augusta', 'Olympia'), ('Augusta', 'Charleston'), ('Augusta', 'Madison'), ('Augusta', 'Cheyenne'), ('Annapolis', 'Boston'), ('Annapolis', 'Lansing'), ('Annapolis', 'Saint Paul'), ('Annapolis', 'Jackson'), ('Annapolis', 'Jefferson City'), ('Annapolis', 'Helana'), ('Annapolis', 'Lincoln'), ('Annapolis', 'Carson City'), ('Annapolis', 'Concord'), ('Annapolis', 'Trenton'), ('Annapolis', 'Santa Fe'), ('Annapolis', 'Albany'), ('Annapolis', 'Raleigh'), ('Annapolis', 'Bismarck'), ('Annapolis', 'Columbus'), ('Annapolis', 'Oklahoma City'), ('Annapolis', 'Salem'), ('Annapolis', 'Harrisburg'), ('Annapolis', 'Providence'), ('Annapolis', 'Columbia'), ('Annapolis', 'Pierre'), ('Annapolis', 'Nashville'), ('Annapolis', 'Austin'), ('Annapolis', 'Salt Lake City'), ('Annapolis', 'Montpelier'), ('Annapolis', 'Richmond'), ('Annapolis', 'Olympia'), ('Annapolis', 'Charleston'), ('Annapolis', 'Madison'), ('Annapolis', 'Cheyenne'), ('Boston', 'Lansing'), ('Boston', 'Saint Paul'), ('Boston', 'Jackson'), ('Boston', 'Jefferson City'), ('Boston', 'Helana'), ('Boston', 'Lincoln'), ('Boston', 'Carson City'), ('Boston', 'Concord'), ('Boston', 'Trenton'), ('Boston', 'Santa Fe'), ('Boston', 'Albany'), ('Boston', 'Raleigh'), ('Boston', 'Bismarck'), ('Boston', 'Columbus'), ('Boston', 'Oklahoma City'), ('Boston', 'Salem'), ('Boston', 'Harrisburg'), ('Boston', 'Providence'), ('Boston', 'Columbia'), ('Boston', 'Pierre'), ('Boston', 'Nashville'), ('Boston', 'Austin'), ('Boston', 'Salt Lake City'), ('Boston', 'Montpelier'), ('Boston', 'Richmond'), ('Boston', 'Olympia'), ('Boston', 'Charleston'), ('Boston', 'Madison'), ('Boston', 'Cheyenne'), ('Lansing', 'Saint Paul'), ('Lansing', 'Jackson'), ('Lansing', 'Jefferson City'), ('Lansing', 'Helana'), ('Lansing', 'Lincoln'), ('Lansing', 'Carson City'), ('Lansing', 'Concord'), ('Lansing', 'Trenton'), ('Lansing', 'Santa Fe'), ('Lansing', 'Albany'), ('Lansing', 'Raleigh'), ('Lansing', 'Bismarck'), ('Lansing', 'Columbus'), ('Lansing', 'Oklahoma City'), ('Lansing', 'Salem'), ('Lansing', 'Harrisburg'), ('Lansing', 'Providence'), ('Lansing', 'Columbia'), ('Lansing', 'Pierre'), ('Lansing', 'Nashville'), ('Lansing', 'Austin'), ('Lansing', 'Salt Lake City'), ('Lansing', 'Montpelier'), ('Lansing', 'Richmond'), ('Lansing', 'Olympia'), ('Lansing', 'Charleston'), ('Lansing', 'Madison'), ('Lansing', 'Cheyenne'), ('Saint Paul', 'Jackson'), ('Saint Paul', 'Jefferson City'), ('Saint Paul', 'Helana'), ('Saint Paul', 'Lincoln'), ('Saint Paul', 'Carson City'), ('Saint Paul', 'Concord'), ('Saint Paul', 'Trenton'), ('Saint Paul', 'Santa Fe'), ('Saint Paul', 'Albany'), ('Saint Paul', 'Raleigh'), ('Saint Paul', 'Bismarck'), ('Saint Paul', 'Columbus'), ('Saint Paul', 'Oklahoma City'), ('Saint Paul', 'Salem'), ('Saint Paul', 'Harrisburg'), ('Saint Paul', 'Providence'), ('Saint Paul', 'Columbia'), ('Saint Paul', 'Pierre'), ('Saint Paul', 'Nashville'), ('Saint Paul', 'Austin'), ('Saint Paul', 'Salt Lake City'), ('Saint Paul', 'Montpelier'), ('Saint Paul', 'Richmond'), ('Saint Paul', 'Olympia'), ('Saint Paul', 'Charleston'), ('Saint Paul', 'Madison'), ('Saint Paul', 'Cheyenne'), ('Jackson', 'Jefferson City'), ('Jackson', 'Helana'), ('Jackson', 'Lincoln'), ('Jackson', 'Carson City'), ('Jackson', 'Concord'), ('Jackson', 'Trenton'), ('Jackson', 'Santa Fe'), ('Jackson', 'Albany'), ('Jackson', 'Raleigh'), ('Jackson', 'Bismarck'), ('Jackson', 'Columbus'), ('Jackson', 'Oklahoma City'), ('Jackson', 'Salem'), ('Jackson', 'Harrisburg'), ('Jackson', 'Providence'), ('Jackson', 'Columbia'), ('Jackson', 'Pierre'), ('Jackson', 'Nashville'), ('Jackson', 'Austin'), ('Jackson', 'Salt Lake City'), ('Jackson', 'Montpelier'), ('Jackson', 'Richmond'), ('Jackson', 'Olympia'), ('Jackson', 'Charleston'), ('Jackson', 'Madison'), ('Jackson', 'Cheyenne'), ('Jefferson City', 'Helana'), ('Jefferson City', 'Lincoln'), ('Jefferson City', 'Carson City'), ('Jefferson City', 'Concord'), ('Jefferson City', 'Trenton'), ('Jefferson City', 'Santa Fe'), ('Jefferson City', 'Albany'), ('Jefferson City', 'Raleigh'), ('Jefferson City', 'Bismarck'), ('Jefferson City', 'Columbus'), ('Jefferson City', 'Oklahoma City'), ('Jefferson City', 'Salem'), ('Jefferson City', 'Harrisburg'), ('Jefferson City', 'Providence'), ('Jefferson City', 'Columbia'), ('Jefferson City', 'Pierre'), ('Jefferson City', 'Nashville'), ('Jefferson City', 'Austin'), ('Jefferson City', 'Salt Lake City'), ('Jefferson City', 'Montpelier'), ('Jefferson City', 'Richmond'), ('Jefferson City', 'Olympia'), ('Jefferson City', 'Charleston'), ('Jefferson City', 'Madison'), ('Jefferson City', 'Cheyenne'), ('Helana', 'Lincoln'), ('Helana', 'Carson City'), ('Helana', 'Concord'), ('Helana', 'Trenton'), ('Helana', 'Santa Fe'), ('Helana', 'Albany'), ('Helana', 'Raleigh'), ('Helana', 'Bismarck'), ('Helana', 'Columbus'), ('Helana', 'Oklahoma City'), ('Helana', 'Salem'), ('Helana', 'Harrisburg'), ('Helana', 'Providence'), ('Helana', 'Columbia'), ('Helana', 'Pierre'), ('Helana', 'Nashville'), ('Helana', 'Austin'), ('Helana', 'Salt Lake City'), ('Helana', 'Montpelier'), ('Helana', 'Richmond'), ('Helana', 'Olympia'), ('Helana', 'Charleston'), ('Helana', 'Madison'), ('Helana', 'Cheyenne'), ('Lincoln', 'Carson City'), ('Lincoln', 'Concord'), ('Lincoln', 'Trenton'), ('Lincoln', 'Santa Fe'), ('Lincoln', 'Albany'), ('Lincoln', 'Raleigh'), ('Lincoln', 'Bismarck'), ('Lincoln', 'Columbus'), ('Lincoln', 'Oklahoma City'), ('Lincoln', 'Salem'), ('Lincoln', 'Harrisburg'), ('Lincoln', 'Providence'), ('Lincoln', 'Columbia'), ('Lincoln', 'Pierre'), ('Lincoln', 'Nashville'), ('Lincoln', 'Austin'), ('Lincoln', 'Salt Lake City'), ('Lincoln', 'Montpelier'), ('Lincoln', 'Richmond'), ('Lincoln', 'Olympia'), ('Lincoln', 'Charleston'), ('Lincoln', 'Madison'), ('Lincoln', 'Cheyenne'), ('Carson City', 'Concord'), ('Carson City', 'Trenton'), ('Carson City', 'Santa Fe'), ('Carson City', 'Albany'), ('Carson City', 'Raleigh'), ('Carson City', 'Bismarck'), ('Carson City', 'Columbus'), ('Carson City', 'Oklahoma City'), ('Carson City', 'Salem'), ('Carson City', 'Harrisburg'), ('Carson City', 'Providence'), ('Carson City', 'Columbia'), ('Carson City', 'Pierre'), ('Carson City', 'Nashville'), ('Carson City', 'Austin'), ('Carson City', 'Salt Lake City'), ('Carson City', 'Montpelier'), ('Carson City', 'Richmond'), ('Carson City', 'Olympia'), ('Carson City', 'Charleston'), ('Carson City', 'Madison'), ('Carson City', 'Cheyenne'), ('Concord', 'Trenton'), ('Concord', 'Santa Fe'), ('Concord', 'Albany'), ('Concord', 'Raleigh'), ('Concord', 'Bismarck'), ('Concord', 'Columbus'), ('Concord', 'Oklahoma City'), ('Concord', 'Salem'), ('Concord', 'Harrisburg'), ('Concord', 'Providence'), ('Concord', 'Columbia'), ('Concord', 'Pierre'), ('Concord', 'Nashville'), ('Concord', 'Austin'), ('Concord', 'Salt Lake City'), ('Concord', 'Montpelier'), ('Concord', 'Richmond'), ('Concord', 'Olympia'), ('Concord', 'Charleston'), ('Concord', 'Madison'), ('Concord', 'Cheyenne'), ('Trenton', 'Santa Fe'), ('Trenton', 'Albany'), ('Trenton', 'Raleigh'), ('Trenton', 'Bismarck'), ('Trenton', 'Columbus'), ('Trenton', 'Oklahoma City'), ('Trenton', 'Salem'), ('Trenton', 'Harrisburg'), ('Trenton', 'Providence'), ('Trenton', 'Columbia'), ('Trenton', 'Pierre'), ('Trenton', 'Nashville'), ('Trenton', 'Austin'), ('Trenton', 'Salt Lake City'), ('Trenton', 'Montpelier'), ('Trenton', 'Richmond'), ('Trenton', 'Olympia'), ('Trenton', 'Charleston'), ('Trenton', 'Madison'), ('Trenton', 'Cheyenne'), ('Santa Fe', 'Albany'), ('Santa Fe', 'Raleigh'), ('Santa Fe', 'Bismarck'), ('Santa Fe', 'Columbus'), ('Santa Fe', 'Oklahoma City'), ('Santa Fe', 'Salem'), ('Santa Fe', 'Harrisburg'), ('Santa Fe', 'Providence'), ('Santa Fe', 'Columbia'), ('Santa Fe', 'Pierre'), ('Santa Fe', 'Nashville'), ('Santa Fe', 'Austin'), ('Santa Fe', 'Salt Lake City'), ('Santa Fe', 'Montpelier'), ('Santa Fe', 'Richmond'), ('Santa Fe', 'Olympia'), ('Santa Fe', 'Charleston'), ('Santa Fe', 'Madison'), ('Santa Fe', 'Cheyenne'), ('Albany', 'Raleigh'), ('Albany', 'Bismarck'), ('Albany', 'Columbus'), ('Albany', 'Oklahoma City'), ('Albany', 'Salem'), ('Albany', 'Harrisburg'), ('Albany', 'Providence'), ('Albany', 'Columbia'), ('Albany', 'Pierre'), ('Albany', 'Nashville'), ('Albany', 'Austin'), ('Albany', 'Salt Lake City'), ('Albany', 'Montpelier'), ('Albany', 'Richmond'), ('Albany', 'Olympia'), ('Albany', 'Charleston'), ('Albany', 'Madison'), ('Albany', 'Cheyenne'), ('Raleigh', 'Bismarck'), ('Raleigh', 'Columbus'), ('Raleigh', 'Oklahoma City'), ('Raleigh', 'Salem'), ('Raleigh', 'Harrisburg'), ('Raleigh', 'Providence'), ('Raleigh', 'Columbia'), ('Raleigh', 'Pierre'), ('Raleigh', 'Nashville'), ('Raleigh', 'Austin'), ('Raleigh', 'Salt Lake City'), ('Raleigh', 'Montpelier'), ('Raleigh', 'Richmond'), ('Raleigh', 'Olympia'), ('Raleigh', 'Charleston'), ('Raleigh', 'Madison'), ('Raleigh', 'Cheyenne'), ('Bismarck', 'Columbus'), ('Bismarck', 'Oklahoma City'), ('Bismarck', 'Salem'), ('Bismarck', 'Harrisburg'), ('Bismarck', 'Providence'), ('Bismarck', 'Columbia'), ('Bismarck', 'Pierre'), ('Bismarck', 'Nashville'), ('Bismarck', 'Austin'), ('Bismarck', 'Salt Lake City'), ('Bismarck', 'Montpelier'), ('Bismarck', 'Richmond'), ('Bismarck', 'Olympia'), ('Bismarck', 'Charleston'), ('Bismarck', 'Madison'), ('Bismarck', 'Cheyenne'), ('Columbus', 'Oklahoma City'), ('Columbus', 'Salem'), ('Columbus', 'Harrisburg'), ('Columbus', 'Providence'), ('Columbus', 'Columbia'), ('Columbus', 'Pierre'), ('Columbus', 'Nashville'), ('Columbus', 'Austin'), ('Columbus', 'Salt Lake City'), ('Columbus', 'Montpelier'), ('Columbus', 'Richmond'), ('Columbus', 'Olympia'), ('Columbus', 'Charleston'), ('Columbus', 'Madison'), ('Columbus', 'Cheyenne'), ('Oklahoma City', 'Salem'), ('Oklahoma City', 'Harrisburg'), ('Oklahoma City', 'Providence'), ('Oklahoma City', 'Columbia'), ('Oklahoma City', 'Pierre'), ('Oklahoma City', 'Nashville'), ('Oklahoma City', 'Austin'), ('Oklahoma City', 'Salt Lake City'), ('Oklahoma City', 'Montpelier'), ('Oklahoma City', 'Richmond'), ('Oklahoma City', 'Olympia'), ('Oklahoma City', 'Charleston'), ('Oklahoma City', 'Madison'), ('Oklahoma City', 'Cheyenne'), ('Salem', 'Harrisburg'), ('Salem', 'Providence'), ('Salem', 'Columbia'), ('Salem', 'Pierre'), ('Salem', 'Nashville'), ('Salem', 'Austin'), ('Salem', 'Salt Lake City'), ('Salem', 'Montpelier'), ('Salem', 'Richmond'), ('Salem', 'Olympia'), ('Salem', 'Charleston'), ('Salem', 'Madison'), ('Salem', 'Cheyenne'), ('Harrisburg', 'Providence'), ('Harrisburg', 'Columbia'), ('Harrisburg', 'Pierre'), ('Harrisburg', 'Nashville'), ('Harrisburg', 'Austin'), ('Harrisburg', 'Salt Lake City'), ('Harrisburg', 'Montpelier'), ('Harrisburg', 'Richmond'), ('Harrisburg', 'Olympia'), ('Harrisburg', 'Charleston'), ('Harrisburg', 'Madison'), ('Harrisburg', 'Cheyenne'), ('Providence', 'Columbia'), ('Providence', 'Pierre'), ('Providence', 'Nashville'), ('Providence', 'Austin'), ('Providence', 'Salt Lake City'), ('Providence', 'Montpelier'), ('Providence', 'Richmond'), ('Providence', 'Olympia'), ('Providence', 'Charleston'), ('Providence', 'Madison'), ('Providence', 'Cheyenne'), ('Columbia', 'Pierre'), ('Columbia', 'Nashville'), ('Columbia', 'Austin'), ('Columbia', 'Salt Lake City'), ('Columbia', 'Montpelier'), ('Columbia', 'Richmond'), ('Columbia', 'Olympia'), ('Columbia', 'Charleston'), ('Columbia', 'Madison'), ('Columbia', 'Cheyenne'), ('Pierre', 'Nashville'), ('Pierre', 'Austin'), ('Pierre', 'Salt Lake City'), ('Pierre', 'Montpelier'), ('Pierre', 'Richmond'), ('Pierre', 'Olympia'), ('Pierre', 'Charleston'), ('Pierre', 'Madison'), ('Pierre', 'Cheyenne'), ('Nashville', 'Austin'), ('Nashville', 'Salt Lake City'), ('Nashville', 'Montpelier'), ('Nashville', 'Richmond'), ('Nashville', 'Olympia'), ('Nashville', 'Charleston'), ('Nashville', 'Madison'), ('Nashville', 'Cheyenne'), ('Austin', 'Salt Lake City'), ('Austin', 'Montpelier'), ('Austin', 'Richmond'), ('Austin', 'Olympia'), ('Austin', 'Charleston'), ('Austin', 'Madison'), ('Austin', 'Cheyenne'), ('Salt Lake City', 'Montpelier'), ('Salt Lake City', 'Richmond'), ('Salt Lake City', 'Olympia'), ('Salt Lake City', 'Charleston'), ('Salt Lake City', 'Madison'), ('Salt Lake City', 'Cheyenne'), ('Montpelier', 'Richmond'), ('Montpelier', 'Olympia'), ('Montpelier', 'Charleston'), ('Montpelier', 'Madison'), ('Montpelier', 'Cheyenne'), ('Richmond', 'Olympia'), ('Richmond', 'Charleston'), ('Richmond', 'Madison'), ('Richmond', 'Cheyenne'), ('Olympia', 'Charleston'), ('Olympia', 'Madison'), ('Olympia', 'Cheyenne'), ('Charleston', 'Madison'), ('Charleston', 'Cheyenne'), ('Madison', 'Cheyenne'), ('Phoenix', 'Montgomery'), ('Little Rock', 'Montgomery'), ('Sacramento', 'Montgomery'), ('Denver', 'Montgomery'), ('Hartford', 'Montgomery'), ('Dover', 'Montgomery'), ('Tallahassee', 'Montgomery'), ('Atlanta', 'Montgomery'), ('Boise', 'Montgomery'), ('Springfield', 'Montgomery'), ('Indianapolis', 'Montgomery'), ('Des Moines', 'Montgomery'), ('Topeka', 'Montgomery'), ('Frankfort', 'Montgomery'), ('Baton Rouge', 'Montgomery'), ('Augusta', 'Montgomery'), ('Annapolis', 'Montgomery'), ('Boston', 'Montgomery'), ('Lansing', 'Montgomery'), ('Saint Paul', 'Montgomery'), ('Jackson', 'Montgomery'), ('Jefferson City', 'Montgomery'), ('Helana', 'Montgomery'), ('Lincoln', 'Montgomery'), ('Carson City', 'Montgomery'), ('Concord', 'Montgomery'), ('Trenton', 'Montgomery'), ('Santa Fe', 'Montgomery'), ('Albany', 'Montgomery'), ('Raleigh', 'Montgomery'), ('Bismarck', 'Montgomery'), ('Columbus', 'Montgomery'), ('Oklahoma City', 'Montgomery'), ('Salem', 'Montgomery'), ('Harrisburg', 'Montgomery'), ('Providence', 'Montgomery'), ('Columbia', 'Montgomery'), ('Pierre', 'Montgomery'), ('Nashville', 'Montgomery'), ('Austin', 'Montgomery'), ('Salt Lake City', 'Montgomery'), ('Montpelier', 'Montgomery'), ('Richmond', 'Montgomery'), ('Olympia', 'Montgomery'), ('Charleston', 'Montgomery'), ('Madison', 'Montgomery'), ('Cheyenne', 'Montgomery'), ('Little Rock', 'Phoenix'), ('Sacramento', 'Phoenix'), ('Denver', 'Phoenix'), ('Hartford', 'Phoenix'), ('Dover', 'Phoenix'), ('Tallahassee', 'Phoenix'), ('Atlanta', 'Phoenix'), ('Boise', 'Phoenix'), ('Springfield', 'Phoenix'), ('Indianapolis', 'Phoenix'), ('Des Moines', 'Phoenix'), ('Topeka', 'Phoenix'), ('Frankfort', 'Phoenix'), ('Baton Rouge', 'Phoenix'), ('Augusta', 'Phoenix'), ('Annapolis', 'Phoenix'), ('Boston', 'Phoenix'), ('Lansing', 'Phoenix'), ('Saint Paul', 'Phoenix'), ('Jackson', 'Phoenix'), ('Jefferson City', 'Phoenix'), ('Helana', 'Phoenix'), ('Lincoln', 'Phoenix'), ('Carson City', 'Phoenix'), ('Concord', 'Phoenix'), ('Trenton', 'Phoenix'), ('Santa Fe', 'Phoenix'), ('Albany', 'Phoenix'), ('Raleigh', 'Phoenix'), ('Bismarck', 'Phoenix'), ('Columbus', 'Phoenix'), ('Oklahoma City', 'Phoenix'), ('Salem', 'Phoenix'), ('Harrisburg', 'Phoenix'), ('Providence', 'Phoenix'), ('Columbia', 'Phoenix'), ('Pierre', 'Phoenix'), ('Nashville', 'Phoenix'), ('Austin', 'Phoenix'), ('Salt Lake City', 'Phoenix'), ('Montpelier', 'Phoenix'), ('Richmond', 'Phoenix'), ('Olympia', 'Phoenix'), ('Charleston', 'Phoenix'), ('Madison', 'Phoenix'), ('Cheyenne', 'Phoenix'), ('Sacramento', 'Little Rock'), ('Denver', 'Little Rock'), ('Hartford', 'Little Rock'), ('Dover', 'Little Rock'), ('Tallahassee', 'Little Rock'), ('Atlanta', 'Little Rock'), ('Boise', 'Little Rock'), ('Springfield', 'Little Rock'), ('Indianapolis', 'Little Rock'), ('Des Moines', 'Little Rock'), ('Topeka', 'Little Rock'), ('Frankfort', 'Little Rock'), ('Baton Rouge', 'Little Rock'), ('Augusta', 'Little Rock'), ('Annapolis', 'Little Rock'), ('Boston', 'Little Rock'), ('Lansing', 'Little Rock'), ('Saint Paul', 'Little Rock'), ('Jackson', 'Little Rock'), ('Jefferson City', 'Little Rock'), ('Helana', 'Little Rock'), ('Lincoln', 'Little Rock'), ('Carson City', 'Little Rock'), ('Concord', 'Little Rock'), ('Trenton', 'Little Rock'), ('Santa Fe', 'Little Rock'), ('Albany', 'Little Rock'), ('Raleigh', 'Little Rock'), ('Bismarck', 'Little Rock'), ('Columbus', 'Little Rock'), ('Oklahoma City', 'Little Rock'), ('Salem', 'Little Rock'), ('Harrisburg', 'Little Rock'), ('Providence', 'Little Rock'), ('Columbia', 'Little Rock'), ('Pierre', 'Little Rock'), ('Nashville', 'Little Rock'), ('Austin', 'Little Rock'), ('Salt Lake City', 'Little Rock'), ('Montpelier', 'Little Rock'), ('Richmond', 'Little Rock'), ('Olympia', 'Little Rock'), ('Charleston', 'Little Rock'), ('Madison', 'Little Rock'), ('Cheyenne', 'Little Rock'), ('Denver', 'Sacramento'), ('Hartford', 'Sacramento'), ('Dover', 'Sacramento'), ('Tallahassee', 'Sacramento'), ('Atlanta', 'Sacramento'), ('Boise', 'Sacramento'), ('Springfield', 'Sacramento'), ('Indianapolis', 'Sacramento'), ('Des Moines', 'Sacramento'), ('Topeka', 'Sacramento'), ('Frankfort', 'Sacramento'), ('Baton Rouge', 'Sacramento'), ('Augusta', 'Sacramento'), ('Annapolis', 'Sacramento'), ('Boston', 'Sacramento'), ('Lansing', 'Sacramento'), ('Saint Paul', 'Sacramento'), ('Jackson', 'Sacramento'), ('Jefferson City', 'Sacramento'), ('Helana', 'Sacramento'), ('Lincoln', 'Sacramento'), ('Carson City', 'Sacramento'), ('Concord', 'Sacramento'), ('Trenton', 'Sacramento'), ('Santa Fe', 'Sacramento'), ('Albany', 'Sacramento'), ('Raleigh', 'Sacramento'), ('Bismarck', 'Sacramento'), ('Columbus', 'Sacramento'), ('Oklahoma City', 'Sacramento'), ('Salem', 'Sacramento'), ('Harrisburg', 'Sacramento'), ('Providence', 'Sacramento'), ('Columbia', 'Sacramento'), ('Pierre', 'Sacramento'), ('Nashville', 'Sacramento'), ('Austin', 'Sacramento'), ('Salt Lake City', 'Sacramento'), ('Montpelier', 'Sacramento'), ('Richmond', 'Sacramento'), ('Olympia', 'Sacramento'), ('Charleston', 'Sacramento'), ('Madison', 'Sacramento'), ('Cheyenne', 'Sacramento'), ('Hartford', 'Denver'), ('Dover', 'Denver'), ('Tallahassee', 'Denver'), ('Atlanta', 'Denver'), ('Boise', 'Denver'), ('Springfield', 'Denver'), ('Indianapolis', 'Denver'), ('Des Moines', 'Denver'), ('Topeka', 'Denver'), ('Frankfort', 'Denver'), ('Baton Rouge', 'Denver'), ('Augusta', 'Denver'), ('Annapolis', 'Denver'), ('Boston', 'Denver'), ('Lansing', 'Denver'), ('Saint Paul', 'Denver'), ('Jackson', 'Denver'), ('Jefferson City', 'Denver'), ('Helana', 'Denver'), ('Lincoln', 'Denver'), ('Carson City', 'Denver'), ('Concord', 'Denver'), ('Trenton', 'Denver'), ('Santa Fe', 'Denver'), ('Albany', 'Denver'), ('Raleigh', 'Denver'), ('Bismarck', 'Denver'), ('Columbus', 'Denver'), ('Oklahoma City', 'Denver'), ('Salem', 'Denver'), ('Harrisburg', 'Denver'), ('Providence', 'Denver'), ('Columbia', 'Denver'), ('Pierre', 'Denver'), ('Nashville', 'Denver'), ('Austin', 'Denver'), ('Salt Lake City', 'Denver'), ('Montpelier', 'Denver'), ('Richmond', 'Denver'), ('Olympia', 'Denver'), ('Charleston', 'Denver'), ('Madison', 'Denver'), ('Cheyenne', 'Denver'), ('Dover', 'Hartford'), ('Tallahassee', 'Hartford'), ('Atlanta', 'Hartford'), ('Boise', 'Hartford'), ('Springfield', 'Hartford'), ('Indianapolis', 'Hartford'), ('Des Moines', 'Hartford'), ('Topeka', 'Hartford'), ('Frankfort', 'Hartford'), ('Baton Rouge', 'Hartford'), ('Augusta', 'Hartford'), ('Annapolis', 'Hartford'), ('Boston', 'Hartford'), ('Lansing', 'Hartford'), ('Saint Paul', 'Hartford'), ('Jackson', 'Hartford'), ('Jefferson City', 'Hartford'), ('Helana', 'Hartford'), ('Lincoln', 'Hartford'), ('Carson City', 'Hartford'), ('Concord', 'Hartford'), ('Trenton', 'Hartford'), ('Santa Fe', 'Hartford'), ('Albany', 'Hartford'), ('Raleigh', 'Hartford'), ('Bismarck', 'Hartford'), ('Columbus', 'Hartford'), ('Oklahoma City', 'Hartford'), ('Salem', 'Hartford'), ('Harrisburg', 'Hartford'), ('Providence', 'Hartford'), ('Columbia', 'Hartford'), ('Pierre', 'Hartford'), ('Nashville', 'Hartford'), ('Austin', 'Hartford'), ('Salt Lake City', 'Hartford'), ('Montpelier', 'Hartford'), ('Richmond', 'Hartford'), ('Olympia', 'Hartford'), ('Charleston', 'Hartford'), ('Madison', 'Hartford'), ('Cheyenne', 'Hartford'), ('Tallahassee', 'Dover'), ('Atlanta', 'Dover'), ('Boise', 'Dover'), ('Springfield', 'Dover'), ('Indianapolis', 'Dover'), ('Des Moines', 'Dover'), ('Topeka', 'Dover'), ('Frankfort', 'Dover'), ('Baton Rouge', 'Dover'), ('Augusta', 'Dover'), ('Annapolis', 'Dover'), ('Boston', 'Dover'), ('Lansing', 'Dover'), ('Saint Paul', 'Dover'), ('Jackson', 'Dover'), ('Jefferson City', 'Dover'), ('Helana', 'Dover'), ('Lincoln', 'Dover'), ('Carson City', 'Dover'), ('Concord', 'Dover'), ('Trenton', 'Dover'), ('Santa Fe', 'Dover'), ('Albany', 'Dover'), ('Raleigh', 'Dover'), ('Bismarck', 'Dover'), ('Columbus', 'Dover'), ('Oklahoma City', 'Dover'), ('Salem', 'Dover'), ('Harrisburg', 'Dover'), ('Providence', 'Dover'), ('Columbia', 'Dover'), ('Pierre', 'Dover'), ('Nashville', 'Dover'), ('Austin', 'Dover'), ('Salt Lake City', 'Dover'), ('Montpelier', 'Dover'), ('Richmond', 'Dover'), ('Olympia', 'Dover'), ('Charleston', 'Dover'), ('Madison', 'Dover'), ('Cheyenne', 'Dover'), ('Atlanta', 'Tallahassee'), ('Boise', 'Tallahassee'), ('Springfield', 'Tallahassee'), ('Indianapolis', 'Tallahassee'), ('Des Moines', 'Tallahassee'), ('Topeka', 'Tallahassee'), ('Frankfort', 'Tallahassee'), ('Baton Rouge', 'Tallahassee'), ('Augusta', 'Tallahassee'), ('Annapolis', 'Tallahassee'), ('Boston', 'Tallahassee'), ('Lansing', 'Tallahassee'), ('Saint Paul', 'Tallahassee'), ('Jackson', 'Tallahassee'), ('Jefferson City', 'Tallahassee'), ('Helana', 'Tallahassee'), ('Lincoln', 'Tallahassee'), ('Carson City', 'Tallahassee'), ('Concord', 'Tallahassee'), ('Trenton', 'Tallahassee'), ('Santa Fe', 'Tallahassee'), ('Albany', 'Tallahassee'), ('Raleigh', 'Tallahassee'), ('Bismarck', 'Tallahassee'), ('Columbus', 'Tallahassee'), ('Oklahoma City', 'Tallahassee'), ('Salem', 'Tallahassee'), ('Harrisburg', 'Tallahassee'), ('Providence', 'Tallahassee'), ('Columbia', 'Tallahassee'), ('Pierre', 'Tallahassee'), ('Nashville', 'Tallahassee'), ('Austin', 'Tallahassee'), ('Salt Lake City', 'Tallahassee'), ('Montpelier', 'Tallahassee'), ('Richmond', 'Tallahassee'), ('Olympia', 'Tallahassee'), ('Charleston', 'Tallahassee'), ('Madison', 'Tallahassee'), ('Cheyenne', 'Tallahassee'), ('Boise', 'Atlanta'), ('Springfield', 'Atlanta'), ('Indianapolis', 'Atlanta'), ('Des Moines', 'Atlanta'), ('Topeka', 'Atlanta'), ('Frankfort', 'Atlanta'), ('Baton Rouge', 'Atlanta'), ('Augusta', 'Atlanta'), ('Annapolis', 'Atlanta'), ('Boston', 'Atlanta'), ('Lansing', 'Atlanta'), ('Saint Paul', 'Atlanta'), ('Jackson', 'Atlanta'), ('Jefferson City', 'Atlanta'), ('Helana', 'Atlanta'), ('Lincoln', 'Atlanta'), ('Carson City', 'Atlanta'), ('Concord', 'Atlanta'), ('Trenton', 'Atlanta'), ('Santa Fe', 'Atlanta'), ('Albany', 'Atlanta'), ('Raleigh', 'Atlanta'), ('Bismarck', 'Atlanta'), ('Columbus', 'Atlanta'), ('Oklahoma City', 'Atlanta'), ('Salem', 'Atlanta'), ('Harrisburg', 'Atlanta'), ('Providence', 'Atlanta'), ('Columbia', 'Atlanta'), ('Pierre', 'Atlanta'), ('Nashville', 'Atlanta'), ('Austin', 'Atlanta'), ('Salt Lake City', 'Atlanta'), ('Montpelier', 'Atlanta'), ('Richmond', 'Atlanta'), ('Olympia', 'Atlanta'), ('Charleston', 'Atlanta'), ('Madison', 'Atlanta'), ('Cheyenne', 'Atlanta'), ('Springfield', 'Boise'), ('Indianapolis', 'Boise'), ('Des Moines', 'Boise'), ('Topeka', 'Boise'), ('Frankfort', 'Boise'), ('Baton Rouge', 'Boise'), ('Augusta', 'Boise'), ('Annapolis', 'Boise'), ('Boston', 'Boise'), ('Lansing', 'Boise'), ('Saint Paul', 'Boise'), ('Jackson', 'Boise'), ('Jefferson City', 'Boise'), ('Helana', 'Boise'), ('Lincoln', 'Boise'), ('Carson City', 'Boise'), ('Concord', 'Boise'), ('Trenton', 'Boise'), ('Santa Fe', 'Boise'), ('Albany', 'Boise'), ('Raleigh', 'Boise'), ('Bismarck', 'Boise'), ('Columbus', 'Boise'), ('Oklahoma City', 'Boise'), ('Salem', 'Boise'), ('Harrisburg', 'Boise'), ('Providence', 'Boise'), ('Columbia', 'Boise'), ('Pierre', 'Boise'), ('Nashville', 'Boise'), ('Austin', 'Boise'), ('Salt Lake City', 'Boise'), ('Montpelier', 'Boise'), ('Richmond', 'Boise'), ('Olympia', 'Boise'), ('Charleston', 'Boise'), ('Madison', 'Boise'), ('Cheyenne', 'Boise'), ('Indianapolis', 'Springfield'), ('Des Moines', 'Springfield'), ('Topeka', 'Springfield'), ('Frankfort', 'Springfield'), ('Baton Rouge', 'Springfield'), ('Augusta', 'Springfield'), ('Annapolis', 'Springfield'), ('Boston', 'Springfield'), ('Lansing', 'Springfield'), ('Saint Paul', 'Springfield'), ('Jackson', 'Springfield'), ('Jefferson City', 'Springfield'), ('Helana', 'Springfield'), ('Lincoln', 'Springfield'), ('Carson City', 'Springfield'), ('Concord', 'Springfield'), ('Trenton', 'Springfield'), ('Santa Fe', 'Springfield'), ('Albany', 'Springfield'), ('Raleigh', 'Springfield'), ('Bismarck', 'Springfield'), ('Columbus', 'Springfield'), ('Oklahoma City', 'Springfield'), ('Salem', 'Springfield'), ('Harrisburg', 'Springfield'), ('Providence', 'Springfield'), ('Columbia', 'Springfield'), ('Pierre', 'Springfield'), ('Nashville', 'Springfield'), ('Austin', 'Springfield'), ('Salt Lake City', 'Springfield'), ('Montpelier', 'Springfield'), ('Richmond', 'Springfield'), ('Olympia', 'Springfield'), ('Charleston', 'Springfield'), ('Madison', 'Springfield'), ('Cheyenne', 'Springfield'), ('Des Moines', 'Indianapolis'), ('Topeka', 'Indianapolis'), ('Frankfort', 'Indianapolis'), ('Baton Rouge', 'Indianapolis'), ('Augusta', 'Indianapolis'), ('Annapolis', 'Indianapolis'), ('Boston', 'Indianapolis'), ('Lansing', 'Indianapolis'), ('Saint Paul', 'Indianapolis'), ('Jackson', 'Indianapolis'), ('Jefferson City', 'Indianapolis'), ('Helana', 'Indianapolis'), ('Lincoln', 'Indianapolis'), ('Carson City', 'Indianapolis'), ('Concord', 'Indianapolis'), ('Trenton', 'Indianapolis'), ('Santa Fe', 'Indianapolis'), ('Albany', 'Indianapolis'), ('Raleigh', 'Indianapolis'), ('Bismarck', 'Indianapolis'), ('Columbus', 'Indianapolis'), ('Oklahoma City', 'Indianapolis'), ('Salem', 'Indianapolis'), ('Harrisburg', 'Indianapolis'), ('Providence', 'Indianapolis'), ('Columbia', 'Indianapolis'), ('Pierre', 'Indianapolis'), ('Nashville', 'Indianapolis'), ('Austin', 'Indianapolis'), ('Salt Lake City', 'Indianapolis'), ('Montpelier', 'Indianapolis'), ('Richmond', 'Indianapolis'), ('Olympia', 'Indianapolis'), ('Charleston', 'Indianapolis'), ('Madison', 'Indianapolis'), ('Cheyenne', 'Indianapolis'), ('Topeka', 'Des Moines'), ('Frankfort', 'Des Moines'), ('Baton Rouge', 'Des Moines'), ('Augusta', 'Des Moines'), ('Annapolis', 'Des Moines'), ('Boston', 'Des Moines'), ('Lansing', 'Des Moines'), ('Saint Paul', 'Des Moines'), ('Jackson', 'Des Moines'), ('Jefferson City', 'Des Moines'), ('Helana', 'Des Moines'), ('Lincoln', 'Des Moines'), ('Carson City', 'Des Moines'), ('Concord', 'Des Moines'), ('Trenton', 'Des Moines'), ('Santa Fe', 'Des Moines'), ('Albany', 'Des Moines'), ('Raleigh', 'Des Moines'), ('Bismarck', 'Des Moines'), ('Columbus', 'Des Moines'), ('Oklahoma City', 'Des Moines'), ('Salem', 'Des Moines'), ('Harrisburg', 'Des Moines'), ('Providence', 'Des Moines'), ('Columbia', 'Des Moines'), ('Pierre', 'Des Moines'), ('Nashville', 'Des Moines'), ('Austin', 'Des Moines'), ('Salt Lake City', 'Des Moines'), ('Montpelier', 'Des Moines'), ('Richmond', 'Des Moines'), ('Olympia', 'Des Moines'), ('Charleston', 'Des Moines'), ('Madison', 'Des Moines'), ('Cheyenne', 'Des Moines'), ('Frankfort', 'Topeka'), ('Baton Rouge', 'Topeka'), ('Augusta', 'Topeka'), ('Annapolis', 'Topeka'), ('Boston', 'Topeka'), ('Lansing', 'Topeka'), ('Saint Paul', 'Topeka'), ('Jackson', 'Topeka'), ('Jefferson City', 'Topeka'), ('Helana', 'Topeka'), ('Lincoln', 'Topeka'), ('Carson City', 'Topeka'), ('Concord', 'Topeka'), ('Trenton', 'Topeka'), ('Santa Fe', 'Topeka'), ('Albany', 'Topeka'), ('Raleigh', 'Topeka'), ('Bismarck', 'Topeka'), ('Columbus', 'Topeka'), ('Oklahoma City', 'Topeka'), ('Salem', 'Topeka'), ('Harrisburg', 'Topeka'), ('Providence', 'Topeka'), ('Columbia', 'Topeka'), ('Pierre', 'Topeka'), ('Nashville', 'Topeka'), ('Austin', 'Topeka'), ('Salt Lake City', 'Topeka'), ('Montpelier', 'Topeka'), ('Richmond', 'Topeka'), ('Olympia', 'Topeka'), ('Charleston', 'Topeka'), ('Madison', 'Topeka'), ('Cheyenne', 'Topeka'), ('Baton Rouge', 'Frankfort'), ('Augusta', 'Frankfort'), ('Annapolis', 'Frankfort'), ('Boston', 'Frankfort'), ('Lansing', 'Frankfort'), ('Saint Paul', 'Frankfort'), ('Jackson', 'Frankfort'), ('Jefferson City', 'Frankfort'), ('Helana', 'Frankfort'), ('Lincoln', 'Frankfort'), ('Carson City', 'Frankfort'), ('Concord', 'Frankfort'), ('Trenton', 'Frankfort'), ('Santa Fe', 'Frankfort'), ('Albany', 'Frankfort'), ('Raleigh', 'Frankfort'), ('Bismarck', 'Frankfort'), ('Columbus', 'Frankfort'), ('Oklahoma City', 'Frankfort'), ('Salem', 'Frankfort'), ('Harrisburg', 'Frankfort'), ('Providence', 'Frankfort'), ('Columbia', 'Frankfort'), ('Pierre', 'Frankfort'), ('Nashville', 'Frankfort'), ('Austin', 'Frankfort'), ('Salt Lake City', 'Frankfort'), ('Montpelier', 'Frankfort'), ('Richmond', 'Frankfort'), ('Olympia', 'Frankfort'), ('Charleston', 'Frankfort'), ('Madison', 'Frankfort'), ('Cheyenne', 'Frankfort'), ('Augusta', 'Baton Rouge'), ('Annapolis', 'Baton Rouge'), ('Boston', 'Baton Rouge'), ('Lansing', 'Baton Rouge'), ('Saint Paul', 'Baton Rouge'), ('Jackson', 'Baton Rouge'), ('Jefferson City', 'Baton Rouge'), ('Helana', 'Baton Rouge'), ('Lincoln', 'Baton Rouge'), ('Carson City', 'Baton Rouge'), ('Concord', 'Baton Rouge'), ('Trenton', 'Baton Rouge'), ('Santa Fe', 'Baton Rouge'), ('Albany', 'Baton Rouge'), ('Raleigh', 'Baton Rouge'), ('Bismarck', 'Baton Rouge'), ('Columbus', 'Baton Rouge'), ('Oklahoma City', 'Baton Rouge'), ('Salem', 'Baton Rouge'), ('Harrisburg', 'Baton Rouge'), ('Providence', 'Baton Rouge'), ('Columbia', 'Baton Rouge'), ('Pierre', 'Baton Rouge'), ('Nashville', 'Baton Rouge'), ('Austin', 'Baton Rouge'), ('Salt Lake City', 'Baton Rouge'), ('Montpelier', 'Baton Rouge'), ('Richmond', 'Baton Rouge'), ('Olympia', 'Baton Rouge'), ('Charleston', 'Baton Rouge'), ('Madison', 'Baton Rouge'), ('Cheyenne', 'Baton Rouge'), ('Annapolis', 'Augusta'), ('Boston', 'Augusta'), ('Lansing', 'Augusta'), ('Saint Paul', 'Augusta'), ('Jackson', 'Augusta'), ('Jefferson City', 'Augusta'), ('Helana', 'Augusta'), ('Lincoln', 'Augusta'), ('Carson City', 'Augusta'), ('Concord', 'Augusta'), ('Trenton', 'Augusta'), ('Santa Fe', 'Augusta'), ('Albany', 'Augusta'), ('Raleigh', 'Augusta'), ('Bismarck', 'Augusta'), ('Columbus', 'Augusta'), ('Oklahoma City', 'Augusta'), ('Salem', 'Augusta'), ('Harrisburg', 'Augusta'), ('Providence', 'Augusta'), ('Columbia', 'Augusta'), ('Pierre', 'Augusta'), ('Nashville', 'Augusta'), ('Austin', 'Augusta'), ('Salt Lake City', 'Augusta'), ('Montpelier', 'Augusta'), ('Richmond', 'Augusta'), ('Olympia', 'Augusta'), ('Charleston', 'Augusta'), ('Madison', 'Augusta'), ('Cheyenne', 'Augusta'), ('Boston', 'Annapolis'), ('Lansing', 'Annapolis'), ('Saint Paul', 'Annapolis'), ('Jackson', 'Annapolis'), ('Jefferson City', 'Annapolis'), ('Helana', 'Annapolis'), ('Lincoln', 'Annapolis'), ('Carson City', 'Annapolis'), ('Concord', 'Annapolis'), ('Trenton', 'Annapolis'), ('Santa Fe', 'Annapolis'), ('Albany', 'Annapolis'), ('Raleigh', 'Annapolis'), ('Bismarck', 'Annapolis'), ('Columbus', 'Annapolis'), ('Oklahoma City', 'Annapolis'), ('Salem', 'Annapolis'), ('Harrisburg', 'Annapolis'), ('Providence', 'Annapolis'), ('Columbia', 'Annapolis'), ('Pierre', 'Annapolis'), ('Nashville', 'Annapolis'), ('Austin', 'Annapolis'), ('Salt Lake City', 'Annapolis'), ('Montpelier', 'Annapolis'), ('Richmond', 'Annapolis'), ('Olympia', 'Annapolis'), ('Charleston', 'Annapolis'), ('Madison', 'Annapolis'), ('Cheyenne', 'Annapolis'), ('Lansing', 'Boston'), ('Saint Paul', 'Boston'), ('Jackson', 'Boston'), ('Jefferson City', 'Boston'), ('Helana', 'Boston'), ('Lincoln', 'Boston'), ('Carson City', 'Boston'), ('Concord', 'Boston'), ('Trenton', 'Boston'), ('Santa Fe', 'Boston'), ('Albany', 'Boston'), ('Raleigh', 'Boston'), ('Bismarck', 'Boston'), ('Columbus', 'Boston'), ('Oklahoma City', 'Boston'), ('Salem', 'Boston'), ('Harrisburg', 'Boston'), ('Providence', 'Boston'), ('Columbia', 'Boston'), ('Pierre', 'Boston'), ('Nashville', 'Boston'), ('Austin', 'Boston'), ('Salt Lake City', 'Boston'), ('Montpelier', 'Boston'), ('Richmond', 'Boston'), ('Olympia', 'Boston'), ('Charleston', 'Boston'), ('Madison', 'Boston'), ('Cheyenne', 'Boston'), ('Saint Paul', 'Lansing'), ('Jackson', 'Lansing'), ('Jefferson City', 'Lansing'), ('Helana', 'Lansing'), ('Lincoln', 'Lansing'), ('Carson City', 'Lansing'), ('Concord', 'Lansing'), ('Trenton', 'Lansing'), ('Santa Fe', 'Lansing'), ('Albany', 'Lansing'), ('Raleigh', 'Lansing'), ('Bismarck', 'Lansing'), ('Columbus', 'Lansing'), ('Oklahoma City', 'Lansing'), ('Salem', 'Lansing'), ('Harrisburg', 'Lansing'), ('Providence', 'Lansing'), ('Columbia', 'Lansing'), ('Pierre', 'Lansing'), ('Nashville', 'Lansing'), ('Austin', 'Lansing'), ('Salt Lake City', 'Lansing'), ('Montpelier', 'Lansing'), ('Richmond', 'Lansing'), ('Olympia', 'Lansing'), ('Charleston', 'Lansing'), ('Madison', 'Lansing'), ('Cheyenne', 'Lansing'), ('Jackson', 'Saint Paul'), ('Jefferson City', 'Saint Paul'), ('Helana', 'Saint Paul'), ('Lincoln', 'Saint Paul'), ('Carson City', 'Saint Paul'), ('Concord', 'Saint Paul'), ('Trenton', 'Saint Paul'), ('Santa Fe', 'Saint Paul'), ('Albany', 'Saint Paul'), ('Raleigh', 'Saint Paul'), ('Bismarck', 'Saint Paul'), ('Columbus', 'Saint Paul'), ('Oklahoma City', 'Saint Paul'), ('Salem', 'Saint Paul'), ('Harrisburg', 'Saint Paul'), ('Providence', 'Saint Paul'), ('Columbia', 'Saint Paul'), ('Pierre', 'Saint Paul'), ('Nashville', 'Saint Paul'), ('Austin', 'Saint Paul'), ('Salt Lake City', 'Saint Paul'), ('Montpelier', 'Saint Paul'), ('Richmond', 'Saint Paul'), ('Olympia', 'Saint Paul'), ('Charleston', 'Saint Paul'), ('Madison', 'Saint Paul'), ('Cheyenne', 'Saint Paul'), ('Jefferson City', 'Jackson'), ('Helana', 'Jackson'), ('Lincoln', 'Jackson'), ('Carson City', 'Jackson'), ('Concord', 'Jackson'), ('Trenton', 'Jackson'), ('Santa Fe', 'Jackson'), ('Albany', 'Jackson'), ('Raleigh', 'Jackson'), ('Bismarck', 'Jackson'), ('Columbus', 'Jackson'), ('Oklahoma City', 'Jackson'), ('Salem', 'Jackson'), ('Harrisburg', 'Jackson'), ('Providence', 'Jackson'), ('Columbia', 'Jackson'), ('Pierre', 'Jackson'), ('Nashville', 'Jackson'), ('Austin', 'Jackson'), ('Salt Lake City', 'Jackson'), ('Montpelier', 'Jackson'), ('Richmond', 'Jackson'), ('Olympia', 'Jackson'), ('Charleston', 'Jackson'), ('Madison', 'Jackson'), ('Cheyenne', 'Jackson'), ('Helana', 'Jefferson City'), ('Lincoln', 'Jefferson City'), ('Carson City', 'Jefferson City'), ('Concord', 'Jefferson City'), ('Trenton', 'Jefferson City'), ('Santa Fe', 'Jefferson City'), ('Albany', 'Jefferson City'), ('Raleigh', 'Jefferson City'), ('Bismarck', 'Jefferson City'), ('Columbus', 'Jefferson City'), ('Oklahoma City', 'Jefferson City'), ('Salem', 'Jefferson City'), ('Harrisburg', 'Jefferson City'), ('Providence', 'Jefferson City'), ('Columbia', 'Jefferson City'), ('Pierre', 'Jefferson City'), ('Nashville', 'Jefferson City'), ('Austin', 'Jefferson City'), ('Salt Lake City', 'Jefferson City'), ('Montpelier', 'Jefferson City'), ('Richmond', 'Jefferson City'), ('Olympia', 'Jefferson City'), ('Charleston', 'Jefferson City'), ('Madison', 'Jefferson City'), ('Cheyenne', 'Jefferson City'), ('Lincoln', 'Helana'), ('Carson City', 'Helana'), ('Concord', 'Helana'), ('Trenton', 'Helana'), ('Santa Fe', 'Helana'), ('Albany', 'Helana'), ('Raleigh', 'Helana'), ('Bismarck', 'Helana'), ('Columbus', 'Helana'), ('Oklahoma City', 'Helana'), ('Salem', 'Helana'), ('Harrisburg', 'Helana'), ('Providence', 'Helana'), ('Columbia', 'Helana'), ('Pierre', 'Helana'), ('Nashville', 'Helana'), ('Austin', 'Helana'), ('Salt Lake City', 'Helana'), ('Montpelier', 'Helana'), ('Richmond', 'Helana'), ('Olympia', 'Helana'), ('Charleston', 'Helana'), ('Madison', 'Helana'), ('Cheyenne', 'Helana'), ('Carson City', 'Lincoln'), ('Concord', 'Lincoln'), ('Trenton', 'Lincoln'), ('Santa Fe', 'Lincoln'), ('Albany', 'Lincoln'), ('Raleigh', 'Lincoln'), ('Bismarck', 'Lincoln'), ('Columbus', 'Lincoln'), ('Oklahoma City', 'Lincoln'), ('Salem', 'Lincoln'), ('Harrisburg', 'Lincoln'), ('Providence', 'Lincoln'), ('Columbia', 'Lincoln'), ('Pierre', 'Lincoln'), ('Nashville', 'Lincoln'), ('Austin', 'Lincoln'), ('Salt Lake City', 'Lincoln'), ('Montpelier', 'Lincoln'), ('Richmond', 'Lincoln'), ('Olympia', 'Lincoln'), ('Charleston', 'Lincoln'), ('Madison', 'Lincoln'), ('Cheyenne', 'Lincoln'), ('Concord', 'Carson City'), ('Trenton', 'Carson City'), ('Santa Fe', 'Carson City'), ('Albany', 'Carson City'), ('Raleigh', 'Carson City'), ('Bismarck', 'Carson City'), ('Columbus', 'Carson City'), ('Oklahoma City', 'Carson City'), ('Salem', 'Carson City'), ('Harrisburg', 'Carson City'), ('Providence', 'Carson City'), ('Columbia', 'Carson City'), ('Pierre', 'Carson City'), ('Nashville', 'Carson City'), ('Austin', 'Carson City'), ('Salt Lake City', 'Carson City'), ('Montpelier', 'Carson City'), ('Richmond', 'Carson City'), ('Olympia', 'Carson City'), ('Charleston', 'Carson City'), ('Madison', 'Carson City'), ('Cheyenne', 'Carson City'), ('Trenton', 'Concord'), ('Santa Fe', 'Concord'), ('Albany', 'Concord'), ('Raleigh', 'Concord'), ('Bismarck', 'Concord'), ('Columbus', 'Concord'), ('Oklahoma City', 'Concord'), ('Salem', 'Concord'), ('Harrisburg', 'Concord'), ('Providence', 'Concord'), ('Columbia', 'Concord'), ('Pierre', 'Concord'), ('Nashville', 'Concord'), ('Austin', 'Concord'), ('Salt Lake City', 'Concord'), ('Montpelier', 'Concord'), ('Richmond', 'Concord'), ('Olympia', 'Concord'), ('Charleston', 'Concord'), ('Madison', 'Concord'), ('Cheyenne', 'Concord'), ('Santa Fe', 'Trenton'), ('Albany', 'Trenton'), ('Raleigh', 'Trenton'), ('Bismarck', 'Trenton'), ('Columbus', 'Trenton'), ('Oklahoma City', 'Trenton'), ('Salem', 'Trenton'), ('Harrisburg', 'Trenton'), ('Providence', 'Trenton'), ('Columbia', 'Trenton'), ('Pierre', 'Trenton'), ('Nashville', 'Trenton'), ('Austin', 'Trenton'), ('Salt Lake City', 'Trenton'), ('Montpelier', 'Trenton'), ('Richmond', 'Trenton'), ('Olympia', 'Trenton'), ('Charleston', 'Trenton'), ('Madison', 'Trenton'), ('Cheyenne', 'Trenton'), ('Albany', 'Santa Fe'), ('Raleigh', 'Santa Fe'), ('Bismarck', 'Santa Fe'), ('Columbus', 'Santa Fe'), ('Oklahoma City', 'Santa Fe'), ('Salem', 'Santa Fe'), ('Harrisburg', 'Santa Fe'), ('Providence', 'Santa Fe'), ('Columbia', 'Santa Fe'), ('Pierre', 'Santa Fe'), ('Nashville', 'Santa Fe'), ('Austin', 'Santa Fe'), ('Salt Lake City', 'Santa Fe'), ('Montpelier', 'Santa Fe'), ('Richmond', 'Santa Fe'), ('Olympia', 'Santa Fe'), ('Charleston', 'Santa Fe'), ('Madison', 'Santa Fe'), ('Cheyenne', 'Santa Fe'), ('Raleigh', 'Albany'), ('Bismarck', 'Albany'), ('Columbus', 'Albany'), ('Oklahoma City', 'Albany'), ('Salem', 'Albany'), ('Harrisburg', 'Albany'), ('Providence', 'Albany'), ('Columbia', 'Albany'), ('Pierre', 'Albany'), ('Nashville', 'Albany'), ('Austin', 'Albany'), ('Salt Lake City', 'Albany'), ('Montpelier', 'Albany'), ('Richmond', 'Albany'), ('Olympia', 'Albany'), ('Charleston', 'Albany'), ('Madison', 'Albany'), ('Cheyenne', 'Albany'), ('Bismarck', 'Raleigh'), ('Columbus', 'Raleigh'), ('Oklahoma City', 'Raleigh'), ('Salem', 'Raleigh'), ('Harrisburg', 'Raleigh'), ('Providence', 'Raleigh'), ('Columbia', 'Raleigh'), ('Pierre', 'Raleigh'), ('Nashville', 'Raleigh'), ('Austin', 'Raleigh'), ('Salt Lake City', 'Raleigh'), ('Montpelier', 'Raleigh'), ('Richmond', 'Raleigh'), ('Olympia', 'Raleigh'), ('Charleston', 'Raleigh'), ('Madison', 'Raleigh'), ('Cheyenne', 'Raleigh'), ('Columbus', 'Bismarck'), ('Oklahoma City', 'Bismarck'), ('Salem', 'Bismarck'), ('Harrisburg', 'Bismarck'), ('Providence', 'Bismarck'), ('Columbia', 'Bismarck'), ('Pierre', 'Bismarck'), ('Nashville', 'Bismarck'), ('Austin', 'Bismarck'), ('Salt Lake City', 'Bismarck'), ('Montpelier', 'Bismarck'), ('Richmond', 'Bismarck'), ('Olympia', 'Bismarck'), ('Charleston', 'Bismarck'), ('Madison', 'Bismarck'), ('Cheyenne', 'Bismarck'), ('Oklahoma City', 'Columbus'), ('Salem', 'Columbus'), ('Harrisburg', 'Columbus'), ('Providence', 'Columbus'), ('Columbia', 'Columbus'), ('Pierre', 'Columbus'), ('Nashville', 'Columbus'), ('Austin', 'Columbus'), ('Salt Lake City', 'Columbus'), ('Montpelier', 'Columbus'), ('Richmond', 'Columbus'), ('Olympia', 'Columbus'), ('Charleston', 'Columbus'), ('Madison', 'Columbus'), ('Cheyenne', 'Columbus'), ('Salem', 'Oklahoma City'), ('Harrisburg', 'Oklahoma City'), ('Providence', 'Oklahoma City'), ('Columbia', 'Oklahoma City'), ('Pierre', 'Oklahoma City'), ('Nashville', 'Oklahoma City'), ('Austin', 'Oklahoma City'), ('Salt Lake City', 'Oklahoma City'), ('Montpelier', 'Oklahoma City'), ('Richmond', 'Oklahoma City'), ('Olympia', 'Oklahoma City'), ('Charleston', 'Oklahoma City'), ('Madison', 'Oklahoma City'), ('Cheyenne', 'Oklahoma City'), ('Harrisburg', 'Salem'), ('Providence', 'Salem'), ('Columbia', 'Salem'), ('Pierre', 'Salem'), ('Nashville', 'Salem'), ('Austin', 'Salem'), ('Salt Lake City', 'Salem'), ('Montpelier', 'Salem'), ('Richmond', 'Salem'), ('Olympia', 'Salem'), ('Charleston', 'Salem'), ('Madison', 'Salem'), ('Cheyenne', 'Salem'), ('Providence', 'Harrisburg'), ('Columbia', 'Harrisburg'), ('Pierre', 'Harrisburg'), ('Nashville', 'Harrisburg'), ('Austin', 'Harrisburg'), ('Salt Lake City', 'Harrisburg'), ('Montpelier', 'Harrisburg'), ('Richmond', 'Harrisburg'), ('Olympia', 'Harrisburg'), ('Charleston', 'Harrisburg'), ('Madison', 'Harrisburg'), ('Cheyenne', 'Harrisburg'), ('Columbia', 'Providence'), ('Pierre', 'Providence'), ('Nashville', 'Providence'), ('Austin', 'Providence'), ('Salt Lake City', 'Providence'), ('Montpelier', 'Providence'), ('Richmond', 'Providence'), ('Olympia', 'Providence'), ('Charleston', 'Providence'), ('Madison', 'Providence'), ('Cheyenne', 'Providence'), ('Pierre', 'Columbia'), ('Nashville', 'Columbia'), ('Austin', 'Columbia'), ('Salt Lake City', 'Columbia'), ('Montpelier', 'Columbia'), ('Richmond', 'Columbia'), ('Olympia', 'Columbia'), ('Charleston', 'Columbia'), ('Madison', 'Columbia'), ('Cheyenne', 'Columbia'), ('Nashville', 'Pierre'), ('Austin', 'Pierre'), ('Salt Lake City', 'Pierre'), ('Montpelier', 'Pierre'), ('Richmond', 'Pierre'), ('Olympia', 'Pierre'), ('Charleston', 'Pierre'), ('Madison', 'Pierre'), ('Cheyenne', 'Pierre'), ('Austin', 'Nashville'), ('Salt Lake City', 'Nashville'), ('Montpelier', 'Nashville'), ('Richmond', 'Nashville'), ('Olympia', 'Nashville'), ('Charleston', 'Nashville'), ('Madison', 'Nashville'), ('Cheyenne', 'Nashville'), ('Salt Lake City', 'Austin'), ('Montpelier', 'Austin'), ('Richmond', 'Austin'), ('Olympia', 'Austin'), ('Charleston', 'Austin'), ('Madison', 'Austin'), ('Cheyenne', 'Austin'), ('Montpelier', 'Salt Lake City'), ('Richmond', 'Salt Lake City'), ('Olympia', 'Salt Lake City'), ('Charleston', 'Salt Lake City'), ('Madison', 'Salt Lake City'), ('Cheyenne', 'Salt Lake City'), ('Richmond', 'Montpelier'), ('Olympia', 'Montpelier'), ('Charleston', 'Montpelier'), ('Madison', 'Montpelier'), ('Cheyenne', 'Montpelier'), ('Olympia', 'Richmond'), ('Charleston', 'Richmond'), ('Madison', 'Richmond'), ('Cheyenne', 'Richmond'), ('Charleston', 'Olympia'), ('Madison', 'Olympia'), ('Cheyenne', 'Olympia'), ('Madison', 'Charleston'), ('Cheyenne', 'Charleston'), ('Cheyenne', 'Madison')]\n"
     ]
    },
    {
     "ename": "AttributeError",
     "evalue": "'list' object has no attribute 'select'",
     "output_type": "error",
     "traceback": [
      "\u001b[0;31m---------------------------------------------------------------------------\u001b[0m",
      "\u001b[0;31mAttributeError\u001b[0m                            Traceback (most recent call last)",
      "\u001b[0;32m/tmp/ipykernel_69121/2964501863.py\u001b[0m in \u001b[0;36m<module>\u001b[0;34m\u001b[0m\n\u001b[1;32m     17\u001b[0m \u001b[0mprint\u001b[0m\u001b[0;34m(\u001b[0m\u001b[0medges\u001b[0m\u001b[0;34m)\u001b[0m\u001b[0;34m\u001b[0m\u001b[0;34m\u001b[0m\u001b[0m\n\u001b[1;32m     18\u001b[0m \u001b[0;34m\u001b[0m\u001b[0m\n\u001b[0;32m---> 19\u001b[0;31m \u001b[0mtour\u001b[0m \u001b[0;34m=\u001b[0m \u001b[0msubtour\u001b[0m\u001b[0;34m(\u001b[0m\u001b[0medges\u001b[0m\u001b[0;34m)\u001b[0m\u001b[0;34m\u001b[0m\u001b[0;34m\u001b[0m\u001b[0m\n\u001b[0m\u001b[1;32m     20\u001b[0m \u001b[0mprint\u001b[0m\u001b[0;34m(\u001b[0m\u001b[0mlen\u001b[0m\u001b[0;34m(\u001b[0m\u001b[0mtour\u001b[0m\u001b[0;34m)\u001b[0m\u001b[0;34m)\u001b[0m\u001b[0;34m\u001b[0m\u001b[0;34m\u001b[0m\u001b[0m\n\u001b[1;32m     21\u001b[0m \u001b[0;34m\u001b[0m\u001b[0m\n",
      "\u001b[0;32m/tmp/ipykernel_69121/149943499.py\u001b[0m in \u001b[0;36msubtour\u001b[0;34m(edges)\u001b[0m\n\u001b[1;32m     10\u001b[0m             \u001b[0mthiscycle\u001b[0m\u001b[0;34m.\u001b[0m\u001b[0mappend\u001b[0m\u001b[0;34m(\u001b[0m\u001b[0mcurrent\u001b[0m\u001b[0;34m)\u001b[0m\u001b[0;34m\u001b[0m\u001b[0;34m\u001b[0m\u001b[0m\n\u001b[1;32m     11\u001b[0m             \u001b[0munvisited\u001b[0m\u001b[0;34m.\u001b[0m\u001b[0mremove\u001b[0m\u001b[0;34m(\u001b[0m\u001b[0mcurrent\u001b[0m\u001b[0;34m)\u001b[0m\u001b[0;34m\u001b[0m\u001b[0;34m\u001b[0m\u001b[0m\n\u001b[0;32m---> 12\u001b[0;31m             \u001b[0mneighbors\u001b[0m \u001b[0;34m=\u001b[0m \u001b[0;34m[\u001b[0m\u001b[0mj\u001b[0m \u001b[0;32mfor\u001b[0m \u001b[0mi\u001b[0m\u001b[0;34m,\u001b[0m \u001b[0mj\u001b[0m \u001b[0;32min\u001b[0m \u001b[0medges\u001b[0m\u001b[0;34m.\u001b[0m\u001b[0mselect\u001b[0m\u001b[0;34m(\u001b[0m\u001b[0mcurrent\u001b[0m\u001b[0;34m,\u001b[0m \u001b[0;34m'*'\u001b[0m\u001b[0;34m)\u001b[0m \u001b[0;32mif\u001b[0m \u001b[0mj\u001b[0m \u001b[0;32min\u001b[0m \u001b[0munvisited\u001b[0m\u001b[0;34m]\u001b[0m\u001b[0;34m\u001b[0m\u001b[0;34m\u001b[0m\u001b[0m\n\u001b[0m\u001b[1;32m     13\u001b[0m         \u001b[0;32mif\u001b[0m \u001b[0mlen\u001b[0m\u001b[0;34m(\u001b[0m\u001b[0mthiscycle\u001b[0m\u001b[0;34m)\u001b[0m \u001b[0;34m<=\u001b[0m \u001b[0mlen\u001b[0m\u001b[0;34m(\u001b[0m\u001b[0mcycle\u001b[0m\u001b[0;34m)\u001b[0m\u001b[0;34m:\u001b[0m\u001b[0;34m\u001b[0m\u001b[0;34m\u001b[0m\u001b[0m\n\u001b[1;32m     14\u001b[0m             \u001b[0mcycle\u001b[0m \u001b[0;34m=\u001b[0m \u001b[0mthiscycle\u001b[0m \u001b[0;31m# New shortest subtour\u001b[0m\u001b[0;34m\u001b[0m\u001b[0;34m\u001b[0m\u001b[0m\n",
      "\u001b[0;31mAttributeError\u001b[0m: 'list' object has no attribute 'select'"
     ]
    }
   ],
   "source": [
    "model = gp.Model()\n",
    "\n",
    "# Variables: is city 'i' adjacent to city 'j' on the tour?\n",
    "vars = model.addVars(dist.keys(), obj=dist, vtype=gp.GRB.BINARY, name='x')\n",
    "\n",
    "# Symmetric direction: Copy the object\n",
    "for i, j in vars.keys():\n",
    "    vars[j,i] = vars[i,j]  # edge in opposite direction\n",
    "\n",
    "# Constraints: two edges incident to each city\n",
    "cons = model.addConstrs(vars.sum(e, '*') == 2 for e in capitals)\n",
    "\n",
    "edges = []\n",
    "for (i,j) in vars:\n",
    "    edges.append((i,j))\n",
    "\n",
    "print(edges)\n",
    "    \n",
    "tour = subtour(edges)\n",
    "\n",
    "print(len(tour))\n",
    "\n",
    "#if len(tour) < len(capitals):\n",
    "#    # add subtour elimination constr. for every pair of cities in subtour\n",
    "#    model.addConstrs(gp.quicksum(vars[i,j] for i, j in combinations(tour, 2)) <= len(tour)-1)"
   ]
  },
  {
   "cell_type": "markdown",
   "metadata": {},
   "source": [
    "## Conclusions\n",
    "\n",
    "The Traveling Salesman Problem (TSP) is the most popular combinatorial optimization problem. \n",
    "\n",
    "This problem is very easy to explain, although it is very complicated to solve. \n",
    "\n",
    "The largest TSP problem solved has 85,900 cities. \n",
    "\n",
    "The TSP is a source of discovery for new approaches to solve complex combinatorial optimization problems and has led to many applications.\n",
    "\n",
    "In this modeling example, we have shown how to formulate the symmetric Traveling Salesman Problem as a MIP problem. \n",
    "\n",
    "We also showed how to dynamically eliminate subtours by using lazy constraints. "
   ]
  },
  {
   "cell_type": "markdown",
   "metadata": {},
   "source": [
    "## References\n",
    "\n",
    "[1] D. L. Applegate, R. E. Bixby, V. Chvatal and W. J. Cook , The Traveling Salesman Problem: A Computational Study, Princeton University Press, Princeton, 2006.\n",
    "\n",
    "[2] http://www.math.uwaterloo.ca/tsp/index.html\n",
    "\n",
    "[3] https://www.youtube.com/watch?v=q8nQTNvCrjE&t=35s\n",
    "\n",
    "[4] http://www.math.uwaterloo.ca/tsp/concorde.html\n",
    "\n",
    "[5] https://github.com/Gurobi/modeling-examples/tree/master/traveling_salesman"
   ]
  },
  {
   "cell_type": "markdown",
   "metadata": {},
   "source": []
  }
 ],
 "metadata": {
  "kernelspec": {
   "display_name": "Python 3",
   "language": "python",
   "name": "python3"
  },
  "language_info": {
   "codemirror_mode": {
    "name": "ipython",
    "version": 3
   },
   "file_extension": ".py",
   "mimetype": "text/x-python",
   "name": "python",
   "nbconvert_exporter": "python",
   "pygments_lexer": "ipython3",
   "version": "3.10.12"
  }
 },
 "nbformat": 4,
 "nbformat_minor": 2
}
