{
 "cells": [
  {
   "cell_type": "markdown",
   "metadata": {},
   "source": [
    "## The Traveling Salesman Problem (TSP)"
   ]
  },
  {
   "cell_type": "markdown",
   "metadata": {},
   "source": [
    "### Problem\n",
    "\n",
    "The TSP can be defined as follows: for a given list of cities and the distances between each pair of them, we want to find the shortest possible route that goes to each city once and returns to the origin city.\n",
    "\n",
    "There is a class of Traveling Salesman Problems that assumes that the distance of going from city $i$ to city $j$  is the same as going form city $j$ to city $i$, this type of Traveling Salesman Problem  is also known as the symmetric Traveling Salesman Problem. \n",
    "In this example, we use Euclidean distances, but the TSP model formulation is valid independent of the way in which the individual distances are determined."
   ]
  },
  {
   "cell_type": "markdown",
   "metadata": {},
   "source": [
    "### Solution Approach\n",
    "\n",
    "Mathematical programming is a declarative approach where the modeler formulates a mathematical optimization model that captures the key aspects of a complex decision problem. \n",
    "The Gurobi Optimizer solves such models using state-of-the-art mathematics and computer science.\n",
    "\n",
    "A mathematical optimization model has five components, namely:\n",
    "\n",
    "* Sets.\n",
    "* Parameters.\n",
    "* Decision variables.\n",
    "* Objective function(s).\n",
    "* Constraints.\n",
    "\n",
    "We now present a MIP formulation of the TSP that identifies the shortest route that goes to all the cities once and returns to the origin city."
   ]
  },
  {
   "cell_type": "markdown",
   "metadata": {},
   "source": [
    "### Sets\n",
    "\n",
    "$N = \\{1,2,\\ldots,n \\}$: set onf cities\n",
    "\n",
    "$\\text{E}= \\{(i,j) \\in N \\times N \\}$: set of allowed pairings\n",
    "\n",
    "$S \\subset N$: a subset of the set cities.\n",
    "\n",
    "$G = (N, E)$: a graph where the set $N$ defines the set of nodes and the set $E$ defines the set of edges. \n",
    "\n",
    "### Parameters \n",
    "\n",
    "$c_{i, j} \\in \\mathbb{R}_+$: distance from city $i$ to city $j$, for all $(i, j) \\in E$. \n",
    "\n",
    "The distance from city $i$ to city $j$ is the same as the distance from city $j$ to city $i$, i.e. $c_{i,j} = c_{j,i}$. For this reason, this TSP is also called the symmetric Traveling Salesman Problem.\n",
    "\n",
    "###  Decision variables\n",
    "\n",
    "$x_{i, j} \\in \\{0, 1\\}$: this variable is equal to 1, if we decide to connect city $i$ with city $j$. Otherwise, the decision variable is equal to zero.\n",
    "\n",
    "### Objective function\n",
    "\n",
    "- **Shortest Route**: \n",
    "Minimize the total distance of a route. \n",
    "A route is a sequence of cities where the salesperson visits each city only once and returns to the starting capital city.\n",
    "\n",
    "\\begin{equation}\n",
    "\\text{min} \\quad z = \\sum_{(i,j) \\in \\text{E}} c_{i,j} \\cdot x_{i,j}\n",
    "\\tag{0}\n",
    "\\end{equation}\n",
    "\n",
    "### Constraints \n",
    "\n",
    "- **Symmetry constraints**:\n",
    "For each edge $(i,j)$, ensure that the city $i$ and $j$ are connected, if the former is visited immediately before or after visiting the latter.\n",
    "\n",
    "\\begin{equation}\n",
    "x_{i, j} = x_{j, i} \\quad \\forall (i, j) \\in E\n",
    "\\tag{1}\n",
    "\\end{equation}\n",
    "\n",
    "- **Entering and leaving a city**:\n",
    "For each city $i$, ensure that this city is connected to two other cities. \n",
    "\n",
    "\\begin{equation}\n",
    "\\sum_{(i,j) \\in \\text{E}} x_{i,j} = 2, \\quad \\forall i \\in N\n",
    "\\tag{2}\n",
    "\\end{equation}\n",
    "\n",
    "- **Subtour elimination**:\n",
    "These constraints ensure that for any subset of cities $S$ of the set of $N$, there is no cycle. \n",
    "That is, there is no route that visits all the cities in the subset and returns to the origin city.\n",
    "\n",
    "\\begin{equation}\n",
    "\\sum_{(i \\neq j) \\in S} x_{i,j} \\leq |S|-1, \\quad \\forall S \\subset N, \\quad S \\not= \\emptyset\n",
    "\\tag{3}\n",
    "\\end{equation}\n",
    "\n",
    "- **Remark**: \n",
    "In general, if the number of cities of the TSP is $n$, then the possible number of routes is n\\!.\n",
    "Since there are an exponential number of constraints ($2^{n} - 2$) to eliminate cycles, we use lazy constraints to dynamically eliminate those cycles. "
   ]
  },
  {
   "cell_type": "markdown",
   "metadata": {},
   "source": [
    "### Lazy Constraints\n",
    "\n",
    "The basic idea of **Lazy Constraints** is to initially formulate the problem only with the most essential constraints, omitting those that are only rarely violated. \n",
    "\n",
    "These other constraints are checked and added one-by-one to the model only if the current solution violates any of them. \n",
    "\n",
    "In other words, some constraints are generated in a lazy fashion, i.e. the constraint is added to the model only if the solution violates it.\n",
    "\n",
    "Lazy constraints have to be enabled by setting model parameter ```lazyConstraints``` to 1.\n",
    "\n",
    "```\n",
    "model = gp.Model()\n",
    "model.Params.lazyConstraints = 1\n",
    "```\n",
    "\n",
    "To define a callback, create a function that accepts two arguments: ```model``` and ```where```. \n",
    "Thecallback is then passed to model when calling ```optimize()```.\n",
    "\n",
    "```\n",
    "def my_callback(model, where):\n",
    "    # Callback is called when some event occur. The type of event is\n",
    "    # distinguished using argument ’’where’’.\n",
    "    # In this case, we want to perform something when an integer\n",
    "    # solution is found, which corresponds to ’’GRB.Callback.MIPSOL’’.\n",
    "    if where == GRB.Callback.MIPSOL:\n",
    "        # TODO : your code here ...\n",
    "        # Get the value of variable x[i,j] from the solution .\n",
    "        # You may also pass a list of variables to the method .\n",
    "        value = model.cbGetSolution(x[i,j])\n",
    "        # Add lazy constraint to model.\n",
    "        model.cbLazy(...)\n",
    "        \n",
    "model.optimize(my_callback)\n",
    "```"
   ]
  },
  {
   "cell_type": "markdown",
   "metadata": {},
   "source": [
    "### Problem\n",
    "\n",
    "Consider a salesperson that needs to visit customers at each state capital of the continental US. \n",
    "\n",
    "The salesperson wants to identify the shortest route that goes to all the state capitals."
   ]
  },
  {
   "cell_type": "markdown",
   "metadata": {},
   "source": [
    "### Data\n",
    "\n",
    "The capital names and coordinates are read from a json file.\n",
    "\n",
    "JSON: stands for JavaScript Object Notation, is a text format for storing and transporting data, is \"self-describing\" and easy to understand."
   ]
  },
  {
   "cell_type": "code",
   "execution_count": 31,
   "metadata": {},
   "outputs": [],
   "source": [
    "# library to create maps\n",
    "import json\n",
    "\n",
    "# Read capital names and coordinates from json file\n",
    "capitals_json = json.load(open('instances/capitals.json'))\n",
    "capitals = []\n",
    "coordinates = {}\n",
    "for state in capitals_json:\n",
    "    if state not in ['AK', 'HI']:\n",
    "      capital = capitals_json[state]['capital']\n",
    "      capitals.append(capital)\n",
    "      coordinates[capital] = (float(capitals_json[state]['lat']), float(capitals_json[state]['long']))"
   ]
  },
  {
   "cell_type": "markdown",
   "metadata": {},
   "source": [
    "### Data computation\n",
    "\n",
    "The following function calculates the distance for each pair of state capitals. \n",
    "\n",
    "Since we are solving the _symmetric_ traveling salesman problem, we use _combinations_ of cities."
   ]
  },
  {
   "cell_type": "code",
   "execution_count": 32,
   "metadata": {},
   "outputs": [],
   "source": [
    "import math\n",
    "from itertools import combinations\n",
    "\n",
    "# Compute pairwise distance matrix\n",
    "\n",
    "def distance(x, y):\n",
    "    c1 = coordinates[x]\n",
    "    c2 = coordinates[y]\n",
    "    diff = (c1[0]-c2[0], c1[1]-c2[1])\n",
    "    \n",
    "    return math.sqrt(diff[0]*diff[0]+diff[1]*diff[1])\n",
    "\n",
    "dist = {(c1, c2): distance(c1, c2) for c1, c2 in combinations(capitals, 2)}"
   ]
  },
  {
   "cell_type": "markdown",
   "metadata": {},
   "source": [
    "### Model\n",
    "\n",
    "We now write the model for the TSP, by defining decision variables, constraints, and objective function. \n",
    "\n",
    "Because this is the _symmetric_ traveling salesman problem, we can make it more efficient by setting the _object_ x[j,i] to x[i,j], instead of a constraint."
   ]
  },
  {
   "cell_type": "code",
   "execution_count": 33,
   "metadata": {},
   "outputs": [],
   "source": [
    "import gurobipy as gp\n",
    "\n",
    "model = gp.Model()\n",
    "\n",
    "# Variables: is city 'i' adjacent to city 'j' on the tour?\n",
    "vars = model.addVars(dist.keys(), obj=dist, vtype=gp.GRB.BINARY, name='x')\n",
    "\n",
    "# Symmetric direction: Copy the object\n",
    "for i, j in vars.keys():\n",
    "    vars[j,i] = vars[i,j]  # edge in opposite direction\n",
    "\n",
    "# Constraints: two edges incident to each city\n",
    "cons = model.addConstrs(vars.sum(e, '*') == 2 for e in capitals)"
   ]
  },
  {
   "cell_type": "markdown",
   "metadata": {},
   "source": [
    "### Callback Definition\n",
    "\n",
    "Subtour constraints prevent multiple loops in a TSP tour. \n",
    "\n",
    "Because there are an exponential number of these constraints, we don't want to add them all to the model. \n",
    "\n",
    "Instead, we use a callback function to find violated subtour constraints and add them to the model as lazy constraints."
   ]
  },
  {
   "cell_type": "code",
   "execution_count": 34,
   "metadata": {},
   "outputs": [],
   "source": [
    "# Given a tuplelist of edges, find the shortest subtour\n",
    "def subtour(edges):\n",
    "    unvisited = capitals[:]\n",
    "    cycle = capitals[:] # Dummy - guaranteed to be replaced\n",
    "    while unvisited:  # true if list is non-empty\n",
    "        thiscycle = []\n",
    "        neighbors = unvisited\n",
    "        while neighbors:\n",
    "            current = neighbors[0]\n",
    "            thiscycle.append(current)\n",
    "            unvisited.remove(current)\n",
    "            neighbors = [j for i, j in edges.select(current, '*') if j in unvisited]\n",
    "        if len(thiscycle) <= len(cycle):\n",
    "            cycle = thiscycle # New shortest subtour\n",
    "            \n",
    "    return cycle"
   ]
  },
  {
   "cell_type": "code",
   "execution_count": 35,
   "metadata": {},
   "outputs": [],
   "source": [
    "# Callback - use lazy constraints to eliminate sub-tours\n",
    "def subtourelim(model, where):\n",
    "    if where == gp.GRB.Callback.MIPSOL:\n",
    "        # make a list of edges selected in the solution\n",
    "        vals = model.cbGetSolution(model._vars)\n",
    "        selected = gp.tuplelist((i, j) for i, j in model._vars.keys() if vals[i, j] > 0.5)\n",
    "        # find the shortest cycle in the selected edge list\n",
    "        tour = subtour(selected)\n",
    "        if len(tour) < len(capitals):\n",
    "            # add subtour elimination constr. for every pair of cities in subtour\n",
    "            model.cbLazy(gp.quicksum(model._vars[i, j] for i, j in combinations(tour, 2)) <= len(tour)-1)"
   ]
  },
  {
   "cell_type": "markdown",
   "metadata": {},
   "source": [
    "### Solve the model"
   ]
  },
  {
   "cell_type": "code",
   "execution_count": 36,
   "metadata": {},
   "outputs": [
    {
     "name": "stdout",
     "output_type": "stream",
     "text": [
      "Set parameter LazyConstraints to value 1\n",
      "Gurobi Optimizer version 10.0.0 build v10.0.0rc2 (linux64)\n",
      "\n",
      "CPU model: Intel(R) Core(TM) i5-1035G1 CPU @ 1.00GHz, instruction set [SSE2|AVX|AVX2|AVX512]\n",
      "Thread count: 4 physical cores, 8 logical processors, using up to 8 threads\n",
      "\n",
      "Optimize a model with 48 rows, 1128 columns and 2256 nonzeros\n",
      "Model fingerprint: 0x63641a38\n",
      "Variable types: 0 continuous, 1128 integer (1128 binary)\n",
      "Coefficient statistics:\n",
      "  Matrix range     [1e+00, 1e+00]\n",
      "  Objective range  [6e-01, 5e+01]\n",
      "  Bounds range     [1e+00, 1e+00]\n",
      "  RHS range        [2e+00, 2e+00]\n",
      "Presolve time: 0.01s\n",
      "Presolved: 48 rows, 1128 columns, 2256 nonzeros\n",
      "Variable types: 0 continuous, 1128 integer (1128 binary)\n",
      "\n",
      "Root relaxation: objective 1.611858e+02, 72 iterations, 0.00 seconds (0.00 work units)\n",
      "\n",
      "    Nodes    |    Current Node    |     Objective Bounds      |     Work\n",
      " Expl Unexpl |  Obj  Depth IntInf | Incumbent    BestBd   Gap | It/Node Time\n",
      "\n",
      "     0     0  161.18576    0   12          -  161.18576      -     -    0s\n",
      "     0     0  163.11017    0   18          -  163.11017      -     -    0s\n",
      "     0     0  164.15548    0   16          -  164.15548      -     -    0s\n",
      "     0     0  164.98159    0    8          -  164.98159      -     -    0s\n",
      "     0     0  165.13384    0   27          -  165.13384      -     -    0s\n",
      "     0     2  165.30532    0   29          -  165.30532      -     -    0s\n",
      "*  487   235              13     181.4109669  167.81559  7.49%   4.9    0s\n",
      "*  491   223               9     180.5905980  167.81559  7.07%   5.0    0s\n",
      "*  497   205              14     179.6413727  167.81559  6.58%   5.4    0s\n",
      "*  499   199               7     176.0320261  167.81559  4.67%   5.5    0s\n",
      "*  600    79               6     175.4490370  169.17219  3.58%   6.7    0s\n",
      "\n",
      "Cutting planes:\n",
      "  Zero half: 10\n",
      "  Lazy constraints: 49\n",
      "\n",
      "Explored 786 nodes (5760 simplex iterations) in 0.44 seconds (0.12 work units)\n",
      "Thread count was 8 (of 8 available processors)\n",
      "\n",
      "Solution count 5: 175.449 176.032 179.641 ... 181.411\n",
      "\n",
      "Optimal solution found (tolerance 1.00e-04)\n",
      "Best objective 1.754490370198e+02, best bound 1.754490370198e+02, gap 0.0000%\n",
      "\n",
      "User-callback calls 1884, time in user-callback 0.12 sec\n"
     ]
    }
   ],
   "source": [
    "model._vars = vars\n",
    "model.Params.lazyConstraints = 1\n",
    "model.optimize(subtourelim)"
   ]
  },
  {
   "cell_type": "markdown",
   "metadata": {},
   "source": [
    "### Analysis\n",
    "\n",
    "We retrieve the optimal solution of the TSP and verify that the optimal route (or tour) goes to all the cities and returns to the origin city."
   ]
  },
  {
   "cell_type": "code",
   "execution_count": 37,
   "metadata": {},
   "outputs": [],
   "source": [
    "# Retrieve solution\n",
    "\n",
    "vals = model.getAttr('x', vars)\n",
    "selected = gp.tuplelist((i, j) for i, j in vals.keys() if vals[i, j] > 0.5)\n",
    "\n",
    "tour = subtour(selected)\n",
    "assert len(tour) == len(capitals)"
   ]
  },
  {
   "cell_type": "markdown",
   "metadata": {},
   "source": [
    "The optimal route is displayed in the following map."
   ]
  },
  {
   "cell_type": "code",
   "execution_count": 38,
   "metadata": {},
   "outputs": [
    {
     "data": {
      "text/html": [
       "<div style=\"width:100%;\"><div style=\"position:relative;width:100%;height:0;padding-bottom:60%;\"><span style=\"color:#565656\">Make this Notebook Trusted to load map: File -> Trust Notebook</span><iframe srcdoc=\"&lt;!DOCTYPE html&gt;\n",
       "&lt;html&gt;\n",
       "&lt;head&gt;\n",
       "    \n",
       "    &lt;meta http-equiv=&quot;content-type&quot; content=&quot;text/html; charset=UTF-8&quot; /&gt;\n",
       "    \n",
       "        &lt;script&gt;\n",
       "            L_NO_TOUCH = false;\n",
       "            L_DISABLE_3D = false;\n",
       "        &lt;/script&gt;\n",
       "    \n",
       "    &lt;style&gt;html, body {width: 100%;height: 100%;margin: 0;padding: 0;}&lt;/style&gt;\n",
       "    &lt;style&gt;#map {position:absolute;top:0;bottom:0;right:0;left:0;}&lt;/style&gt;\n",
       "    &lt;script src=&quot;https://cdn.jsdelivr.net/npm/leaflet@1.9.3/dist/leaflet.js&quot;&gt;&lt;/script&gt;\n",
       "    &lt;script src=&quot;https://code.jquery.com/jquery-3.7.1.min.js&quot;&gt;&lt;/script&gt;\n",
       "    &lt;script src=&quot;https://cdn.jsdelivr.net/npm/bootstrap@5.2.2/dist/js/bootstrap.bundle.min.js&quot;&gt;&lt;/script&gt;\n",
       "    &lt;script src=&quot;https://cdnjs.cloudflare.com/ajax/libs/Leaflet.awesome-markers/2.0.2/leaflet.awesome-markers.js&quot;&gt;&lt;/script&gt;\n",
       "    &lt;link rel=&quot;stylesheet&quot; href=&quot;https://cdn.jsdelivr.net/npm/leaflet@1.9.3/dist/leaflet.css&quot;/&gt;\n",
       "    &lt;link rel=&quot;stylesheet&quot; href=&quot;https://cdn.jsdelivr.net/npm/bootstrap@5.2.2/dist/css/bootstrap.min.css&quot;/&gt;\n",
       "    &lt;link rel=&quot;stylesheet&quot; href=&quot;https://netdna.bootstrapcdn.com/bootstrap/3.0.0/css/bootstrap-glyphicons.css&quot;/&gt;\n",
       "    &lt;link rel=&quot;stylesheet&quot; href=&quot;https://cdn.jsdelivr.net/npm/@fortawesome/fontawesome-free@6.2.0/css/all.min.css&quot;/&gt;\n",
       "    &lt;link rel=&quot;stylesheet&quot; href=&quot;https://cdnjs.cloudflare.com/ajax/libs/Leaflet.awesome-markers/2.0.2/leaflet.awesome-markers.css&quot;/&gt;\n",
       "    &lt;link rel=&quot;stylesheet&quot; href=&quot;https://cdn.jsdelivr.net/gh/python-visualization/folium/folium/templates/leaflet.awesome.rotate.min.css&quot;/&gt;\n",
       "    \n",
       "            &lt;meta name=&quot;viewport&quot; content=&quot;width=device-width,\n",
       "                initial-scale=1.0, maximum-scale=1.0, user-scalable=no&quot; /&gt;\n",
       "            &lt;style&gt;\n",
       "                #map_f522019f142775f09b1e5d5b6fa2043f {\n",
       "                    position: relative;\n",
       "                    width: 100.0%;\n",
       "                    height: 100.0%;\n",
       "                    left: 0.0%;\n",
       "                    top: 0.0%;\n",
       "                }\n",
       "                .leaflet-container { font-size: 1rem; }\n",
       "            &lt;/style&gt;\n",
       "        \n",
       "&lt;/head&gt;\n",
       "&lt;body&gt;\n",
       "    \n",
       "    \n",
       "            &lt;div class=&quot;folium-map&quot; id=&quot;map_f522019f142775f09b1e5d5b6fa2043f&quot; &gt;&lt;/div&gt;\n",
       "        \n",
       "&lt;/body&gt;\n",
       "&lt;script&gt;\n",
       "    \n",
       "    \n",
       "            var map_f522019f142775f09b1e5d5b6fa2043f = L.map(\n",
       "                &quot;map_f522019f142775f09b1e5d5b6fa2043f&quot;,\n",
       "                {\n",
       "                    center: [40.0, -95.0],\n",
       "                    crs: L.CRS.EPSG3857,\n",
       "                    zoom: 4,\n",
       "                    zoomControl: true,\n",
       "                    preferCanvas: false,\n",
       "                }\n",
       "            );\n",
       "\n",
       "            \n",
       "\n",
       "        \n",
       "    \n",
       "            var tile_layer_45cfeeadbf6373e86608699dc98bbbbb = L.tileLayer(\n",
       "                &quot;https://tile.openstreetmap.org/{z}/{x}/{y}.png&quot;,\n",
       "                {&quot;attribution&quot;: &quot;\\u0026copy; \\u003ca href=\\&quot;https://www.openstreetmap.org/copyright\\&quot;\\u003eOpenStreetMap\\u003c/a\\u003e contributors&quot;, &quot;detectRetina&quot;: false, &quot;maxNativeZoom&quot;: 19, &quot;maxZoom&quot;: 19, &quot;minZoom&quot;: 0, &quot;noWrap&quot;: false, &quot;opacity&quot;: 1, &quot;subdomains&quot;: &quot;abc&quot;, &quot;tms&quot;: false}\n",
       "            );\n",
       "        \n",
       "    \n",
       "            tile_layer_45cfeeadbf6373e86608699dc98bbbbb.addTo(map_f522019f142775f09b1e5d5b6fa2043f);\n",
       "        \n",
       "    \n",
       "            var poly_line_b3a96c30685e8d18b635d242a45eba32 = L.polyline(\n",
       "                [[32.361538, -86.279118], [30.4518, -84.27277], [33.76, -84.39], [34.0, -81.035], [35.771, -78.638], [37.54, -77.46], [38.972945, -76.501157], [39.161921, -75.526755], [40.221741, -74.756138], [41.767, -72.677], [41.82355, -71.422132], [42.2352, -71.0275], [44.323535, -69.765261], [43.220093, -71.549127], [44.26639, -72.57194], [42.659829, -73.781339], [40.269789, -76.875613], [38.349497, -81.633294], [39.962245, -83.000647], [42.7335, -84.5467], [43.074722, -89.384444], [44.95, -93.094], [41.590939, -93.620866], [39.04, -95.69], [40.809868, -96.675345], [44.367966, -100.336378], [46.813343, -100.779004], [41.145548, -104.802042], [39.7391667, -104.984167], [40.7547, -111.892622], [46.595805, -112.027031], [43.613739, -116.237651], [47.042418, -122.893077], [44.931109, -123.029159], [38.555605, -121.468926], [39.160949, -119.753877], [33.448457, -112.073844], [35.667231, -105.964575], [35.482309, -97.534994], [30.266667, -97.75], [30.45809, -91.140229], [32.32, -90.207], [34.736009, -92.331122], [38.572954, -92.189283], [39.78325, -89.650373], [39.790942, -86.147685], [38.197274, -84.86311], [36.165, -86.784], [32.361538, -86.279118]],\n",
       "                {&quot;bubblingMouseEvents&quot;: true, &quot;color&quot;: &quot;#3388ff&quot;, &quot;dashArray&quot;: null, &quot;dashOffset&quot;: null, &quot;fill&quot;: false, &quot;fillColor&quot;: &quot;#3388ff&quot;, &quot;fillOpacity&quot;: 0.2, &quot;fillRule&quot;: &quot;evenodd&quot;, &quot;lineCap&quot;: &quot;round&quot;, &quot;lineJoin&quot;: &quot;round&quot;, &quot;noClip&quot;: false, &quot;opacity&quot;: 1.0, &quot;smoothFactor&quot;: 1.0, &quot;stroke&quot;: true, &quot;weight&quot;: 3}\n",
       "            ).addTo(map_f522019f142775f09b1e5d5b6fa2043f);\n",
       "        \n",
       "&lt;/script&gt;\n",
       "&lt;/html&gt;\" style=\"position:absolute;width:100%;height:100%;left:0;top:0;border:none !important;\" allowfullscreen webkitallowfullscreen mozallowfullscreen></iframe></div></div>"
      ],
      "text/plain": [
       "<folium.folium.Map at 0x7fc734388c10>"
      ]
     },
     "execution_count": 38,
     "metadata": {},
     "output_type": "execute_result"
    }
   ],
   "source": [
    "# Map the solution\n",
    "\n",
    "# library to create maps\n",
    "import folium\n",
    "\n",
    "map = folium.Map(location=[40,-95], zoom_start = 4)\n",
    "\n",
    "points = []\n",
    "for city in tour:\n",
    "  points.append(coordinates[city])\n",
    "points.append(points[0])\n",
    "\n",
    "folium.PolyLine(points).add_to(map)\n",
    "\n",
    "map"
   ]
  },
  {
   "cell_type": "markdown",
   "metadata": {},
   "source": [
    "### Conclusions\n",
    "\n",
    "The Traveling Salesman Problem (TSP) is the most popular combinatorial optimization problem. \n",
    "\n",
    "This problem is very easy to explain, although it is very complicated to solve. \n",
    "\n",
    "The largest TSP problem solved has 85,900 cities. \n",
    "\n",
    "The TSP is a source of discovery for new approaches to solve complex combinatorial optimization problems and has led to many applications.\n",
    "\n",
    "In this modeling example, we have shown how to formulate the symmetric Traveling Salesman Problem as a MIP problem. \n",
    "\n",
    "We also showed how to dynamically eliminate subtours by using lazy constraints. "
   ]
  },
  {
   "cell_type": "markdown",
   "metadata": {},
   "source": [
    "### References\n",
    "\n",
    "[1] D. L. Applegate, R. E. Bixby, V. Chvatal and W. J. Cook , The Traveling Salesman Problem: A Computational Study, Princeton University Press, Princeton, 2006.\n",
    "\n",
    "[2] http://www.math.uwaterloo.ca/tsp/index.html\n",
    "\n",
    "[3] https://www.youtube.com/watch?v=q8nQTNvCrjE&t=35s\n",
    "\n",
    "[4] http://www.math.uwaterloo.ca/tsp/concorde.html\n",
    "\n",
    "[5] https://github.com/Gurobi/modeling-examples/tree/master/traveling_salesman"
   ]
  }
 ],
 "metadata": {
  "kernelspec": {
   "display_name": "Python 3",
   "language": "python",
   "name": "python3"
  },
  "language_info": {
   "codemirror_mode": {
    "name": "ipython",
    "version": 3
   },
   "file_extension": ".py",
   "mimetype": "text/x-python",
   "name": "python",
   "nbconvert_exporter": "python",
   "pygments_lexer": "ipython3",
   "version": "3.10.12"
  }
 },
 "nbformat": 4,
 "nbformat_minor": 2
}
