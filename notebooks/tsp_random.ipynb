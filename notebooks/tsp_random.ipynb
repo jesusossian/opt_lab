{
 "cells": [
  {
   "cell_type": "code",
   "execution_count": 1,
   "metadata": {},
   "outputs": [],
   "source": [
    "import math\n",
    "import random\n",
    "import networkx as nx\n",
    "import gurobipy as gp\n",
    "import matplotlib.pyplot as plt"
   ]
  },
  {
   "cell_type": "code",
   "execution_count": 78,
   "metadata": {},
   "outputs": [],
   "source": [
    "\"\"\"distance: euclidean distance between (x1,y1) and (x2,y2)\"\"\"\n",
    "def distance(x1,y1,x2,y2):\n",
    "    return math.sqrt((x2-x1)**2 + (y2-y1)**2)"
   ]
  },
  {
   "cell_type": "code",
   "execution_count": 79,
   "metadata": {},
   "outputs": [],
   "source": [
    "\"\"\"make_data: compute matrix distance based on euclidean distance\"\"\"\n",
    "def make_data(n):\n",
    "    V = range(1,n+1)\n",
    "    x = dict([(i,random.random()) for i in V])\n",
    "    y = dict([(i,random.random()) for i in V])\n",
    "    \n",
    "    c = {}\n",
    "    points = []\n",
    "    for i in V:\n",
    "        points.append((x[i],y[i]))\n",
    "        for j in V:\n",
    "            if j > i:\n",
    "                c[i,j] = distance(x[i],y[i],x[j],y[j])\n",
    "    return V,c, points"
   ]
  },
  {
   "cell_type": "code",
   "execution_count": 80,
   "metadata": {},
   "outputs": [],
   "source": [
    "n = 20\n",
    "seed = 1\n",
    "random.seed(seed)\n",
    "V,c,points = make_data(n)\n",
    "\n",
    "#points"
   ]
  },
  {
   "cell_type": "code",
   "execution_count": 81,
   "metadata": {},
   "outputs": [
    {
     "data": {
      "image/png": "[encoded data removed]",
      "text/plain": [
       "<Figure size 1080x576 with 1 Axes>"
      ]
     },
     "metadata": {
      "needs_background": "light"
     },
     "output_type": "display_data"
    }
   ],
   "source": [
    "X = [x[0] for x in points]\n",
    "Y = [y[1] for y in points]\n",
    "\n",
    "\n",
    "plt.figure(figsize=(15,8))\n",
    "plt.scatter(X,Y,color='blue')\n",
    "\n",
    "#for t in range(n):\n",
    "#    plt.annotate(str(t), xy=(X[t],Y[t]), xytext = (X[t]+0.5, Y[t]+1), color='red')\n",
    "\n",
    "plt.xlabel(\"eixo X\")\n",
    "plt.ylabel(\"eixo Y\")\n",
    "plt.title(\"Location\")\n",
    "plt.show()"
   ]
  },
  {
   "cell_type": "code",
   "execution_count": 82,
   "metadata": {},
   "outputs": [],
   "source": [
    "def solve_tsp(V,c):\n",
    "    \n",
    "    # elimination subtour\n",
    "    def addcut(cut_edges):\n",
    "        print(\"teste\")\n",
    "        G = nx.Graph()\n",
    "        G.add_edges_from(cut_edges)\n",
    "        Components = list(nx.connected_components(G))\n",
    "\n",
    "        if len(list(Components)) == 1:\n",
    "            print(\"encontrou somente uma componente\")\n",
    "            return False\n",
    "        \n",
    "        for S in list(Components):\n",
    "            print(\"componente maior que 1\")\n",
    "            if (len(S)<=n-1):\n",
    "                model.addConstr(gp.quicksum(x[i,j] for i in S for j in S if j>i) <= len(S)-1)\n",
    "                print(\"cut: len(%s) <= %s\" % (S,len(S)-1))\n",
    "        \n",
    "        return True\n",
    "\n",
    "    # model\n",
    "    model = gp.Model(\"tsp\")\n",
    "\n",
    "    # silent/verbose mode\n",
    "    model.Params.OutputFlag = 0 \n",
    "    \n",
    "    # variables\n",
    "    x = {}\n",
    "    for i in V:\n",
    "        for j in V:\n",
    "            if j > i:\n",
    "                x[i,j] = model.addVar(ub=1, name=\"x(%s,%s)\"%(i,j))\n",
    "    model.update()\n",
    "    \n",
    "    # constraints assigment\n",
    "    for i in V:\n",
    "        model.addConstr(gp.quicksum(x[j,i] for j in V if j < i) + gp.quicksum(x[i,j] for j in V if j > i) == 2, \"degree(%s)\"%i)\n",
    "    \n",
    "    model.setObjective(gp.quicksum(c[i,j]*x[i,j] for i in V for j in V if j > i), gp.GRB.MINIMIZE)\n",
    "\n",
    "    # cut stratege\n",
    "    EPS = 1.e-6\n",
    "    while True:\n",
    "        model.optimize()\n",
    "        edges = []\n",
    "        for (i,j) in x:\n",
    "            if x[i,j].X > EPS:\n",
    "                edges.append((i,j))\n",
    "\n",
    "        if addcut(edges) == False:\n",
    "            # integer variables, components connected: solution found\n",
    "            if model.IsMIP:     \n",
    "                break\n",
    "            # all components connected, switch to integer model\n",
    "            for (i,j) in x: \n",
    "                x[i,j].VType = \"B\"\n",
    "\n",
    "            model.update()\n",
    "\n",
    "    # get objval\n",
    "    objval = model.ObjVal\n",
    "\n",
    "    # get tour\n",
    "    val_edges = []\n",
    "    for (i,j) in x:\n",
    "        if j > i:\n",
    "            if x[i,j].X > 0.5:\n",
    "                val_edges.append((i,j))\n",
    "\n",
    "    return objval, val_edges"
   ]
  },
  {
   "cell_type": "code",
   "execution_count": 83,
   "metadata": {},
   "outputs": [
    {
     "name": "stdout",
     "output_type": "stream",
     "text": [
      "teste\n",
      "encontrou somente uma componente\n",
      "teste\n",
      "componente maior que 1\n",
      "cut: len({1, 4, 6, 9, 10, 14, 17, 20}) <= 7\n",
      "componente maior que 1\n",
      "cut: len({3, 19, 2, 18}) <= 3\n",
      "componente maior que 1\n",
      "cut: len({12, 5, 15}) <= 2\n",
      "componente maior que 1\n",
      "cut: len({7, 8, 11, 13, 16}) <= 4\n",
      "teste\n",
      "encontrou somente uma componente\n",
      "Optimal tour: [(1, 4), (1, 20), (2, 11), (2, 18), (3, 17), (3, 19), (4, 6), (5, 7), (5, 12), (6, 15), (7, 16), (8, 11), (8, 13), (9, 14), (9, 20), (10, 14), (10, 17), (12, 15), (13, 16), (18, 19)]\n",
      "Optimal cost:  3.78\n"
     ]
    },
    {
     "data": {
      "image/png": "[encoded data removed]",
      "text/plain": [
       "<Figure size 432x288 with 1 Axes>"
      ]
     },
     "metadata": {},
     "output_type": "display_data"
    }
   ],
   "source": [
    "obj, tour_edges = solve_tsp(V,c)\n",
    "\n",
    "print(\"Optimal tour:\", tour_edges)\n",
    "print(\"Optimal cost: \", round(obj,2))\n",
    "\n",
    "G = nx.Graph()\n",
    "G.add_edges_from(tour_edges)\n",
    "\n",
    "nx.draw(G,with_labels=\"True\")"
   ]
  },
  {
   "cell_type": "code",
   "execution_count": null,
   "metadata": {},
   "outputs": [],
   "source": []
  }
 ],
 "metadata": {
  "kernelspec": {
   "display_name": "Python 3",
   "language": "python",
   "name": "python3"
  },
  "language_info": {
   "codemirror_mode": {
    "name": "ipython",
    "version": 3
   },
   "file_extension": ".py",
   "mimetype": "text/x-python",
   "name": "python",
   "nbconvert_exporter": "python",
   "pygments_lexer": "ipython3",
   "version": "3.10.12"
  }
 },
 "nbformat": 4,
 "nbformat_minor": 2
}
