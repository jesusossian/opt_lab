{
 "cells": [
  {
   "attachments": {},
   "cell_type": "markdown",
   "metadata": {
    "slideshow": {
     "slide_type": "-"
    }
   },
   "source": [
    "## Capacitated Vehicle Routing Problem\n",
    "\n",
    "The capacitated vehicle routing problem (CVRP) is a combinatorial optimization problem in the area of logistics that aims to find a cheapest set of routes for a given fleet of vehicles such that all customers are served and the vehicle capacity is never exceeded.\n",
    "\n",
    "The problem is formally defined as follows.\n",
    "We are given\n",
    "* a depot 0 where all vehicles are located in the beginning,\n",
    "* a set of customers $C = \\{1,\\ldots,N\\}$,\n",
    "* a set of locations $L = \\{0\\} \\cup C$),\n",
    "* a demand $d_i \\ge 0$ for each customer $i \\in C$ (the depot has no demand, i.e., $d_0 = 0$),\n",
    "* costs $c_{ij} \\ge 0$ for traveling from customer or depot $i$ to customer or depot $j$,\n",
    "* and a homogeneous fleet $K=\\{1,\\ldots,|K|\\}$ of vehicles with load capacity $Q > 0$ which is the same for all vehicles.\n",
    "\n",
    "We want to find\n",
    "* an ordered visiting sequence of customers for each vehicle\n",
    "* with minimal total routing costs,\n",
    "such that\n",
    "* each customer is visited exactly once,\n",
    "* and the vehicle capacity is never exceeded.\n",
    "\n",
    "This notebook demonstrates several ways to model the CVRP as mixed-integer linear program (MILP), without use of sophisticated column generation or cutting plane methods as needed in state-of-the-art approaches. \n",
    "Therefore, the presented models have limited performance compared to the state-of-the-art, independent of the used solver. \n",
    "Still, the formulations presented here can be a starting point to evaluate the performance for your problem instances."
   ]
  },
  {
   "cell_type": "markdown",
   "metadata": {
    "slideshow": {
     "slide_type": "-"
    }
   },
   "source": [
    "### Instance Configuration\n",
    "\n",
    "The first part is dedicated to setting up the instance data. \n",
    "For demonstration purposes, we generate artificial data in the following way:\n",
    "* We predefine the number of customers, the number of available vehicles, their load capacity, and a range for the customer demands.\n",
    "* We place the depot and customers randomly in a 1000x1000 grid. \n",
    "This allows us to compute Euclidian distances which lead to reasonable relations between different connections. \n",
    "These distances are interpreted as traveling costs.\n",
    "* Customer demands are randomly generated in the predefined range."
   ]
  },
  {
   "cell_type": "code",
   "execution_count": 5,
   "metadata": {
    "slideshow": {
     "slide_type": "-"
    }
   },
   "outputs": [],
   "source": [
    "# library\n",
    "\n",
    "import math\n",
    "import random\n",
    "import gurobipy as gp\n",
    "from gurobipy import GRB\n"
   ]
  },
  {
   "cell_type": "code",
   "execution_count": 6,
   "metadata": {},
   "outputs": [],
   "source": [
    "### instance configuration\n",
    "\n",
    "# Example1:  30,  5, 30, 2, 5\n",
    "# Example2: 100, 60,  3, 1, 2\n",
    "numCustomers = 30\n",
    "maxNumVehicles = 5\n",
    "vehicleCapacity = 30\n",
    "demandMin = 2\n",
    "demandMax = 5"
   ]
  },
  {
   "cell_type": "markdown",
   "metadata": {
    "slideshow": {
     "slide_type": "-"
    }
   },
   "source": [
    "### Instance Generation"
   ]
  },
  {
   "cell_type": "code",
   "execution_count": 7,
   "metadata": {
    "slideshow": {
     "slide_type": "-"
    }
   },
   "outputs": [],
   "source": [
    "# instance generation\n",
    "\n",
    "random.seed(0)\n",
    "\n",
    "depot = 0\n",
    "customers = [*range(1, numCustomers + 1)] # set of customers\n",
    "locations = [depot] + customers # set of locations\n",
    "connections = [(i, j) for i in locations for j in locations if i != j] # set of arcs\n",
    "vehicles = [*range(1, maxNumVehicles + 1)] # set of vehicles\n",
    "\n",
    "# create random depot and customer locations in the Euclidian plane (1000x1000)\n",
    "points = [(random.randint(0, 999), random.randint(0, 999)) for i in locations]\n",
    "\n",
    "# dictionary of Euclidean distance between each pair of points (interpreted as travel costs)\n",
    "costs = {\n",
    "    (i, j): math.ceil(\n",
    "        math.sqrt(sum((points[i][k] - points[j][k]) ** 2 for k in range(2)))\n",
    "    )\n",
    "    for i in locations\n",
    "    for j in locations\n",
    "    if i != j\n",
    "}\n",
    "\n",
    "# create random demands in range [demandMin,demandMax]\n",
    "demands = {i: random.randint(demandMin, demandMax) for i in locations}\n",
    "\n",
    "# depot has no demand\n",
    "demands[0] = 0  "
   ]
  },
  {
   "cell_type": "markdown",
   "metadata": {
    "slideshow": {
     "slide_type": "-"
    }
   },
   "source": [
    "### Basic Route Model\n",
    "\n",
    "First, we state a basic route model that uses binary variables $x_{ij}$ for each potential directed connection from location (depot or customer) $i$ to location $j$:\n",
    "* The objective is to minimize the sum of costs of all used connections. \n",
    "* Each customer is visited exactly once, i.e., there is exactly one incoming connection and exactly one nextCustomer connection.\n",
    "* At most $|K|$ vehicles can be used.\n",
    "* We can also compute a lower bound on the number of needed vehicles, that is the sum of all demands divided by the vehicle capacity. \n",
    "This constraint is not necessary but sometimes helps to improve performance. \n",
    "Basically, this is the capacity cut for set $S = C$, see below.\n",
    "\n",
    "\\begin{align*}\n",
    "\\min ~ & \\sum_{i,j \\in L} c_{ij} x_{ij} \\\\\n",
    "& \\sum_{i \\in L} x_{ij} = 1, ~ \\forall j \\in C \\\\\n",
    "& \\sum_{j \\in L} x_{ij} = 1, ~ \\forall i \\in C \\\\\n",
    "& \\sum_{j \\in C} x_{0j} \\le |K| \\\\\n",
    "& \\sum_{j \\in C} x_{0j} \\ge \\left\\lceil \\frac{\\sum_{i \\in C} d_i}{Q} \\right\\rceil\n",
    "\\end{align*}\n",
    "\n",
    "#### Optional: Vehicle-indexed Basic Route Model\n",
    "\n",
    "Note that we did not use variables that assign connections or customers to particular vehicles. \n",
    "We have a homogeneous fleet in which all vehicles have exactly the same characteristics, so it does not matter which vehicle is assigned to which route. \n",
    "Using vehicle-specific variables could potentially simplify the solution retrieval afterwards, but would add many additional variables and constraints. \n",
    "Furthermore, solution symmetry would be introduced since each set of routes could be assigned to any permutation of vehicles, leading exactly to the same objective value but to different model solutions. \n",
    "This could significantly deteriorate solution performance.\n",
    "\n",
    "For demonstration purposes, we provide the option to use vehicle-indexed binary route variables $v^k_{ij}$ for each vehicle $k \\in K$, and each connection $(i,j)$ and the following basic route model:\n",
    "\n",
    "\\begin{align*}\n",
    "\\min ~ & \\sum_{k \\in K} \\sum_{i,j \\in L} c_{ij} v^k_{ij} \\\\\n",
    "& \\sum_{k \\in K} \\sum_{i \\in L} v^k_{ij} = 1, ~ \\forall j \\in C \\\\\n",
    "& \\sum_{k \\in K} \\sum_{j \\in L} v^k_{ij} = 1, ~ \\forall i \\in C \\\\\n",
    "& \\sum_{k \\in K} \\sum_{j \\in C} v^k_{0j} \\ge \\left\\lceil \\frac{\\sum_{i \\in C} d_i}{Q} \\right\\rceil \\\\\n",
    "& \\sum_{i \\in L} v^k_{ij} = \\sum_{i \\in L} v^k_{ji}, ~ \\forall j \\in C, ~ k \\in K\n",
    "\\end{align*}\n",
    "\n",
    "Note that the relation between $x$ and $v$ variables can be stated by:\n",
    "$$\\sum_{k \\in K} v^k_{ij} = x_{ij}, ~ \\forall i,j \\in L, ~ i \\neq j$$\n",
    "Therefore, all constraints except for the last set of flow conservation constraints are already implied by the basic route model defined only on the $x$ variables."
   ]
  },
  {
   "cell_type": "code",
   "execution_count": 8,
   "metadata": {
    "slideshow": {
     "slide_type": "-"
    }
   },
   "outputs": [],
   "source": [
    "### model configuration\n",
    "\n",
    "# 0: no vehicle index, 1: vehicle-indexed route variables\n",
    "vehicleIndexedRoutes = 0  "
   ]
  },
  {
   "cell_type": "markdown",
   "metadata": {},
   "source": [
    "### Basic Route Model Implementation"
   ]
  },
  {
   "cell_type": "code",
   "execution_count": 9,
   "metadata": {},
   "outputs": [],
   "source": [
    "def numVehiclesNeededForCustomers(customers):\n",
    "    sumDemand = 0\n",
    "    for i in customers:\n",
    "        sumDemand += demands[i]\n",
    "    return math.ceil(sumDemand / vehicleCapacity)"
   ]
  },
  {
   "cell_type": "code",
   "execution_count": 10,
   "metadata": {},
   "outputs": [
    {
     "name": "stdout",
     "output_type": "stream",
     "text": [
      "Set parameter Username\n",
      "Academic license - for non-commercial use only - expires 2024-10-15\n",
      "Warning: Gurobi version mismatch between Python 10.0.3 and C library 10.0.0\n"
     ]
    }
   ],
   "source": [
    "# formulation\n",
    "\n",
    "# create model for CVRP instance\n",
    "model = gp.Model(\"cvrp\")\n",
    "\n",
    "# binary variables x(i,j):\n",
    "# x(i,j) is 1 if some vehicle is going from node i to node j, 0 otherwise\n",
    "x = model.addVars(connections, vtype=GRB.BINARY, name=\"x\")\n",
    "\n",
    "# objective function: minimize sum of connection costs\n",
    "model.setObjective(x.prod(costs), GRB.MINIMIZE)\n",
    "\n",
    "# all customers have exactly one incoming and one outgoing connection\n",
    "model.addConstrs((x.sum(\"*\", j) == 1 for j in customers), name=\"incoming\")\n",
    "model.addConstrs((x.sum(i, \"*\") == 1 for i in customers), name=\"outgoing\")\n",
    "\n",
    "# vehicle limits\n",
    "model.addConstr(x.sum(0, \"*\") <= maxNumVehicles, name=\"maxNumVehicles\")\n",
    "model.addConstr(\n",
    "    x.sum(0, \"*\") >= numVehiclesNeededForCustomers(customers),\n",
    "    name=\"minNumVehicles\",\n",
    ")\n",
    "\n",
    "if vehicleIndexedRoutes == 1:\n",
    "    # binary variables v(i,j,k): is 1 if vehicle k is going from node i to node j, 0 otherwise\n",
    "    v = model.addVars(connections, vehicles, vtype=GRB.BINARY, name=\"v\")\n",
    "\n",
    "    # relation to vehicle-independent route variables\n",
    "    model.addConstrs(\n",
    "        (v.sum(i, j, \"*\") == x[i,j] for (i,j) in connections), \n",
    "        name=\"linking\"\n",
    "        )\n",
    "\n",
    "    # all customers have exactly one incoming and flow conservation has to hold for each vehicle\n",
    "    model.addConstrs(\n",
    "        (v.sum(\"*\", j, k) == v.sum(j, \"*\", k) for j in customers for k in vehicles), \n",
    "        name=\"flowConservation\"\n",
    "        )"
   ]
  },
  {
   "cell_type": "markdown",
   "metadata": {
    "slideshow": {
     "slide_type": "-"
    }
   },
   "source": [
    "### Load Models\n",
    "\n",
    "Up to now we still have two issues in our model:\n",
    "1. The vehicle capacity is ignored, so solutions might include routes with total customer demand that exceed the capacity.\n",
    "2. Less obvious is the fact that in the base route model solutions might have sub-tours, i.e., routes that are disconnected from the depot and include only customers.\n",
    "\n",
    "We will see that the following modeling approaches solve both issues at once."
   ]
  },
  {
   "cell_type": "markdown",
   "metadata": {},
   "source": [
    "#### Capacity Cut Model\n",
    "\n",
    "The first approach only uses the binary connection variables we already have. \n",
    "We state the fact that for each subset of customers there is a minimum amount of vehicles required to serve them:\n",
    "\n",
    "\\begin{align*}\n",
    "\\sum_{i \\notin S, j \\in S} x_{ij} & \\ge \\left\\lceil \\frac{\\sum_{c \\in S} d_c}{Q} \\right\\rceil ~ \\forall S \\subseteq C\n",
    "\\end{align*}\n",
    "\n",
    "These inequalities are called (rounded) capacity cuts and state that there has to be a minimum amount of connections going into each customer subset $S$. \n",
    "It can be shown that this is enough to ensure that the vehicle capacity is satisfied in all solutions that are feasible for these capacity cuts (together with the base route model). \n",
    "\n",
    "Additionally, the capacity cuts eliminate all sub-tours allowed in the base model. \n",
    "To see this, we define $S$ to be the set of customers that form a sub-tour, i.e., are not connected to the depot.\n",
    "Then, we can easily see that the corresponding capacity cut is violated since no connection is going into set $S$ from outside.\n",
    "\n",
    "The downside of the capacity cuts is that they are exponentially many so it is practically impossible to state all of them for a reasonable amount of customers. \n",
    "Usually, they are added dynamically in a cutting plane approach (with lazy-constraint and user-cut callbacks) but this involves according sophisticated callback methods to detect violated capacity cuts.\n",
    "\n",
    "Nevertheless, we (optionally) add some of the capacity cuts to the model, i.e., those that correspond to customer sets $S$ with cardinality 2 or 3. \n",
    "They are not required for validity of the model when one of the following load model approaches are present but they usually help to improve dual bounds.\n",
    "\n",
    "Below we use an equivalent form of the capacity cuts above that is much sparser for small customer sets and can be derived by exploiting the constraints from the base model.\n",
    "\n",
    "\\begin{align*}\n",
    "\\sum_{i,j \\in S} x_{ij} & \\le |S| - \\left\\lceil \\frac{\\sum_{c \\in S} d_c}{Q} \\right\\rceil ~ \\forall S \\subseteq C\n",
    "\\end{align*}\n"
   ]
  },
  {
   "cell_type": "markdown",
   "metadata": {},
   "source": [
    "#### Big-M Model\n",
    "\n",
    "The following modeling approach is used very frequently since it is quite intuitive and also used in many other optimization models. \n",
    "The main idea is to associate a continuous variable $y_i \\in [0,Q]$ to each customer $i \\in C$ that represents the load of the vehicle after picking up the customer's demand. \n",
    "Note that it does not matter whether we pick up demands or deliver them, as long as we stay consistent for all customers the set of feasible solutions stays the same.\n",
    "\n",
    "The following constraints model the fact that if connection $(i,j)$ is used then the vehicle load at $j$ is equal to the vehicle load at $i$ plus the demand at $j$. \n",
    "This if-then statement can be implemented with indicator constraints or directly with a Big-M approach:\n",
    "\n",
    "\\begin{align*}\n",
    "y_0 & = 0 \\\\\n",
    "y_i + d_j & \\le y_j + Q (1 - x_{ij}) ~ \\forall i \\in L,~ j \\in C, ~ i \\neq j \\\\\n",
    "y_i + d_j & \\ge y_j - (Q - d_i - d_j) (1 - x_{ij}) ~ \\forall i \\in L, ~ j \\in C, ~ i \\neq j \n",
    "\\end{align*}\n",
    "\n",
    "Since we limit the load variables by the vehicle capacity, the latter cannot be exceeded.\n",
    "Additionally, sub-tours are eliminated since the load has to monotonically increase along a route. \n",
    "In case of a sub-tour this would result in a conflict of the load values at some point. \n",
    "Contrary to this, in feasible routes the increase of load values is not required when coming back to the depot (note that the constraints above are not defined for $j = 0$).\n",
    "\n",
    "Although this approach only increases the model size slightly, the corresponding dual bounds obtained by solving the continuous relaxation are often weak. \n",
    "This can lead to large branch-and-bound trees and poor solution performance."
   ]
  },
  {
   "cell_type": "markdown",
   "metadata": {},
   "source": [
    "#### Flow Model\n",
    "\n",
    "Now, we extend the meaning of the variables used in the Big-M model. \n",
    "We introduce continuous variables $z_{ij} \\in [0,Q]$ for each connection $(i,j)$ to denote the vehicle load after picking up the demand at $i$ and proceeding to location $j$. \n",
    "We can also express the new variables with the previous ones in a non-linear way, i.e., $z_{ij} = y_i \\cdot x_{ij}$. \n",
    "In a different interpretation, these variables model the flow of goods on connection $(i,j)$ which suggests to use flow conservation constraints:\n",
    "\n",
    "\\begin{align*}\n",
    "z_{0j} & = 0 ~ \\forall j \\in C \\\\\n",
    "\\sum_{i \\in L} z_{ij} + d_j & = \\sum_{i \\in L} z_{ji} ~ \\forall j \\in C \\\\\n",
    "z_{ij} & \\ge d_i x_{ij} ~ \\forall i \\in C,~ j \\in L, ~ i \\neq j \\\\\n",
    "z_{ij} & \\le (Q - d_j) x_{ij} \\; \\forall i \\in C, ~ j \\in L, ~ i \\neq j \n",
    "\\end{align*}\n",
    "\n",
    "As the last two sets of constraints state, there can only be non-zero flow on connections that are chosen in the solution.\n",
    "The vehicle capacity is satisfied by definition, and with a similar argument as for the Big-M model sub-tours cannot appear in solutions since the flow conservation constraints (that are not defined for $j = 0$) do not allow a route including only customers.\n",
    "\n",
    "Although there are more variables in this model, in most cases it pays off since it provides dual bounds at least as good as the ones of the Big-M model, and mostly better.\n"
   ]
  },
  {
   "cell_type": "markdown",
   "metadata": {},
   "source": [
    "#### Multi-Commodity Flow Model\n",
    "\n",
    "We can even go one step further and disaggregate the flows by customer. \n",
    "We introduce variables $f^c_{ij} \\in [0,1]$ for each customer $c$ and connection $(i,j)$ to denote the fraction of customer $c$'s demand that has been picked up at customer $c$ and transported on connection $(i,j)$ back to the depot.\n",
    "The resulting flow system can be stated as follows:\n",
    "\n",
    "\\begin{align*}\n",
    "f^c_{0j} & = 0 ~ \\forall c,j \\in C \\\\\n",
    "\\sum_{i \\in L} f^j_{ji} & = 1 ~ \\forall j \\in C \\\\\n",
    "\\sum_{i \\in L} f^j_{i0} & = 1 ~ \\forall j \\in C \\\\\n",
    "\\sum_{i \\in L} f^c_{ij} & = \\sum_{i \\in L} f^c_{ji} ~ \\forall c,j \\in C, ~ c \\neq j \\\\\n",
    "f^c_{ij} & \\le x_{ij} ~ \\forall c \\in C, ~ i,j \\in L, ~ i \\neq j \\\\\n",
    "\\sum_{c \\in C} d_c f^c_{ij} & \\le Q x_{ij} ~ \\forall i,j \\in L, ~ i \\neq j\n",
    "\\end{align*}\n",
    "\n",
    "It can be shown that the resulting LP bound is at least as good as the one from the previous flow model, often much better. \n",
    "The larger number of variables and constraints, however, usually leads to worse performance in practice."
   ]
  },
  {
   "cell_type": "markdown",
   "metadata": {},
   "source": [
    "#### Discretized Model\n",
    "\n",
    "If the set of achievable vehicle load values is rather small then it makes sense to consider the modeling concept of discretization. \n",
    "For simplicity, we assume that the vehicle capacity and all demands are integer values, and therefore the load of the vehicle can only be in the set $D=\\{0,1,...,Q\\}$. \n",
    "Continuous values could be scaled appropriately but note that set $D$ should not get too large.\n",
    "\n",
    "Next, we introduce binary variables $w_{ijd}$ to state whether connection $(i,j)$ is used with vehicle load $d \\in D$ or not.\n",
    "The set of constraints looks similar to the flow constraints in the base route model:\n",
    "\n",
    "\\begin{align*}\n",
    "w_{0jd} & = 0 ~ \\forall j \\in C, ~ d \\neq 0 \\\\\n",
    "\\sum_{i \\in L} w_{ijd} & = \\sum_{i \\in L} w_{ji,d+d_j} ~ \\forall j \\in C, ~ d \\in D \\\\\n",
    "x_{ij} & = \\sum_{d \\in D} w_{ijd} ~ \\forall i,j \\in L, ~ i \\neq j\n",
    "\\end{align*}\n",
    "\n",
    "As you can see, the number of variables and constraints strongly depends on the size of set $D$.\n",
    "By definition of the variables, there cannot be a vehicle load larger than $Q$, implicitely ensuring the vehicle capacity.\n",
    "Again, since the vehicle load is monotonically increasing there would be a constraint conflict in a sub-tour only consisting of customers.\n",
    "\n",
    "The benefit of this modeling approach is that the model structure is quite simple, there are only binary variables, equalities, and coefficients of 0 and 1. \n",
    "This can lead to better performance in some cases."
   ]
  },
  {
   "cell_type": "markdown",
   "metadata": {},
   "source": [
    "Note that the modeling concepts discussed here can also be used for other constraints arising in vehicle routing, e.g., time windows at customers, time or distance constraints for routes, etc.\n",
    "\n",
    "In the following implementation, you can choose which load model you want to use, and whether you want to additionally add capacity cuts or not. \n",
    "This allows us to do some performance comparisons."
   ]
  },
  {
   "cell_type": "code",
   "execution_count": 11,
   "metadata": {
    "slideshow": {
     "slide_type": "-"
    }
   },
   "outputs": [],
   "source": [
    "### MODEL CONFIGURATION\n",
    "\n",
    "capacityCuts = 0  # 0: off, 2: cuts for |S|=2, 3: cuts for |S|<=3\n",
    "loadModelType = 2  # 1: big-M, 2: flow, 3: multi-flows, 4: discretization"
   ]
  },
  {
   "cell_type": "markdown",
   "metadata": {},
   "source": [
    "### Load Model Implementation"
   ]
  },
  {
   "cell_type": "code",
   "execution_count": 12,
   "metadata": {},
   "outputs": [],
   "source": [
    "def addRoundedCapacityCuts():\n",
    "    if capacityCuts >= 2:\n",
    "        model.addConstrs(\n",
    "            (\n",
    "                x[i, j] + x[j, i] <= 2 - numVehiclesNeededForCustomers([i, j])\n",
    "                for i in customers\n",
    "                for j in range(i + 1, numCustomers + 1)\n",
    "            ),\n",
    "            name=\"capcut2\",\n",
    "        )\n",
    "    if capacityCuts >= 3:\n",
    "        model.addConstrs(\n",
    "            (\n",
    "                x[i, j] + x[j, i] + x[i, k] + x[k, i] + x[j, k] + x[k, j]\n",
    "                <= 3 - numVehiclesNeededForCustomers([i, j, k])\n",
    "                for i in customers\n",
    "                for j in range(i + 1, numCustomers + 1)\n",
    "                for k in range(j + 1, numCustomers + 1)\n",
    "            ),\n",
    "            name=\"capcut3\",\n",
    "        )"
   ]
  },
  {
   "cell_type": "code",
   "execution_count": 13,
   "metadata": {},
   "outputs": [],
   "source": [
    "def addVehicleLoadConstraintsByBigM():\n",
    "\n",
    "    y = model.addVars(locations, lb=0, ub=vehicleCapacity, name=\"y\")\n",
    "    y[0].UB = 0  # empty load at depot\n",
    "\n",
    "    model.addConstrs(\n",
    "        (\n",
    "            y[i] + demands[j] <= y[j] + vehicleCapacity * (1 - x[i, j])\n",
    "            for i in locations\n",
    "            for j in customers\n",
    "            if i != j\n",
    "        ),\n",
    "        name=\"loadBigM1\",\n",
    "    )\n",
    "    model.addConstrs(\n",
    "        (\n",
    "            y[i] + demands[j]\n",
    "            >= y[j] - (vehicleCapacity - demands[i] - demands[j]) * (1 - x[i, j])\n",
    "            for i in locations\n",
    "            for j in customers\n",
    "            if i != j\n",
    "        ),\n",
    "        name=\"loadBigM2\",\n",
    "    )"
   ]
  },
  {
   "cell_type": "code",
   "execution_count": 14,
   "metadata": {},
   "outputs": [],
   "source": [
    "def addVehicleLoadConstraintsByFlows():\n",
    "\n",
    "    z = model.addVars(connections, lb=0, ub=vehicleCapacity, name=\"z\")\n",
    "\n",
    "    for i in customers:\n",
    "        z[0, i].UB = 0\n",
    "\n",
    "    model.addConstrs(\n",
    "        (z.sum(\"*\", j) + demands[j] == z.sum(j, \"*\") for j in customers),\n",
    "        name=\"flowConservation\",\n",
    "    )\n",
    "    model.addConstrs(\n",
    "        (\n",
    "            z[i, j] >= demands[i] * x[i, j]\n",
    "            for i in customers\n",
    "            for j in locations\n",
    "            if i != j\n",
    "        ),\n",
    "        name=\"loadLowerBound\",\n",
    "    )\n",
    "    model.addConstrs(\n",
    "        (\n",
    "            z[i, j] <= (vehicleCapacity - demands[j]) * x[i, j]\n",
    "            for i in customers\n",
    "            for j in locations\n",
    "            if i != j\n",
    "        ),\n",
    "        name=\"loadUpperBound\",\n",
    "    )"
   ]
  },
  {
   "cell_type": "code",
   "execution_count": 15,
   "metadata": {},
   "outputs": [],
   "source": [
    "def addVehicleLoadConstraintsByMultiCommodityFlows():\n",
    "\n",
    "    f = model.addVars(connections, customers, lb=0, ub=1, name=\"f\")\n",
    "\n",
    "    for c in customers:\n",
    "        for (i, j) in connections:\n",
    "            if i == 0 or c == j:\n",
    "                f[i, j, c].UB = 0\n",
    "\n",
    "    model.addConstrs((f.sum(j, \"*\", j) == 1 for j in customers), name=\"pickup\")\n",
    "    model.addConstrs((f.sum(\"*\", 0, j) == 1 for j in customers), name=\"return\")\n",
    "    model.addConstrs(\n",
    "        (\n",
    "            f.sum(\"*\", j, c) == f.sum(j, \"*\", c)\n",
    "            for j in customers\n",
    "            for c in customers\n",
    "            if c != j\n",
    "        ),\n",
    "        name=\"flowConservation\",\n",
    "    )\n",
    "    model.addConstrs(\n",
    "        (f[i, j, c] <= x[i, j] for (i, j) in connections for c in customers),\n",
    "        name=\"links\",\n",
    "    )\n",
    "    model.addConstrs(\n",
    "        (\n",
    "            gp.quicksum(demands[c] * f[i, j, c] for c in customers)\n",
    "            <= (vehicleCapacity - demands[j]) * x[i, j]\n",
    "            for (i, j) in connections\n",
    "        ),\n",
    "        name=\"capacity\",\n",
    "    )"
   ]
  },
  {
   "cell_type": "code",
   "execution_count": 16,
   "metadata": {},
   "outputs": [],
   "source": [
    "def addVehicleLoadConstraintsByDiscretization():\n",
    "\n",
    "    loadValues = [*range(vehicleCapacity + 1)]\n",
    "    w = model.addVars(connections, loadValues, vtype=GRB.BINARY, name=\"w\")\n",
    "\n",
    "    for j in customers:\n",
    "        for d in loadValues:\n",
    "            if d != 0:\n",
    "                w[0, j, d].UB = 0\n",
    "\n",
    "    model.addConstrs(\n",
    "        (\n",
    "            w.sum(\"*\", j, d) == w.sum(j, \"*\", d + demands[j])\n",
    "            for j in customers\n",
    "            for d in loadValues\n",
    "        ),\n",
    "        name=\"flowConservation\",\n",
    "    )\n",
    "    model.addConstrs(\n",
    "        (x[i, j] == w.sum(i, j, \"*\") for (i, j) in connections), name=\"linking\"\n",
    "    )"
   ]
  },
  {
   "cell_type": "code",
   "execution_count": 17,
   "metadata": {},
   "outputs": [],
   "source": [
    "if capacityCuts > 0:\n",
    "    addRoundedCapacityCuts()\n",
    "\n",
    "if loadModelType == 1:\n",
    "    addVehicleLoadConstraintsByBigM()\n",
    "elif loadModelType == 2:\n",
    "    addVehicleLoadConstraintsByFlows()\n",
    "elif loadModelType == 3:\n",
    "    addVehicleLoadConstraintsByMultiCommodityFlows()\n",
    "elif loadModelType == 4:\n",
    "    addVehicleLoadConstraintsByDiscretization()"
   ]
  },
  {
   "cell_type": "markdown",
   "metadata": {},
   "source": [
    "### Solve Model"
   ]
  },
  {
   "cell_type": "code",
   "execution_count": 18,
   "metadata": {
    "slideshow": {
     "slide_type": "-"
    }
   },
   "outputs": [
    {
     "name": "stdout",
     "output_type": "stream",
     "text": [
      "Set parameter MIPGap to value 1e-06\n",
      "Set parameter Threads to value 1\n",
      "Set parameter Presolve to value 0\n",
      "Set parameter Cuts to value 1\n"
     ]
    }
   ],
   "source": [
    "# parameters value\n",
    "MAX_CPU_TIME = 600\n",
    "EPSILON= 1.e-6\n",
    "\n",
    "# export .lp\n",
    "#model.write(file_name+\"_model.lp\")\n",
    "\n",
    "# parameters config\n",
    "#model.Params.IterationLimit = 1000 # number of simplex iteration\n",
    "#model.Params.TimeLimit = 60 # time limite\n",
    "model.Params.MIPGap = 1.e-6 # MIPGap\n",
    "#model.Params.method = 1 # method root\n",
    "#model.Params.NodeMethod = -1 #  -1=automatic, 0=primal simplex, 1=dual simplex, and 2=barrier\n",
    "model.Params.Threads = 1\n",
    "model.Params.Presolve = 0\n",
    "model.Params.Cuts = 1\n",
    "    \n",
    "# Turn off display\n",
    "gp.setParam('OutputFlag', 0)\n",
    "\n",
    "# Turn off heuristics\n",
    "#gp.setParam('Heuristics', 0)\n",
    "\n",
    "# open log file\n",
    "#_ = open('log/cvrp.log', 'w')\n",
    "\n",
    "model.optimize()"
   ]
  },
  {
   "cell_type": "markdown",
   "metadata": {
    "slideshow": {
     "slide_type": "-"
    }
   },
   "source": [
    "### Solution Retrieval\n",
    "\n",
    "What we basically want to know is the ordered sequence of customers each vehicle should visit.\n",
    "We did not use variables that assign connections or customers to vehicles (when using the basic route model without vehicle-index), so the question is whether it is possible to retrieve a unique set of routes only based on the set of used connections defined by the $x$-variables.\n",
    "This is indeed possible since each customer is visited exactly once. We iteratively pick one of the connections leaving the depot, and follow the path until we get back to the depot. Note that there is exactly one incoming and one outgoing connection at each customer, so it is clear where a route continues.\n",
    "\n",
    "Additional to reconstructing the routes, we check whether the vehicle load does not exceed the capacity on each route, and each customer is visited from the depot. This is not necessary as long as the model is correct but it helps significantly in the debugging phase."
   ]
  },
  {
   "cell_type": "code",
   "execution_count": 30,
   "metadata": {},
   "outputs": [],
   "source": [
    "status = 0\n",
    "if model.status == GRB.OPTIMAL:\n",
    "    status = 1\n",
    " \n",
    "objbound = model.objBound\n",
    "objval = model.objVal\n",
    "mipgap = model.MIPGap\n",
    "runtime = model.Runtime\n",
    "nodecount = model.NodeCount"
   ]
  },
  {
   "cell_type": "code",
   "execution_count": 31,
   "metadata": {
    "slideshow": {
     "slide_type": "-"
    }
   },
   "outputs": [
    {
     "name": "stdout",
     "output_type": "stream",
     "text": [
      "Solution contains 4 routes:\n",
      "Route 0: 0 -> 10 -> 27 -> 18 -> 0, load = 11 of 30\n",
      "Route 1: 0 -> 16 -> 5 -> 7 -> 3 -> 15 -> 23 -> 4 -> 29 -> 8 -> 0, load = 30 of 30\n",
      "Route 2: 0 -> 22 -> 25 -> 24 -> 12 -> 19 -> 2 -> 11 -> 20 -> 13 -> 0, load = 29 of 30\n",
      "Route 3: 0 -> 30 -> 17 -> 26 -> 14 -> 9 -> 1 -> 6 -> 21 -> 28 -> 0, load = 30 of 30\n",
      "Unvisited customers: "
     ]
    }
   ],
   "source": [
    "if model.SolCount >= 1:\n",
    "\n",
    "    usedConnections = [(i, j) for (i, j) in x.keys() if x[i, j].X > 0.5]\n",
    "\n",
    "    # create a dict for the next customer based on the current one \n",
    "    # (note that the depot in general has multiple outgoing connections)\n",
    "    nextCustomer = {}\n",
    "    for (i, j) in usedConnections:\n",
    "        if i == 0:\n",
    "            if 0 not in nextCustomer.keys():\n",
    "                nextCustomer[0] = []\n",
    "            nextCustomer[0].append(j)\n",
    "        else:\n",
    "            nextCustomer[i] = j\n",
    "\n",
    "    print(f\"Solution contains {len(nextCustomer[0])} routes:\")\n",
    "    routeNumber = 0\n",
    "    visitedCustomers = [False] * (numCustomers + 1)\n",
    "    for firstCustomer in nextCustomer[0]:\n",
    "        print(f\"Route {routeNumber}: 0 -> \", end=\"\")\n",
    "        vehicleLoad = 0\n",
    "        currentCustomer = firstCustomer\n",
    "        while currentCustomer != 0:\n",
    "            print(f\"{currentCustomer} -> \", end=\"\")\n",
    "            visitedCustomers[currentCustomer] = True\n",
    "            vehicleLoad += demands[currentCustomer]\n",
    "            currentCustomer = nextCustomer[currentCustomer]\n",
    "        print(f\"0, load = {vehicleLoad} of {vehicleCapacity}\")\n",
    "        if vehicleLoad > vehicleCapacity:\n",
    "            print(\"Vehicle capacity is exceeded!\")\n",
    "        routeNumber += 1\n",
    "\n",
    "    print(\"Unvisited customers: \", end=\"\")\n",
    "    for c in customers:\n",
    "        if visitedCustomers[c] == False:\n",
    "            print(f\"{c}, \", end=\"\")"
   ]
  },
  {
   "cell_type": "code",
   "execution_count": 33,
   "metadata": {},
   "outputs": [
    {
     "name": "stdout",
     "output_type": "stream",
     "text": [
      "bound = 6046.999999999999\n",
      "val = 6046.999999999999\n",
      "gap = 0.0\n",
      "time =  143.54062795639038\n",
      "nodes =  46009.0\n",
      "status =  1\n"
     ]
    }
   ],
   "source": [
    "print(\"bound =\", objbound)\n",
    "print(\"val =\",objval)\n",
    "print(\"gap =\", mipgap)\n",
    "print(\"time = \", runtime)\n",
    "print(\"nodes = \", nodecount)\n",
    "print(\"status = \", status)"
   ]
  },
  {
   "cell_type": "code",
   "execution_count": null,
   "metadata": {},
   "outputs": [],
   "source": [
    "arquivo = open(f'result/cvrp.csv','a')\n",
    "arquivo.write(\n",
    "#    str(f\"{dim}_{perc}_{t}\")+';'\n",
    "    +str(round(objbound,1))+';'\n",
    "    +str(round(objval,1))+';'\n",
    "    +str(round(mipgap,2))+';'\n",
    "    +str(round(runtime,2))+';'\n",
    "    +str(round(nodecount,1))+';'\n",
    "    +str(round(status,1))+'\\n'\n",
    ")\n",
    "arquivo.close()"
   ]
  },
  {
   "cell_type": "code",
   "execution_count": 15,
   "metadata": {},
   "outputs": [],
   "source": [
    "if model.Status == GRB.INFEASIBLE:\n",
    "    model.computeIIS()\n",
    "    model.write(\"iis.ilp\")"
   ]
  },
  {
   "cell_type": "code",
   "execution_count": 16,
   "metadata": {},
   "outputs": [
    {
     "name": "stdout",
     "output_type": "stream",
     "text": [
      "Freeing default Gurobi environment\n"
     ]
    }
   ],
   "source": [
    "# free resources\n",
    "model.dispose()\n",
    "gp.disposeDefaultEnv()"
   ]
  },
  {
   "cell_type": "code",
   "execution_count": null,
   "metadata": {},
   "outputs": [],
   "source": []
  }
 ],
 "metadata": {
  "celltoolbar": "Slideshow",
  "kernelspec": {
   "display_name": "Python 3 (ipykernel)",
   "language": "python",
   "name": "python3"
  },
  "language_info": {
   "codemirror_mode": {
    "name": "ipython",
    "version": 3
   },
   "file_extension": ".py",
   "mimetype": "text/x-python",
   "name": "python",
   "nbconvert_exporter": "python",
   "pygments_lexer": "ipython3",
   "version": "3.10.12"
  },
  "vscode": {
   "interpreter": {
    "hash": "d2bb2f0f25f8eb25871f53ccd65c3da97ae07c338e4b69fda75e4697888288d1"
   }
  }
 },
 "nbformat": 4,
 "nbformat_minor": 4
}
